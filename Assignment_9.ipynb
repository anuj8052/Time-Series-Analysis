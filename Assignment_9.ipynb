{
  "nbformat": 4,
  "nbformat_minor": 0,
  "metadata": {
    "colab": {
      "provenance": []
    },
    "kernelspec": {
      "name": "python3",
      "display_name": "Python 3"
    },
    "language_info": {
      "name": "python"
    }
  },
  "cells": [
    {
      "cell_type": "code",
      "execution_count": null,
      "metadata": {
        "id": "ULjOq1n0xDXu"
      },
      "outputs": [],
      "source": [
        "import numpy as np\n",
        "import pandas as pd\n",
        "import matplotlib.pyplot as plt\n",
        "%matplotlib inline"
      ]
    },
    {
      "cell_type": "code",
      "source": [
        "df = pd.read_csv(\"/content/Assignment - Sheet1.csv\")\n",
        "df.head()"
      ],
      "metadata": {
        "colab": {
          "base_uri": "https://localhost:8080/",
          "height": 206
        },
        "id": "lzf9LPF2zg_Q",
        "outputId": "023e35ad-f324-4891-a13b-e8f75b81f5a3"
      },
      "execution_count": null,
      "outputs": [
        {
          "output_type": "execute_result",
          "data": {
            "text/plain": [
              "         Date  GDP Growth  Stock Index  Repo Rate  Unemployment Rate\n",
              "0   3/31/1999         0.5      2028.21     11.875                9.1\n",
              "1   6/30/1999         3.1      2486.96      9.125               11.9\n",
              "2   9/30/1999         3.6      2096.20      9.000                8.4\n",
              "3  12/31/1999         4.9      2142.97      8.750                9.5\n",
              "4   3/31/2000         4.1      1681.72      8.750                9.5"
            ],
            "text/html": [
              "\n",
              "  <div id=\"df-e5262c42-6127-46d1-ba78-8f99e7b87a02\">\n",
              "    <div class=\"colab-df-container\">\n",
              "      <div>\n",
              "<style scoped>\n",
              "    .dataframe tbody tr th:only-of-type {\n",
              "        vertical-align: middle;\n",
              "    }\n",
              "\n",
              "    .dataframe tbody tr th {\n",
              "        vertical-align: top;\n",
              "    }\n",
              "\n",
              "    .dataframe thead th {\n",
              "        text-align: right;\n",
              "    }\n",
              "</style>\n",
              "<table border=\"1\" class=\"dataframe\">\n",
              "  <thead>\n",
              "    <tr style=\"text-align: right;\">\n",
              "      <th></th>\n",
              "      <th>Date</th>\n",
              "      <th>GDP Growth</th>\n",
              "      <th>Stock Index</th>\n",
              "      <th>Repo Rate</th>\n",
              "      <th>Unemployment Rate</th>\n",
              "    </tr>\n",
              "  </thead>\n",
              "  <tbody>\n",
              "    <tr>\n",
              "      <th>0</th>\n",
              "      <td>3/31/1999</td>\n",
              "      <td>0.5</td>\n",
              "      <td>2028.21</td>\n",
              "      <td>11.875</td>\n",
              "      <td>9.1</td>\n",
              "    </tr>\n",
              "    <tr>\n",
              "      <th>1</th>\n",
              "      <td>6/30/1999</td>\n",
              "      <td>3.1</td>\n",
              "      <td>2486.96</td>\n",
              "      <td>9.125</td>\n",
              "      <td>11.9</td>\n",
              "    </tr>\n",
              "    <tr>\n",
              "      <th>2</th>\n",
              "      <td>9/30/1999</td>\n",
              "      <td>3.6</td>\n",
              "      <td>2096.20</td>\n",
              "      <td>9.000</td>\n",
              "      <td>8.4</td>\n",
              "    </tr>\n",
              "    <tr>\n",
              "      <th>3</th>\n",
              "      <td>12/31/1999</td>\n",
              "      <td>4.9</td>\n",
              "      <td>2142.97</td>\n",
              "      <td>8.750</td>\n",
              "      <td>9.5</td>\n",
              "    </tr>\n",
              "    <tr>\n",
              "      <th>4</th>\n",
              "      <td>3/31/2000</td>\n",
              "      <td>4.1</td>\n",
              "      <td>1681.72</td>\n",
              "      <td>8.750</td>\n",
              "      <td>9.5</td>\n",
              "    </tr>\n",
              "  </tbody>\n",
              "</table>\n",
              "</div>\n",
              "      <button class=\"colab-df-convert\" onclick=\"convertToInteractive('df-e5262c42-6127-46d1-ba78-8f99e7b87a02')\"\n",
              "              title=\"Convert this dataframe to an interactive table.\"\n",
              "              style=\"display:none;\">\n",
              "        \n",
              "  <svg xmlns=\"http://www.w3.org/2000/svg\" height=\"24px\"viewBox=\"0 0 24 24\"\n",
              "       width=\"24px\">\n",
              "    <path d=\"M0 0h24v24H0V0z\" fill=\"none\"/>\n",
              "    <path d=\"M18.56 5.44l.94 2.06.94-2.06 2.06-.94-2.06-.94-.94-2.06-.94 2.06-2.06.94zm-11 1L8.5 8.5l.94-2.06 2.06-.94-2.06-.94L8.5 2.5l-.94 2.06-2.06.94zm10 10l.94 2.06.94-2.06 2.06-.94-2.06-.94-.94-2.06-.94 2.06-2.06.94z\"/><path d=\"M17.41 7.96l-1.37-1.37c-.4-.4-.92-.59-1.43-.59-.52 0-1.04.2-1.43.59L10.3 9.45l-7.72 7.72c-.78.78-.78 2.05 0 2.83L4 21.41c.39.39.9.59 1.41.59.51 0 1.02-.2 1.41-.59l7.78-7.78 2.81-2.81c.8-.78.8-2.07 0-2.86zM5.41 20L4 18.59l7.72-7.72 1.47 1.35L5.41 20z\"/>\n",
              "  </svg>\n",
              "      </button>\n",
              "      \n",
              "  <style>\n",
              "    .colab-df-container {\n",
              "      display:flex;\n",
              "      flex-wrap:wrap;\n",
              "      gap: 12px;\n",
              "    }\n",
              "\n",
              "    .colab-df-convert {\n",
              "      background-color: #E8F0FE;\n",
              "      border: none;\n",
              "      border-radius: 50%;\n",
              "      cursor: pointer;\n",
              "      display: none;\n",
              "      fill: #1967D2;\n",
              "      height: 32px;\n",
              "      padding: 0 0 0 0;\n",
              "      width: 32px;\n",
              "    }\n",
              "\n",
              "    .colab-df-convert:hover {\n",
              "      background-color: #E2EBFA;\n",
              "      box-shadow: 0px 1px 2px rgba(60, 64, 67, 0.3), 0px 1px 3px 1px rgba(60, 64, 67, 0.15);\n",
              "      fill: #174EA6;\n",
              "    }\n",
              "\n",
              "    [theme=dark] .colab-df-convert {\n",
              "      background-color: #3B4455;\n",
              "      fill: #D2E3FC;\n",
              "    }\n",
              "\n",
              "    [theme=dark] .colab-df-convert:hover {\n",
              "      background-color: #434B5C;\n",
              "      box-shadow: 0px 1px 3px 1px rgba(0, 0, 0, 0.15);\n",
              "      filter: drop-shadow(0px 1px 2px rgba(0, 0, 0, 0.3));\n",
              "      fill: #FFFFFF;\n",
              "    }\n",
              "  </style>\n",
              "\n",
              "      <script>\n",
              "        const buttonEl =\n",
              "          document.querySelector('#df-e5262c42-6127-46d1-ba78-8f99e7b87a02 button.colab-df-convert');\n",
              "        buttonEl.style.display =\n",
              "          google.colab.kernel.accessAllowed ? 'block' : 'none';\n",
              "\n",
              "        async function convertToInteractive(key) {\n",
              "          const element = document.querySelector('#df-e5262c42-6127-46d1-ba78-8f99e7b87a02');\n",
              "          const dataTable =\n",
              "            await google.colab.kernel.invokeFunction('convertToInteractive',\n",
              "                                                     [key], {});\n",
              "          if (!dataTable) return;\n",
              "\n",
              "          const docLinkHtml = 'Like what you see? Visit the ' +\n",
              "            '<a target=\"_blank\" href=https://colab.research.google.com/notebooks/data_table.ipynb>data table notebook</a>'\n",
              "            + ' to learn more about interactive tables.';\n",
              "          element.innerHTML = '';\n",
              "          dataTable['output_type'] = 'display_data';\n",
              "          await google.colab.output.renderOutput(dataTable, element);\n",
              "          const docLink = document.createElement('div');\n",
              "          docLink.innerHTML = docLinkHtml;\n",
              "          element.appendChild(docLink);\n",
              "        }\n",
              "      </script>\n",
              "    </div>\n",
              "  </div>\n",
              "  "
            ]
          },
          "metadata": {},
          "execution_count": 74
        }
      ]
    },
    {
      "cell_type": "code",
      "source": [
        "import seaborn as sns"
      ],
      "metadata": {
        "id": "dHqfBoNnEY1b"
      },
      "execution_count": null,
      "outputs": []
    },
    {
      "cell_type": "code",
      "source": [
        "sns.pairplot(df)"
      ],
      "metadata": {
        "colab": {
          "base_uri": "https://localhost:8080/",
          "height": 744
        },
        "id": "PJ3PU0YUDys7",
        "outputId": "fe576776-f5ad-44b6-916a-e2d490fafdd4"
      },
      "execution_count": null,
      "outputs": [
        {
          "output_type": "execute_result",
          "data": {
            "text/plain": [
              "<seaborn.axisgrid.PairGrid at 0x7ff910bb4280>"
            ]
          },
          "metadata": {},
          "execution_count": 109
        },
        {
          "output_type": "display_data",
          "data": {
            "text/plain": [
              "<Figure size 720x720 with 20 Axes>"
            ],
            "image/png": "[encoded data removed]"
          },
          "metadata": {
            "needs_background": "light"
          }
        }
      ]
    },
    {
      "cell_type": "code",
      "source": [
        "sns.lineplot(data=df, x=\"Repo Rate\", y=\"GDP Growth\")"
      ],
      "metadata": {
        "colab": {
          "base_uri": "https://localhost:8080/",
          "height": 297
        },
        "id": "DgULmRy_Er_r",
        "outputId": "6059968c-f69f-41e7-c7da-3d120c7fa1fe"
      },
      "execution_count": null,
      "outputs": [
        {
          "output_type": "execute_result",
          "data": {
            "text/plain": [
              "<Axes: xlabel='Repo Rate', ylabel='GDP Growth'>"
            ]
          },
          "metadata": {},
          "execution_count": 111
        },
        {
          "output_type": "display_data",
          "data": {
            "text/plain": [
              "<Figure size 432x288 with 1 Axes>"
            ],
            "image/png": "[encoded data removed]"
          },
          "metadata": {
            "needs_background": "light"
          }
        }
      ]
    },
    {
      "cell_type": "markdown",
      "source": [
        "Adfuller Test For Unit Root"
      ],
      "metadata": {
        "id": "P25TKQiAFoar"
      }
    },
    {
      "cell_type": "code",
      "source": [
        "from statsmodels.tsa.stattools import adfuller"
      ],
      "metadata": {
        "id": "3dY-lU1ezyq_"
      },
      "execution_count": null,
      "outputs": []
    },
    {
      "cell_type": "code",
      "source": [
        "def adf_test(series,title=''):\n",
        "    \"\"\"\n",
        "    Pass in a time series and an optional title, returns an ADF report\n",
        "    \"\"\"\n",
        "    print(f'Augmented Dickey-Fuller Test: {title}')\n",
        "    result = adfuller(series.dropna(),autolag='AIC') # .dropna() handles differenced data\n",
        "    labels = ['ADF test statistic','p-value','# lags used','# observations']\n",
        "    out = pd.Series(result[0:4],index=labels)\n",
        "    for key,val in result[4].items():\n",
        "        out[f'critical value ({key})']=val\n",
        "    print(out.to_string())          # .to_string() removes the line \"dtype: float64\"\n",
        "    if result[1] <= 0.05:\n",
        "        print(\"Strong evidence against the null hypothesis\")\n",
        "        print(\"Reject the null hypothesis\")\n",
        "        print(\"Data has no unit root and is stationary\")\n",
        "    else:\n",
        "        print(\"Weak evidence against the null hypothesis\")\n",
        "        print(\"Fail to reject the null hypothesis\")\n",
        "        print(\"Data has a unit root and is non-stationary\")"
      ],
      "metadata": {
        "id": "6LQZ2mr5zq6-"
      },
      "execution_count": null,
      "outputs": []
    },
    {
      "cell_type": "code",
      "source": [
        "adf_test(df['GDP Growth'])"
      ],
      "metadata": {
        "colab": {
          "base_uri": "https://localhost:8080/"
        },
        "id": "eZrr0nUpz8au",
        "outputId": "40a91bdd-32b3-4091-a518-41aed41ed028"
      },
      "execution_count": null,
      "outputs": [
        {
          "output_type": "stream",
          "name": "stdout",
          "text": [
            "Augmented Dickey-Fuller Test: \n",
            "ADF test statistic      -3.961693\n",
            "p-value                  0.001625\n",
            "# lags used              1.000000\n",
            "# observations          89.000000\n",
            "critical value (1%)     -3.506057\n",
            "critical value (5%)     -2.894607\n",
            "critical value (10%)    -2.584410\n",
            "Strong evidence against the null hypothesis\n",
            "Reject the null hypothesis\n",
            "Data has no unit root and is stationary\n"
          ]
        }
      ]
    },
    {
      "cell_type": "code",
      "source": [
        "adf_test(df['Stock Index'])"
      ],
      "metadata": {
        "colab": {
          "base_uri": "https://localhost:8080/"
        },
        "id": "h0WHaC-C0F7b",
        "outputId": "8d3dd2bb-ced9-4373-aab2-517c007d3b84"
      },
      "execution_count": null,
      "outputs": [
        {
          "output_type": "stream",
          "name": "stdout",
          "text": [
            "Augmented Dickey-Fuller Test: \n",
            "ADF test statistic       0.027279\n",
            "p-value                  0.960731\n",
            "# lags used              2.000000\n",
            "# observations          88.000000\n",
            "critical value (1%)     -3.506944\n",
            "critical value (5%)     -2.894990\n",
            "critical value (10%)    -2.584615\n",
            "Weak evidence against the null hypothesis\n",
            "Fail to reject the null hypothesis\n",
            "Data has a unit root and is non-stationary\n"
          ]
        }
      ]
    },
    {
      "cell_type": "code",
      "source": [
        "adf_test(df['Repo Rate'])"
      ],
      "metadata": {
        "colab": {
          "base_uri": "https://localhost:8080/"
        },
        "id": "mT1fdYdO0MIE",
        "outputId": "deb7e993-e382-4c75-b151-c6a3f88a885f"
      },
      "execution_count": null,
      "outputs": [
        {
          "output_type": "stream",
          "name": "stdout",
          "text": [
            "Augmented Dickey-Fuller Test: \n",
            "ADF test statistic      -1.721326\n",
            "p-value                  0.420159\n",
            "# lags used              3.000000\n",
            "# observations          87.000000\n",
            "critical value (1%)     -3.507853\n",
            "critical value (5%)     -2.895382\n",
            "critical value (10%)    -2.584824\n",
            "Weak evidence against the null hypothesis\n",
            "Fail to reject the null hypothesis\n",
            "Data has a unit root and is non-stationary\n"
          ]
        }
      ]
    },
    {
      "cell_type": "code",
      "source": [
        "adf_test(df['Stock Index'])"
      ],
      "metadata": {
        "colab": {
          "base_uri": "https://localhost:8080/"
        },
        "id": "zthgYare0Shc",
        "outputId": "8b196e56-9207-4dcd-ab45-c6e53ed074b1"
      },
      "execution_count": null,
      "outputs": [
        {
          "output_type": "stream",
          "name": "stdout",
          "text": [
            "Augmented Dickey-Fuller Test: \n",
            "ADF test statistic       0.027279\n",
            "p-value                  0.960731\n",
            "# lags used              2.000000\n",
            "# observations          88.000000\n",
            "critical value (1%)     -3.506944\n",
            "critical value (5%)     -2.894990\n",
            "critical value (10%)    -2.584615\n",
            "Weak evidence against the null hypothesis\n",
            "Fail to reject the null hypothesis\n",
            "Data has a unit root and is non-stationary\n"
          ]
        }
      ]
    },
    {
      "cell_type": "code",
      "source": [
        "adf_test(df['Unemployment Rate'])"
      ],
      "metadata": {
        "colab": {
          "base_uri": "https://localhost:8080/"
        },
        "id": "GIc__t6A0YIN",
        "outputId": "68f48ad0-de6b-492f-aaab-368675a15626"
      },
      "execution_count": null,
      "outputs": [
        {
          "output_type": "stream",
          "name": "stdout",
          "text": [
            "Augmented Dickey-Fuller Test: \n",
            "ADF test statistic      -1.545817\n",
            "p-value                  0.510737\n",
            "# lags used              8.000000\n",
            "# observations          82.000000\n",
            "critical value (1%)     -3.512738\n",
            "critical value (5%)     -2.897490\n",
            "critical value (10%)    -2.585949\n",
            "Weak evidence against the null hypothesis\n",
            "Fail to reject the null hypothesis\n",
            "Data has a unit root and is non-stationary\n"
          ]
        }
      ]
    },
    {
      "cell_type": "code",
      "source": [
        "df1 = df.copy()"
      ],
      "metadata": {
        "id": "FqsCTdEq0eyd"
      },
      "execution_count": null,
      "outputs": []
    },
    {
      "cell_type": "code",
      "source": [
        "df1.drop('Date', axis = True)"
      ],
      "metadata": {
        "colab": {
          "base_uri": "https://localhost:8080/",
          "height": 424
        },
        "id": "kfihvUZz1Oec",
        "outputId": "25ae6ac9-af92-4bb0-f318-4958e4f7d4eb"
      },
      "execution_count": null,
      "outputs": [
        {
          "output_type": "execute_result",
          "data": {
            "text/plain": [
              "    GDP Growth  Stock Index  Repo Rate  Unemployment Rate\n",
              "0          0.5      2028.21     11.875               9.10\n",
              "1          3.1      2486.96      9.125              11.90\n",
              "2          3.6      2096.20      9.000               8.40\n",
              "3          4.9      2142.97      8.750               9.50\n",
              "4          4.1      1681.72      8.750               9.50\n",
              "..         ...          ...        ...                ...\n",
              "86         6.8      7425.25      3.450               7.25\n",
              "87         7.1      7823.02      3.870               7.21\n",
              "88         6.9      8120.15      4.010               6.54\n",
              "89         6.8      8625.25      4.250               6.50\n",
              "90         6.4      8754.25      3.980               5.90\n",
              "\n",
              "[91 rows x 4 columns]"
            ],
            "text/html": [
              "\n",
              "  <div id=\"df-48a65321-6f7d-4e37-bfa5-dcd19770dd9f\">\n",
              "    <div class=\"colab-df-container\">\n",
              "      <div>\n",
              "<style scoped>\n",
              "    .dataframe tbody tr th:only-of-type {\n",
              "        vertical-align: middle;\n",
              "    }\n",
              "\n",
              "    .dataframe tbody tr th {\n",
              "        vertical-align: top;\n",
              "    }\n",
              "\n",
              "    .dataframe thead th {\n",
              "        text-align: right;\n",
              "    }\n",
              "</style>\n",
              "<table border=\"1\" class=\"dataframe\">\n",
              "  <thead>\n",
              "    <tr style=\"text-align: right;\">\n",
              "      <th></th>\n",
              "      <th>GDP Growth</th>\n",
              "      <th>Stock Index</th>\n",
              "      <th>Repo Rate</th>\n",
              "      <th>Unemployment Rate</th>\n",
              "    </tr>\n",
              "  </thead>\n",
              "  <tbody>\n",
              "    <tr>\n",
              "      <th>0</th>\n",
              "      <td>0.5</td>\n",
              "      <td>2028.21</td>\n",
              "      <td>11.875</td>\n",
              "      <td>9.10</td>\n",
              "    </tr>\n",
              "    <tr>\n",
              "      <th>1</th>\n",
              "      <td>3.1</td>\n",
              "      <td>2486.96</td>\n",
              "      <td>9.125</td>\n",
              "      <td>11.90</td>\n",
              "    </tr>\n",
              "    <tr>\n",
              "      <th>2</th>\n",
              "      <td>3.6</td>\n",
              "      <td>2096.20</td>\n",
              "      <td>9.000</td>\n",
              "      <td>8.40</td>\n",
              "    </tr>\n",
              "    <tr>\n",
              "      <th>3</th>\n",
              "      <td>4.9</td>\n",
              "      <td>2142.97</td>\n",
              "      <td>8.750</td>\n",
              "      <td>9.50</td>\n",
              "    </tr>\n",
              "    <tr>\n",
              "      <th>4</th>\n",
              "      <td>4.1</td>\n",
              "      <td>1681.72</td>\n",
              "      <td>8.750</td>\n",
              "      <td>9.50</td>\n",
              "    </tr>\n",
              "    <tr>\n",
              "      <th>...</th>\n",
              "      <td>...</td>\n",
              "      <td>...</td>\n",
              "      <td>...</td>\n",
              "      <td>...</td>\n",
              "    </tr>\n",
              "    <tr>\n",
              "      <th>86</th>\n",
              "      <td>6.8</td>\n",
              "      <td>7425.25</td>\n",
              "      <td>3.450</td>\n",
              "      <td>7.25</td>\n",
              "    </tr>\n",
              "    <tr>\n",
              "      <th>87</th>\n",
              "      <td>7.1</td>\n",
              "      <td>7823.02</td>\n",
              "      <td>3.870</td>\n",
              "      <td>7.21</td>\n",
              "    </tr>\n",
              "    <tr>\n",
              "      <th>88</th>\n",
              "      <td>6.9</td>\n",
              "      <td>8120.15</td>\n",
              "      <td>4.010</td>\n",
              "      <td>6.54</td>\n",
              "    </tr>\n",
              "    <tr>\n",
              "      <th>89</th>\n",
              "      <td>6.8</td>\n",
              "      <td>8625.25</td>\n",
              "      <td>4.250</td>\n",
              "      <td>6.50</td>\n",
              "    </tr>\n",
              "    <tr>\n",
              "      <th>90</th>\n",
              "      <td>6.4</td>\n",
              "      <td>8754.25</td>\n",
              "      <td>3.980</td>\n",
              "      <td>5.90</td>\n",
              "    </tr>\n",
              "  </tbody>\n",
              "</table>\n",
              "<p>91 rows × 4 columns</p>\n",
              "</div>\n",
              "      <button class=\"colab-df-convert\" onclick=\"convertToInteractive('df-48a65321-6f7d-4e37-bfa5-dcd19770dd9f')\"\n",
              "              title=\"Convert this dataframe to an interactive table.\"\n",
              "              style=\"display:none;\">\n",
              "        \n",
              "  <svg xmlns=\"http://www.w3.org/2000/svg\" height=\"24px\"viewBox=\"0 0 24 24\"\n",
              "       width=\"24px\">\n",
              "    <path d=\"M0 0h24v24H0V0z\" fill=\"none\"/>\n",
              "    <path d=\"M18.56 5.44l.94 2.06.94-2.06 2.06-.94-2.06-.94-.94-2.06-.94 2.06-2.06.94zm-11 1L8.5 8.5l.94-2.06 2.06-.94-2.06-.94L8.5 2.5l-.94 2.06-2.06.94zm10 10l.94 2.06.94-2.06 2.06-.94-2.06-.94-.94-2.06-.94 2.06-2.06.94z\"/><path d=\"M17.41 7.96l-1.37-1.37c-.4-.4-.92-.59-1.43-.59-.52 0-1.04.2-1.43.59L10.3 9.45l-7.72 7.72c-.78.78-.78 2.05 0 2.83L4 21.41c.39.39.9.59 1.41.59.51 0 1.02-.2 1.41-.59l7.78-7.78 2.81-2.81c.8-.78.8-2.07 0-2.86zM5.41 20L4 18.59l7.72-7.72 1.47 1.35L5.41 20z\"/>\n",
              "  </svg>\n",
              "      </button>\n",
              "      \n",
              "  <style>\n",
              "    .colab-df-container {\n",
              "      display:flex;\n",
              "      flex-wrap:wrap;\n",
              "      gap: 12px;\n",
              "    }\n",
              "\n",
              "    .colab-df-convert {\n",
              "      background-color: #E8F0FE;\n",
              "      border: none;\n",
              "      border-radius: 50%;\n",
              "      cursor: pointer;\n",
              "      display: none;\n",
              "      fill: #1967D2;\n",
              "      height: 32px;\n",
              "      padding: 0 0 0 0;\n",
              "      width: 32px;\n",
              "    }\n",
              "\n",
              "    .colab-df-convert:hover {\n",
              "      background-color: #E2EBFA;\n",
              "      box-shadow: 0px 1px 2px rgba(60, 64, 67, 0.3), 0px 1px 3px 1px rgba(60, 64, 67, 0.15);\n",
              "      fill: #174EA6;\n",
              "    }\n",
              "\n",
              "    [theme=dark] .colab-df-convert {\n",
              "      background-color: #3B4455;\n",
              "      fill: #D2E3FC;\n",
              "    }\n",
              "\n",
              "    [theme=dark] .colab-df-convert:hover {\n",
              "      background-color: #434B5C;\n",
              "      box-shadow: 0px 1px 3px 1px rgba(0, 0, 0, 0.15);\n",
              "      filter: drop-shadow(0px 1px 2px rgba(0, 0, 0, 0.3));\n",
              "      fill: #FFFFFF;\n",
              "    }\n",
              "  </style>\n",
              "\n",
              "      <script>\n",
              "        const buttonEl =\n",
              "          document.querySelector('#df-48a65321-6f7d-4e37-bfa5-dcd19770dd9f button.colab-df-convert');\n",
              "        buttonEl.style.display =\n",
              "          google.colab.kernel.accessAllowed ? 'block' : 'none';\n",
              "\n",
              "        async function convertToInteractive(key) {\n",
              "          const element = document.querySelector('#df-48a65321-6f7d-4e37-bfa5-dcd19770dd9f');\n",
              "          const dataTable =\n",
              "            await google.colab.kernel.invokeFunction('convertToInteractive',\n",
              "                                                     [key], {});\n",
              "          if (!dataTable) return;\n",
              "\n",
              "          const docLinkHtml = 'Like what you see? Visit the ' +\n",
              "            '<a target=\"_blank\" href=https://colab.research.google.com/notebooks/data_table.ipynb>data table notebook</a>'\n",
              "            + ' to learn more about interactive tables.';\n",
              "          element.innerHTML = '';\n",
              "          dataTable['output_type'] = 'display_data';\n",
              "          await google.colab.output.renderOutput(dataTable, element);\n",
              "          const docLink = document.createElement('div');\n",
              "          docLink.innerHTML = docLinkHtml;\n",
              "          element.appendChild(docLink);\n",
              "        }\n",
              "      </script>\n",
              "    </div>\n",
              "  </div>\n",
              "  "
            ]
          },
          "metadata": {},
          "execution_count": 83
        }
      ]
    },
    {
      "cell_type": "code",
      "source": [
        "df1['1stdiff_GDP Growth'] = df1['GDP Growth'] - df1['GDP Growth'].shift(1)"
      ],
      "metadata": {
        "id": "oOBg87Sh1WGK"
      },
      "execution_count": null,
      "outputs": []
    },
    {
      "cell_type": "code",
      "source": [
        "df1['1stdiff_stock'] = df1['Stock Index'] - df1['Stock Index'].shift(1)"
      ],
      "metadata": {
        "id": "TYrzCn-W1uJw"
      },
      "execution_count": null,
      "outputs": []
    },
    {
      "cell_type": "code",
      "source": [
        "df1['1stdiff_Repo'] = df1['Repo Rate'] - df1['Repo Rate'].shift(1)"
      ],
      "metadata": {
        "id": "qhTV5KUl2DVK"
      },
      "execution_count": null,
      "outputs": []
    },
    {
      "cell_type": "code",
      "source": [
        "df1['1stdiff_Unemp'] = df1['Unemployment Rate'] - df1['Unemployment Rate'].shift(1)"
      ],
      "metadata": {
        "id": "ILvQKXS62LrW"
      },
      "execution_count": null,
      "outputs": []
    },
    {
      "cell_type": "code",
      "source": [
        "df1.head()"
      ],
      "metadata": {
        "colab": {
          "base_uri": "https://localhost:8080/",
          "height": 268
        },
        "id": "_6eIjeMD2TnM",
        "outputId": "814164b2-80ce-4774-fe3f-2e87e8dfcd3a"
      },
      "execution_count": null,
      "outputs": [
        {
          "output_type": "execute_result",
          "data": {
            "text/plain": [
              "         Date  GDP Growth  Stock Index  Repo Rate  Unemployment Rate  \\\n",
              "0   3/31/1999         0.5      2028.21     11.875                9.1   \n",
              "1   6/30/1999         3.1      2486.96      9.125               11.9   \n",
              "2   9/30/1999         3.6      2096.20      9.000                8.4   \n",
              "3  12/31/1999         4.9      2142.97      8.750                9.5   \n",
              "4   3/31/2000         4.1      1681.72      8.750                9.5   \n",
              "\n",
              "   1stdiff_GDP Growth  1stdiff_stock  1stdiff_Repo  1stdiff_Unemp  \n",
              "0                 NaN            NaN           NaN            NaN  \n",
              "1                 2.6         458.75        -2.750            2.8  \n",
              "2                 0.5        -390.76        -0.125           -3.5  \n",
              "3                 1.3          46.77        -0.250            1.1  \n",
              "4                -0.8        -461.25         0.000            0.0  "
            ],
            "text/html": [
              "\n",
              "  <div id=\"df-b95ef3b6-b312-4b15-b844-a25d58410f1b\">\n",
              "    <div class=\"colab-df-container\">\n",
              "      <div>\n",
              "<style scoped>\n",
              "    .dataframe tbody tr th:only-of-type {\n",
              "        vertical-align: middle;\n",
              "    }\n",
              "\n",
              "    .dataframe tbody tr th {\n",
              "        vertical-align: top;\n",
              "    }\n",
              "\n",
              "    .dataframe thead th {\n",
              "        text-align: right;\n",
              "    }\n",
              "</style>\n",
              "<table border=\"1\" class=\"dataframe\">\n",
              "  <thead>\n",
              "    <tr style=\"text-align: right;\">\n",
              "      <th></th>\n",
              "      <th>Date</th>\n",
              "      <th>GDP Growth</th>\n",
              "      <th>Stock Index</th>\n",
              "      <th>Repo Rate</th>\n",
              "      <th>Unemployment Rate</th>\n",
              "      <th>1stdiff_GDP Growth</th>\n",
              "      <th>1stdiff_stock</th>\n",
              "      <th>1stdiff_Repo</th>\n",
              "      <th>1stdiff_Unemp</th>\n",
              "    </tr>\n",
              "  </thead>\n",
              "  <tbody>\n",
              "    <tr>\n",
              "      <th>0</th>\n",
              "      <td>3/31/1999</td>\n",
              "      <td>0.5</td>\n",
              "      <td>2028.21</td>\n",
              "      <td>11.875</td>\n",
              "      <td>9.1</td>\n",
              "      <td>NaN</td>\n",
              "      <td>NaN</td>\n",
              "      <td>NaN</td>\n",
              "      <td>NaN</td>\n",
              "    </tr>\n",
              "    <tr>\n",
              "      <th>1</th>\n",
              "      <td>6/30/1999</td>\n",
              "      <td>3.1</td>\n",
              "      <td>2486.96</td>\n",
              "      <td>9.125</td>\n",
              "      <td>11.9</td>\n",
              "      <td>2.6</td>\n",
              "      <td>458.75</td>\n",
              "      <td>-2.750</td>\n",
              "      <td>2.8</td>\n",
              "    </tr>\n",
              "    <tr>\n",
              "      <th>2</th>\n",
              "      <td>9/30/1999</td>\n",
              "      <td>3.6</td>\n",
              "      <td>2096.20</td>\n",
              "      <td>9.000</td>\n",
              "      <td>8.4</td>\n",
              "      <td>0.5</td>\n",
              "      <td>-390.76</td>\n",
              "      <td>-0.125</td>\n",
              "      <td>-3.5</td>\n",
              "    </tr>\n",
              "    <tr>\n",
              "      <th>3</th>\n",
              "      <td>12/31/1999</td>\n",
              "      <td>4.9</td>\n",
              "      <td>2142.97</td>\n",
              "      <td>8.750</td>\n",
              "      <td>9.5</td>\n",
              "      <td>1.3</td>\n",
              "      <td>46.77</td>\n",
              "      <td>-0.250</td>\n",
              "      <td>1.1</td>\n",
              "    </tr>\n",
              "    <tr>\n",
              "      <th>4</th>\n",
              "      <td>3/31/2000</td>\n",
              "      <td>4.1</td>\n",
              "      <td>1681.72</td>\n",
              "      <td>8.750</td>\n",
              "      <td>9.5</td>\n",
              "      <td>-0.8</td>\n",
              "      <td>-461.25</td>\n",
              "      <td>0.000</td>\n",
              "      <td>0.0</td>\n",
              "    </tr>\n",
              "  </tbody>\n",
              "</table>\n",
              "</div>\n",
              "      <button class=\"colab-df-convert\" onclick=\"convertToInteractive('df-b95ef3b6-b312-4b15-b844-a25d58410f1b')\"\n",
              "              title=\"Convert this dataframe to an interactive table.\"\n",
              "              style=\"display:none;\">\n",
              "        \n",
              "  <svg xmlns=\"http://www.w3.org/2000/svg\" height=\"24px\"viewBox=\"0 0 24 24\"\n",
              "       width=\"24px\">\n",
              "    <path d=\"M0 0h24v24H0V0z\" fill=\"none\"/>\n",
              "    <path d=\"M18.56 5.44l.94 2.06.94-2.06 2.06-.94-2.06-.94-.94-2.06-.94 2.06-2.06.94zm-11 1L8.5 8.5l.94-2.06 2.06-.94-2.06-.94L8.5 2.5l-.94 2.06-2.06.94zm10 10l.94 2.06.94-2.06 2.06-.94-2.06-.94-.94-2.06-.94 2.06-2.06.94z\"/><path d=\"M17.41 7.96l-1.37-1.37c-.4-.4-.92-.59-1.43-.59-.52 0-1.04.2-1.43.59L10.3 9.45l-7.72 7.72c-.78.78-.78 2.05 0 2.83L4 21.41c.39.39.9.59 1.41.59.51 0 1.02-.2 1.41-.59l7.78-7.78 2.81-2.81c.8-.78.8-2.07 0-2.86zM5.41 20L4 18.59l7.72-7.72 1.47 1.35L5.41 20z\"/>\n",
              "  </svg>\n",
              "      </button>\n",
              "      \n",
              "  <style>\n",
              "    .colab-df-container {\n",
              "      display:flex;\n",
              "      flex-wrap:wrap;\n",
              "      gap: 12px;\n",
              "    }\n",
              "\n",
              "    .colab-df-convert {\n",
              "      background-color: #E8F0FE;\n",
              "      border: none;\n",
              "      border-radius: 50%;\n",
              "      cursor: pointer;\n",
              "      display: none;\n",
              "      fill: #1967D2;\n",
              "      height: 32px;\n",
              "      padding: 0 0 0 0;\n",
              "      width: 32px;\n",
              "    }\n",
              "\n",
              "    .colab-df-convert:hover {\n",
              "      background-color: #E2EBFA;\n",
              "      box-shadow: 0px 1px 2px rgba(60, 64, 67, 0.3), 0px 1px 3px 1px rgba(60, 64, 67, 0.15);\n",
              "      fill: #174EA6;\n",
              "    }\n",
              "\n",
              "    [theme=dark] .colab-df-convert {\n",
              "      background-color: #3B4455;\n",
              "      fill: #D2E3FC;\n",
              "    }\n",
              "\n",
              "    [theme=dark] .colab-df-convert:hover {\n",
              "      background-color: #434B5C;\n",
              "      box-shadow: 0px 1px 3px 1px rgba(0, 0, 0, 0.15);\n",
              "      filter: drop-shadow(0px 1px 2px rgba(0, 0, 0, 0.3));\n",
              "      fill: #FFFFFF;\n",
              "    }\n",
              "  </style>\n",
              "\n",
              "      <script>\n",
              "        const buttonEl =\n",
              "          document.querySelector('#df-b95ef3b6-b312-4b15-b844-a25d58410f1b button.colab-df-convert');\n",
              "        buttonEl.style.display =\n",
              "          google.colab.kernel.accessAllowed ? 'block' : 'none';\n",
              "\n",
              "        async function convertToInteractive(key) {\n",
              "          const element = document.querySelector('#df-b95ef3b6-b312-4b15-b844-a25d58410f1b');\n",
              "          const dataTable =\n",
              "            await google.colab.kernel.invokeFunction('convertToInteractive',\n",
              "                                                     [key], {});\n",
              "          if (!dataTable) return;\n",
              "\n",
              "          const docLinkHtml = 'Like what you see? Visit the ' +\n",
              "            '<a target=\"_blank\" href=https://colab.research.google.com/notebooks/data_table.ipynb>data table notebook</a>'\n",
              "            + ' to learn more about interactive tables.';\n",
              "          element.innerHTML = '';\n",
              "          dataTable['output_type'] = 'display_data';\n",
              "          await google.colab.output.renderOutput(dataTable, element);\n",
              "          const docLink = document.createElement('div');\n",
              "          docLink.innerHTML = docLinkHtml;\n",
              "          element.appendChild(docLink);\n",
              "        }\n",
              "      </script>\n",
              "    </div>\n",
              "  </div>\n",
              "  "
            ]
          },
          "metadata": {},
          "execution_count": 88
        }
      ]
    },
    {
      "cell_type": "code",
      "source": [
        "adf_test(df1['1stdiff_stock'])"
      ],
      "metadata": {
        "colab": {
          "base_uri": "https://localhost:8080/"
        },
        "id": "J5ILpJM_2Zgs",
        "outputId": "805634c4-8284-4e2d-f05d-4d4515087563"
      },
      "execution_count": null,
      "outputs": [
        {
          "output_type": "stream",
          "name": "stdout",
          "text": [
            "Augmented Dickey-Fuller Test: \n",
            "ADF test statistic     -7.279365e+00\n",
            "p-value                 1.514580e-10\n",
            "# lags used             1.000000e+00\n",
            "# observations          8.800000e+01\n",
            "critical value (1%)    -3.506944e+00\n",
            "critical value (5%)    -2.894990e+00\n",
            "critical value (10%)   -2.584615e+00\n",
            "Strong evidence against the null hypothesis\n",
            "Reject the null hypothesis\n",
            "Data has no unit root and is stationary\n"
          ]
        }
      ]
    },
    {
      "cell_type": "code",
      "source": [
        "adf_test(df1['1stdiff_Repo'])"
      ],
      "metadata": {
        "colab": {
          "base_uri": "https://localhost:8080/"
        },
        "id": "D_yyFbwk2k9Q",
        "outputId": "4d609fdc-3a98-4aa7-f0d7-e5df6194d7ca"
      },
      "execution_count": null,
      "outputs": [
        {
          "output_type": "stream",
          "name": "stdout",
          "text": [
            "Augmented Dickey-Fuller Test: \n",
            "ADF test statistic     -6.445316e+00\n",
            "p-value                 1.571171e-08\n",
            "# lags used             2.000000e+00\n",
            "# observations          8.700000e+01\n",
            "critical value (1%)    -3.507853e+00\n",
            "critical value (5%)    -2.895382e+00\n",
            "critical value (10%)   -2.584824e+00\n",
            "Strong evidence against the null hypothesis\n",
            "Reject the null hypothesis\n",
            "Data has no unit root and is stationary\n"
          ]
        }
      ]
    },
    {
      "cell_type": "code",
      "source": [
        "adf_test(df1['1stdiff_Unemp'])"
      ],
      "metadata": {
        "colab": {
          "base_uri": "https://localhost:8080/"
        },
        "id": "0fZLyO9T2tOo",
        "outputId": "7acdfb2f-deab-4fc3-ea36-890053a94d41"
      },
      "execution_count": null,
      "outputs": [
        {
          "output_type": "stream",
          "name": "stdout",
          "text": [
            "Augmented Dickey-Fuller Test: \n",
            "ADF test statistic      -3.349624\n",
            "p-value                  0.012801\n",
            "# lags used              7.000000\n",
            "# observations          82.000000\n",
            "critical value (1%)     -3.512738\n",
            "critical value (5%)     -2.897490\n",
            "critical value (10%)    -2.585949\n",
            "Strong evidence against the null hypothesis\n",
            "Reject the null hypothesis\n",
            "Data has no unit root and is stationary\n"
          ]
        }
      ]
    },
    {
      "cell_type": "code",
      "source": [],
      "metadata": {
        "id": "OxJz3yqx4wnZ"
      },
      "execution_count": null,
      "outputs": []
    },
    {
      "cell_type": "code",
      "source": [
        "df1.head()"
      ],
      "metadata": {
        "colab": {
          "base_uri": "https://localhost:8080/",
          "height": 268
        },
        "id": "DqR4mcaz46m5",
        "outputId": "70471d05-4cf9-49e5-a6c5-f832a7dc182f"
      },
      "execution_count": null,
      "outputs": [
        {
          "output_type": "execute_result",
          "data": {
            "text/plain": [
              "         Date  GDP Growth  Stock Index  Repo Rate  Unemployment Rate  \\\n",
              "0   3/31/1999         0.5      2028.21     11.875                9.1   \n",
              "1   6/30/1999         3.1      2486.96      9.125               11.9   \n",
              "2   9/30/1999         3.6      2096.20      9.000                8.4   \n",
              "3  12/31/1999         4.9      2142.97      8.750                9.5   \n",
              "4   3/31/2000         4.1      1681.72      8.750                9.5   \n",
              "\n",
              "   1stdiff_GDP Growth  1stdiff_stock  1stdiff_Repo  1stdiff_Unemp  \n",
              "0                 NaN            NaN           NaN            NaN  \n",
              "1                 2.6         458.75        -2.750            2.8  \n",
              "2                 0.5        -390.76        -0.125           -3.5  \n",
              "3                 1.3          46.77        -0.250            1.1  \n",
              "4                -0.8        -461.25         0.000            0.0  "
            ],
            "text/html": [
              "\n",
              "  <div id=\"df-9f6ffc0d-c26f-4a3f-bd51-6929d6044de8\">\n",
              "    <div class=\"colab-df-container\">\n",
              "      <div>\n",
              "<style scoped>\n",
              "    .dataframe tbody tr th:only-of-type {\n",
              "        vertical-align: middle;\n",
              "    }\n",
              "\n",
              "    .dataframe tbody tr th {\n",
              "        vertical-align: top;\n",
              "    }\n",
              "\n",
              "    .dataframe thead th {\n",
              "        text-align: right;\n",
              "    }\n",
              "</style>\n",
              "<table border=\"1\" class=\"dataframe\">\n",
              "  <thead>\n",
              "    <tr style=\"text-align: right;\">\n",
              "      <th></th>\n",
              "      <th>Date</th>\n",
              "      <th>GDP Growth</th>\n",
              "      <th>Stock Index</th>\n",
              "      <th>Repo Rate</th>\n",
              "      <th>Unemployment Rate</th>\n",
              "      <th>1stdiff_GDP Growth</th>\n",
              "      <th>1stdiff_stock</th>\n",
              "      <th>1stdiff_Repo</th>\n",
              "      <th>1stdiff_Unemp</th>\n",
              "    </tr>\n",
              "  </thead>\n",
              "  <tbody>\n",
              "    <tr>\n",
              "      <th>0</th>\n",
              "      <td>3/31/1999</td>\n",
              "      <td>0.5</td>\n",
              "      <td>2028.21</td>\n",
              "      <td>11.875</td>\n",
              "      <td>9.1</td>\n",
              "      <td>NaN</td>\n",
              "      <td>NaN</td>\n",
              "      <td>NaN</td>\n",
              "      <td>NaN</td>\n",
              "    </tr>\n",
              "    <tr>\n",
              "      <th>1</th>\n",
              "      <td>6/30/1999</td>\n",
              "      <td>3.1</td>\n",
              "      <td>2486.96</td>\n",
              "      <td>9.125</td>\n",
              "      <td>11.9</td>\n",
              "      <td>2.6</td>\n",
              "      <td>458.75</td>\n",
              "      <td>-2.750</td>\n",
              "      <td>2.8</td>\n",
              "    </tr>\n",
              "    <tr>\n",
              "      <th>2</th>\n",
              "      <td>9/30/1999</td>\n",
              "      <td>3.6</td>\n",
              "      <td>2096.20</td>\n",
              "      <td>9.000</td>\n",
              "      <td>8.4</td>\n",
              "      <td>0.5</td>\n",
              "      <td>-390.76</td>\n",
              "      <td>-0.125</td>\n",
              "      <td>-3.5</td>\n",
              "    </tr>\n",
              "    <tr>\n",
              "      <th>3</th>\n",
              "      <td>12/31/1999</td>\n",
              "      <td>4.9</td>\n",
              "      <td>2142.97</td>\n",
              "      <td>8.750</td>\n",
              "      <td>9.5</td>\n",
              "      <td>1.3</td>\n",
              "      <td>46.77</td>\n",
              "      <td>-0.250</td>\n",
              "      <td>1.1</td>\n",
              "    </tr>\n",
              "    <tr>\n",
              "      <th>4</th>\n",
              "      <td>3/31/2000</td>\n",
              "      <td>4.1</td>\n",
              "      <td>1681.72</td>\n",
              "      <td>8.750</td>\n",
              "      <td>9.5</td>\n",
              "      <td>-0.8</td>\n",
              "      <td>-461.25</td>\n",
              "      <td>0.000</td>\n",
              "      <td>0.0</td>\n",
              "    </tr>\n",
              "  </tbody>\n",
              "</table>\n",
              "</div>\n",
              "      <button class=\"colab-df-convert\" onclick=\"convertToInteractive('df-9f6ffc0d-c26f-4a3f-bd51-6929d6044de8')\"\n",
              "              title=\"Convert this dataframe to an interactive table.\"\n",
              "              style=\"display:none;\">\n",
              "        \n",
              "  <svg xmlns=\"http://www.w3.org/2000/svg\" height=\"24px\"viewBox=\"0 0 24 24\"\n",
              "       width=\"24px\">\n",
              "    <path d=\"M0 0h24v24H0V0z\" fill=\"none\"/>\n",
              "    <path d=\"M18.56 5.44l.94 2.06.94-2.06 2.06-.94-2.06-.94-.94-2.06-.94 2.06-2.06.94zm-11 1L8.5 8.5l.94-2.06 2.06-.94-2.06-.94L8.5 2.5l-.94 2.06-2.06.94zm10 10l.94 2.06.94-2.06 2.06-.94-2.06-.94-.94-2.06-.94 2.06-2.06.94z\"/><path d=\"M17.41 7.96l-1.37-1.37c-.4-.4-.92-.59-1.43-.59-.52 0-1.04.2-1.43.59L10.3 9.45l-7.72 7.72c-.78.78-.78 2.05 0 2.83L4 21.41c.39.39.9.59 1.41.59.51 0 1.02-.2 1.41-.59l7.78-7.78 2.81-2.81c.8-.78.8-2.07 0-2.86zM5.41 20L4 18.59l7.72-7.72 1.47 1.35L5.41 20z\"/>\n",
              "  </svg>\n",
              "      </button>\n",
              "      \n",
              "  <style>\n",
              "    .colab-df-container {\n",
              "      display:flex;\n",
              "      flex-wrap:wrap;\n",
              "      gap: 12px;\n",
              "    }\n",
              "\n",
              "    .colab-df-convert {\n",
              "      background-color: #E8F0FE;\n",
              "      border: none;\n",
              "      border-radius: 50%;\n",
              "      cursor: pointer;\n",
              "      display: none;\n",
              "      fill: #1967D2;\n",
              "      height: 32px;\n",
              "      padding: 0 0 0 0;\n",
              "      width: 32px;\n",
              "    }\n",
              "\n",
              "    .colab-df-convert:hover {\n",
              "      background-color: #E2EBFA;\n",
              "      box-shadow: 0px 1px 2px rgba(60, 64, 67, 0.3), 0px 1px 3px 1px rgba(60, 64, 67, 0.15);\n",
              "      fill: #174EA6;\n",
              "    }\n",
              "\n",
              "    [theme=dark] .colab-df-convert {\n",
              "      background-color: #3B4455;\n",
              "      fill: #D2E3FC;\n",
              "    }\n",
              "\n",
              "    [theme=dark] .colab-df-convert:hover {\n",
              "      background-color: #434B5C;\n",
              "      box-shadow: 0px 1px 3px 1px rgba(0, 0, 0, 0.15);\n",
              "      filter: drop-shadow(0px 1px 2px rgba(0, 0, 0, 0.3));\n",
              "      fill: #FFFFFF;\n",
              "    }\n",
              "  </style>\n",
              "\n",
              "      <script>\n",
              "        const buttonEl =\n",
              "          document.querySelector('#df-9f6ffc0d-c26f-4a3f-bd51-6929d6044de8 button.colab-df-convert');\n",
              "        buttonEl.style.display =\n",
              "          google.colab.kernel.accessAllowed ? 'block' : 'none';\n",
              "\n",
              "        async function convertToInteractive(key) {\n",
              "          const element = document.querySelector('#df-9f6ffc0d-c26f-4a3f-bd51-6929d6044de8');\n",
              "          const dataTable =\n",
              "            await google.colab.kernel.invokeFunction('convertToInteractive',\n",
              "                                                     [key], {});\n",
              "          if (!dataTable) return;\n",
              "\n",
              "          const docLinkHtml = 'Like what you see? Visit the ' +\n",
              "            '<a target=\"_blank\" href=https://colab.research.google.com/notebooks/data_table.ipynb>data table notebook</a>'\n",
              "            + ' to learn more about interactive tables.';\n",
              "          element.innerHTML = '';\n",
              "          dataTable['output_type'] = 'display_data';\n",
              "          await google.colab.output.renderOutput(dataTable, element);\n",
              "          const docLink = document.createElement('div');\n",
              "          docLink.innerHTML = docLinkHtml;\n",
              "          element.appendChild(docLink);\n",
              "        }\n",
              "      </script>\n",
              "    </div>\n",
              "  </div>\n",
              "  "
            ]
          },
          "metadata": {},
          "execution_count": 92
        }
      ]
    },
    {
      "cell_type": "code",
      "source": [
        "from statsmodels.tsa.vector_ar.vecm import coint_johansen, VECM, select_coint_rank, select_order"
      ],
      "metadata": {
        "id": "7qc5QRdb5eLK"
      },
      "execution_count": null,
      "outputs": []
    },
    {
      "cell_type": "code",
      "source": [
        "# df1 = df1.drop('Date', axis = True)"
      ],
      "metadata": {
        "id": "zwU3s7m9-IWF"
      },
      "execution_count": null,
      "outputs": []
    },
    {
      "cell_type": "code",
      "source": [
        "import statsmodels.api as sm"
      ],
      "metadata": {
        "id": "Fg8x7jhu9h0V"
      },
      "execution_count": null,
      "outputs": []
    },
    {
      "cell_type": "code",
      "source": [
        "from statsmodels.tsa.api import VAR\n",
        "from statsmodels.tsa.stattools import adfuller\n",
        "from statsmodels.tools.eval_measures import rmse, aic"
      ],
      "metadata": {
        "id": "-q4as6nP-vc2"
      },
      "execution_count": null,
      "outputs": []
    },
    {
      "cell_type": "code",
      "source": [
        "df = df.drop(\"Date\", axis = True)"
      ],
      "metadata": {
        "id": "jAtvMaIz_hDN"
      },
      "execution_count": null,
      "outputs": []
    },
    {
      "cell_type": "code",
      "source": [],
      "metadata": {
        "id": "gNm0MxRODHSZ"
      },
      "execution_count": null,
      "outputs": []
    },
    {
      "cell_type": "markdown",
      "source": [
        "granger causality tests"
      ],
      "metadata": {
        "id": "uY26QneLDH80"
      }
    },
    {
      "cell_type": "code",
      "source": [
        "from statsmodels.tsa.stattools import grangercausalitytests\n",
        "maxlag=12\n",
        "test = 'ssr_chi2test'\n",
        "def grangers_causation_matrix(data, variables, test='ssr_chi2test', verbose=False):    \n",
        "    \"\"\"Check Granger Causality of all possible combinations of the Time series.\n",
        "    The rows are the response variable, columns are predictors. The values in the table \n",
        "    are the P-Values. P-Values lesser than the significance level (0.05), implies \n",
        "    the Null Hypothesis that the coefficients of the corresponding past values is \n",
        "    zero, that is, the X does not cause Y can be rejected.\n",
        "\n",
        "    data      : pandas dataframe containing the time series variables\n",
        "    variables : list containing names of the time series variables.\n",
        "    \"\"\"\n",
        "    df = pd.DataFrame(np.zeros((len(variables), len(variables))), columns=variables, index=variables)\n",
        "    for c in df.columns:\n",
        "        for r in df.index:\n",
        "            test_result = grangercausalitytests(data[[r, c]], maxlag=maxlag, verbose=False)\n",
        "            p_values = [round(test_result[i+1][0][test][1],4) for i in range(maxlag)]\n",
        "            if verbose: print(f'Y = {r}, X = {c}, P Values = {p_values}')\n",
        "            min_p_value = np.min(p_values)\n",
        "            df.loc[r, c] = min_p_value\n",
        "    df.columns = [var + '_x' for var in variables]\n",
        "    df.index = [var + '_y' for var in variables]\n",
        "    return df\n",
        "\n",
        "grangers_causation_matrix(df, variables = df.columns)"
      ],
      "metadata": {
        "colab": {
          "base_uri": "https://localhost:8080/",
          "height": 175
        },
        "id": "k2jZ9td0_Fk1",
        "outputId": "0f2cc43e-1a02-4858-8cb3-6edda0cefc2b"
      },
      "execution_count": null,
      "outputs": [
        {
          "output_type": "execute_result",
          "data": {
            "text/plain": [
              "                     GDP Growth_x  Stock Index_x  Repo Rate_x  \\\n",
              "GDP Growth_y               1.0000         0.0006       0.0091   \n",
              "Stock Index_y              0.4943         1.0000       0.0260   \n",
              "Repo Rate_y                0.1387         0.0942       1.0000   \n",
              "Unemployment Rate_y        0.0050         0.0001       0.0001   \n",
              "\n",
              "                     Unemployment Rate_x  \n",
              "GDP Growth_y                      0.1505  \n",
              "Stock Index_y                     0.2634  \n",
              "Repo Rate_y                       0.0001  \n",
              "Unemployment Rate_y               1.0000  "
            ],
            "text/html": [
              "\n",
              "  <div id=\"df-c9f1943c-ccb9-4bf6-949b-d88ac7d772d4\">\n",
              "    <div class=\"colab-df-container\">\n",
              "      <div>\n",
              "<style scoped>\n",
              "    .dataframe tbody tr th:only-of-type {\n",
              "        vertical-align: middle;\n",
              "    }\n",
              "\n",
              "    .dataframe tbody tr th {\n",
              "        vertical-align: top;\n",
              "    }\n",
              "\n",
              "    .dataframe thead th {\n",
              "        text-align: right;\n",
              "    }\n",
              "</style>\n",
              "<table border=\"1\" class=\"dataframe\">\n",
              "  <thead>\n",
              "    <tr style=\"text-align: right;\">\n",
              "      <th></th>\n",
              "      <th>GDP Growth_x</th>\n",
              "      <th>Stock Index_x</th>\n",
              "      <th>Repo Rate_x</th>\n",
              "      <th>Unemployment Rate_x</th>\n",
              "    </tr>\n",
              "  </thead>\n",
              "  <tbody>\n",
              "    <tr>\n",
              "      <th>GDP Growth_y</th>\n",
              "      <td>1.0000</td>\n",
              "      <td>0.0006</td>\n",
              "      <td>0.0091</td>\n",
              "      <td>0.1505</td>\n",
              "    </tr>\n",
              "    <tr>\n",
              "      <th>Stock Index_y</th>\n",
              "      <td>0.4943</td>\n",
              "      <td>1.0000</td>\n",
              "      <td>0.0260</td>\n",
              "      <td>0.2634</td>\n",
              "    </tr>\n",
              "    <tr>\n",
              "      <th>Repo Rate_y</th>\n",
              "      <td>0.1387</td>\n",
              "      <td>0.0942</td>\n",
              "      <td>1.0000</td>\n",
              "      <td>0.0001</td>\n",
              "    </tr>\n",
              "    <tr>\n",
              "      <th>Unemployment Rate_y</th>\n",
              "      <td>0.0050</td>\n",
              "      <td>0.0001</td>\n",
              "      <td>0.0001</td>\n",
              "      <td>1.0000</td>\n",
              "    </tr>\n",
              "  </tbody>\n",
              "</table>\n",
              "</div>\n",
              "      <button class=\"colab-df-convert\" onclick=\"convertToInteractive('df-c9f1943c-ccb9-4bf6-949b-d88ac7d772d4')\"\n",
              "              title=\"Convert this dataframe to an interactive table.\"\n",
              "              style=\"display:none;\">\n",
              "        \n",
              "  <svg xmlns=\"http://www.w3.org/2000/svg\" height=\"24px\"viewBox=\"0 0 24 24\"\n",
              "       width=\"24px\">\n",
              "    <path d=\"M0 0h24v24H0V0z\" fill=\"none\"/>\n",
              "    <path d=\"M18.56 5.44l.94 2.06.94-2.06 2.06-.94-2.06-.94-.94-2.06-.94 2.06-2.06.94zm-11 1L8.5 8.5l.94-2.06 2.06-.94-2.06-.94L8.5 2.5l-.94 2.06-2.06.94zm10 10l.94 2.06.94-2.06 2.06-.94-2.06-.94-.94-2.06-.94 2.06-2.06.94z\"/><path d=\"M17.41 7.96l-1.37-1.37c-.4-.4-.92-.59-1.43-.59-.52 0-1.04.2-1.43.59L10.3 9.45l-7.72 7.72c-.78.78-.78 2.05 0 2.83L4 21.41c.39.39.9.59 1.41.59.51 0 1.02-.2 1.41-.59l7.78-7.78 2.81-2.81c.8-.78.8-2.07 0-2.86zM5.41 20L4 18.59l7.72-7.72 1.47 1.35L5.41 20z\"/>\n",
              "  </svg>\n",
              "      </button>\n",
              "      \n",
              "  <style>\n",
              "    .colab-df-container {\n",
              "      display:flex;\n",
              "      flex-wrap:wrap;\n",
              "      gap: 12px;\n",
              "    }\n",
              "\n",
              "    .colab-df-convert {\n",
              "      background-color: #E8F0FE;\n",
              "      border: none;\n",
              "      border-radius: 50%;\n",
              "      cursor: pointer;\n",
              "      display: none;\n",
              "      fill: #1967D2;\n",
              "      height: 32px;\n",
              "      padding: 0 0 0 0;\n",
              "      width: 32px;\n",
              "    }\n",
              "\n",
              "    .colab-df-convert:hover {\n",
              "      background-color: #E2EBFA;\n",
              "      box-shadow: 0px 1px 2px rgba(60, 64, 67, 0.3), 0px 1px 3px 1px rgba(60, 64, 67, 0.15);\n",
              "      fill: #174EA6;\n",
              "    }\n",
              "\n",
              "    [theme=dark] .colab-df-convert {\n",
              "      background-color: #3B4455;\n",
              "      fill: #D2E3FC;\n",
              "    }\n",
              "\n",
              "    [theme=dark] .colab-df-convert:hover {\n",
              "      background-color: #434B5C;\n",
              "      box-shadow: 0px 1px 3px 1px rgba(0, 0, 0, 0.15);\n",
              "      filter: drop-shadow(0px 1px 2px rgba(0, 0, 0, 0.3));\n",
              "      fill: #FFFFFF;\n",
              "    }\n",
              "  </style>\n",
              "\n",
              "      <script>\n",
              "        const buttonEl =\n",
              "          document.querySelector('#df-c9f1943c-ccb9-4bf6-949b-d88ac7d772d4 button.colab-df-convert');\n",
              "        buttonEl.style.display =\n",
              "          google.colab.kernel.accessAllowed ? 'block' : 'none';\n",
              "\n",
              "        async function convertToInteractive(key) {\n",
              "          const element = document.querySelector('#df-c9f1943c-ccb9-4bf6-949b-d88ac7d772d4');\n",
              "          const dataTable =\n",
              "            await google.colab.kernel.invokeFunction('convertToInteractive',\n",
              "                                                     [key], {});\n",
              "          if (!dataTable) return;\n",
              "\n",
              "          const docLinkHtml = 'Like what you see? Visit the ' +\n",
              "            '<a target=\"_blank\" href=https://colab.research.google.com/notebooks/data_table.ipynb>data table notebook</a>'\n",
              "            + ' to learn more about interactive tables.';\n",
              "          element.innerHTML = '';\n",
              "          dataTable['output_type'] = 'display_data';\n",
              "          await google.colab.output.renderOutput(dataTable, element);\n",
              "          const docLink = document.createElement('div');\n",
              "          docLink.innerHTML = docLinkHtml;\n",
              "          element.appendChild(docLink);\n",
              "        }\n",
              "      </script>\n",
              "    </div>\n",
              "  </div>\n",
              "  "
            ]
          },
          "metadata": {},
          "execution_count": 98
        }
      ]
    },
    {
      "cell_type": "code",
      "source": [],
      "metadata": {
        "id": "VlBeWpq0_p8r"
      },
      "execution_count": null,
      "outputs": []
    },
    {
      "cell_type": "markdown",
      "source": [
        "Cointegration_test"
      ],
      "metadata": {
        "id": "sfAx7Ogx_v8e"
      }
    },
    {
      "cell_type": "code",
      "source": [
        "from statsmodels.tsa.vector_ar.vecm import coint_johansen\n",
        "\n",
        "def cointegration_test(df, alpha=0.05): \n",
        "    \"\"\"Perform Johanson's Cointegration Test and Report Summary\"\"\"\n",
        "    out = coint_johansen(df,-1,5)\n",
        "    d = {'0.90':0, '0.95':1, '0.99':2}\n",
        "    traces = out.lr1\n",
        "    cvts = out.cvt[:, d[str(1-alpha)]]\n",
        "    def adjust(val, length= 6): return str(val).ljust(length)\n",
        "\n",
        "    # Summary\n",
        "    print('Name   ::  Test Stat > C(95%)    =>   Signif  \\n', '--'*20)\n",
        "    for col, trace, cvt in zip(df.columns, traces, cvts):\n",
        "        print(adjust(col), ':: ', adjust(round(trace,2), 9), \">\", adjust(cvt, 8), ' =>  ' , trace > cvt)\n",
        "\n",
        "cointegration_test(df)"
      ],
      "metadata": {
        "colab": {
          "base_uri": "https://localhost:8080/"
        },
        "id": "i9qH3QkO_1sd",
        "outputId": "bbaf0baf-6cc1-463a-9261-589d9794c9a8"
      },
      "execution_count": null,
      "outputs": [
        {
          "output_type": "stream",
          "name": "stdout",
          "text": [
            "Name   ::  Test Stat > C(95%)    =>   Signif  \n",
            " ----------------------------------------\n",
            "GDP Growth ::  52.72     > 40.1749   =>   True\n",
            "Stock Index ::  28.3      > 24.2761   =>   True\n",
            "Repo Rate ::  13.88     > 12.3212   =>   True\n",
            "Unemployment Rate ::  2.12      > 4.1296    =>   False\n"
          ]
        }
      ]
    },
    {
      "cell_type": "code",
      "source": [
        "df_differenced = df.diff().dropna()"
      ],
      "metadata": {
        "id": "8rcvaRU4BQt9"
      },
      "execution_count": null,
      "outputs": []
    },
    {
      "cell_type": "code",
      "source": [
        "model = VAR(df_differenced)\n",
        "for i in [1,2,3,4,5,6,7]:\n",
        "    result = model.fit(i)\n",
        "    print('Lag Order =', i)\n",
        "    print('AIC : ', result.aic)\n",
        "    print('BIC : ', result.bic)\n",
        "    print('FPE : ', result.fpe)\n",
        "    print('HQIC: ', result.hqic, '\\n')"
      ],
      "metadata": {
        "colab": {
          "base_uri": "https://localhost:8080/"
        },
        "id": "xYPHnhBvAXzc",
        "outputId": "86bd6573-3628-4a14-bd81-382bac07ba6d"
      },
      "execution_count": null,
      "outputs": [
        {
          "output_type": "stream",
          "name": "stdout",
          "text": [
            "Lag Order = 1\n",
            "AIC :  12.138743004049603\n",
            "BIC :  12.697987132079298\n",
            "FPE :  187065.99266047793\n",
            "HQIC:  12.364158263277002 \n",
            "\n",
            "Lag Order = 2\n",
            "AIC :  12.049127882273819\n",
            "BIC :  13.062583851833086\n",
            "FPE :  171441.70379461366\n",
            "HQIC:  12.45742385295546 \n",
            "\n",
            "Lag Order = 3\n",
            "AIC :  12.075751832248908\n",
            "BIC :  13.5496279491459\n",
            "FPE :  177153.15227773343\n",
            "HQIC:  12.669236295320857 \n",
            "\n",
            "Lag Order = 4\n",
            "AIC :  12.060699000622867\n",
            "BIC :  14.001345699986107\n",
            "FPE :  176626.671998156\n",
            "HQIC:  12.841719389156879 \n",
            "\n",
            "Lag Order = 5\n",
            "AIC :  12.070472355698811\n",
            "BIC :  14.484386538583358\n",
            "FPE :  182084.43926520503\n",
            "HQIC:  13.04141615706704 \n",
            "\n",
            "Lag Order = 6\n",
            "AIC :  12.057252102605256\n",
            "BIC :  14.951081625037771\n",
            "FPE :  185635.70834824682\n",
            "HQIC:  13.220547212207002 \n",
            "\n",
            "Lag Order = 7\n",
            "AIC :  12.05461823250906\n",
            "BIC :  15.435166551839247\n",
            "FPE :  194365.71815938293\n",
            "HQIC:  13.412733250999427 \n",
            "\n"
          ]
        },
        {
          "output_type": "stream",
          "name": "stderr",
          "text": [
            "/usr/local/lib/python3.9/dist-packages/statsmodels/tsa/base/tsa_model.py:471: ValueWarning: An unsupported index was provided and will be ignored when e.g. forecasting.\n",
            "  self._init_dates(dates, freq)\n"
          ]
        }
      ]
    },
    {
      "cell_type": "code",
      "source": [
        "x = model.select_order(maxlags=12)\n",
        "x.summary()"
      ],
      "metadata": {
        "colab": {
          "base_uri": "https://localhost:8080/",
          "height": 353
        },
        "id": "MYUSCDMRCEyY",
        "outputId": "4e5cbf78-deb4-4cf6-a041-0267c34268d3"
      },
      "execution_count": null,
      "outputs": [
        {
          "output_type": "execute_result",
          "data": {
            "text/plain": [
              "<class 'statsmodels.iolib.table.SimpleTable'>"
            ],
            "text/html": [
              "<table class=\"simpletable\">\n",
              "<caption>VAR Order Selection (* highlights the minimums)</caption>\n",
              "<tr>\n",
              "   <td></td>      <th>AIC</th>         <th>BIC</th>         <th>FPE</th>        <th>HQIC</th>    \n",
              "</tr>\n",
              "<tr>\n",
              "  <th>0</th>  <td>     10.90*</td> <td>     11.02*</td> <td> 5.410e+04*</td> <td>     10.95*</td>\n",
              "</tr>\n",
              "<tr>\n",
              "  <th>1</th>  <td>     11.11</td>  <td>     11.72</td>  <td> 6.705e+04</td>  <td>     11.35</td> \n",
              "</tr>\n",
              "<tr>\n",
              "  <th>2</th>  <td>     11.04</td>  <td>     12.13</td>  <td> 6.249e+04</td>  <td>     11.47</td> \n",
              "</tr>\n",
              "<tr>\n",
              "  <th>3</th>  <td>     11.15</td>  <td>     12.72</td>  <td> 7.045e+04</td>  <td>     11.78</td> \n",
              "</tr>\n",
              "<tr>\n",
              "  <th>4</th>  <td>     11.29</td>  <td>     13.34</td>  <td> 8.197e+04</td>  <td>     12.11</td> \n",
              "</tr>\n",
              "<tr>\n",
              "  <th>5</th>  <td>     11.40</td>  <td>     13.94</td>  <td> 9.433e+04</td>  <td>     12.42</td> \n",
              "</tr>\n",
              "<tr>\n",
              "  <th>6</th>  <td>     11.32</td>  <td>     14.34</td>  <td> 9.078e+04</td>  <td>     12.53</td> \n",
              "</tr>\n",
              "<tr>\n",
              "  <th>7</th>  <td>     11.50</td>  <td>     15.00</td>  <td> 1.146e+05</td>  <td>     12.90</td> \n",
              "</tr>\n",
              "<tr>\n",
              "  <th>8</th>  <td>     11.64</td>  <td>     15.63</td>  <td> 1.421e+05</td>  <td>     13.23</td> \n",
              "</tr>\n",
              "<tr>\n",
              "  <th>9</th>  <td>     11.55</td>  <td>     16.03</td>  <td> 1.451e+05</td>  <td>     13.34</td> \n",
              "</tr>\n",
              "<tr>\n",
              "  <th>10</th> <td>     11.65</td>  <td>     16.61</td>  <td> 1.833e+05</td>  <td>     13.63</td> \n",
              "</tr>\n",
              "<tr>\n",
              "  <th>11</th> <td>     11.74</td>  <td>     17.18</td>  <td> 2.409e+05</td>  <td>     13.92</td> \n",
              "</tr>\n",
              "<tr>\n",
              "  <th>12</th> <td>     11.75</td>  <td>     17.67</td>  <td> 3.065e+05</td>  <td>     14.12</td> \n",
              "</tr>\n",
              "</table>"
            ]
          },
          "metadata": {},
          "execution_count": 102
        }
      ]
    },
    {
      "cell_type": "code",
      "source": [
        "model_fitted = model.fit(2)\n",
        "model_fitted.summary()"
      ],
      "metadata": {
        "colab": {
          "base_uri": "https://localhost:8080/"
        },
        "id": "mNAUSPOJCPDk",
        "outputId": "c1e235dd-fd9c-4203-ddf5-16fa38ca6b81"
      },
      "execution_count": null,
      "outputs": [
        {
          "output_type": "execute_result",
          "data": {
            "text/plain": [
              "  Summary of Regression Results   \n",
              "==================================\n",
              "Model:                         VAR\n",
              "Method:                        OLS\n",
              "Date:           Thu, 23, Mar, 2023\n",
              "Time:                     10:43:24\n",
              "--------------------------------------------------------------------\n",
              "No. of Equations:         4.00000    BIC:                    13.0626\n",
              "Nobs:                     88.0000    HQIC:                   12.4574\n",
              "Log likelihood:          -993.628    FPE:                    171442.\n",
              "AIC:                      12.0491    Det(Omega_mle):         116134.\n",
              "--------------------------------------------------------------------\n",
              "Results for equation GDP Growth\n",
              "=======================================================================================\n",
              "                          coefficient       std. error           t-stat            prob\n",
              "---------------------------------------------------------------------------------------\n",
              "const                        0.001417         0.138472            0.010           0.992\n",
              "L1.GDP Growth                0.006789         0.112279            0.060           0.952\n",
              "L1.Stock Index               0.000421         0.000374            1.124           0.261\n",
              "L1.Repo Rate                -0.108173         0.212414           -0.509           0.611\n",
              "L1.Unemployment Rate         0.017435         0.101293            0.172           0.863\n",
              "L2.GDP Growth               -0.070784         0.110575           -0.640           0.522\n",
              "L2.Stock Index              -0.000210         0.000380           -0.554           0.580\n",
              "L2.Repo Rate                -0.179814         0.194672           -0.924           0.356\n",
              "L2.Unemployment Rate         0.017530         0.100086            0.175           0.861\n",
              "=======================================================================================\n",
              "\n",
              "Results for equation Stock Index\n",
              "=======================================================================================\n",
              "                          coefficient       std. error           t-stat            prob\n",
              "---------------------------------------------------------------------------------------\n",
              "const                       75.162089        39.718997            1.892           0.058\n",
              "L1.GDP Growth               40.871473        32.205754            1.269           0.204\n",
              "L1.Stock Index               0.207173         0.107311            1.931           0.054\n",
              "L1.Repo Rate               -41.688138        60.928312           -0.684           0.494\n",
              "L1.Unemployment Rate       -21.580730        29.054747           -0.743           0.458\n",
              "L2.GDP Growth               33.170766        31.716943            1.046           0.296\n",
              "L2.Stock Index              -0.242043         0.108865           -2.223           0.026\n",
              "L2.Repo Rate                56.127210        55.839293            1.005           0.315\n",
              "L2.Unemployment Rate        -1.862673        28.708329           -0.065           0.948\n",
              "=======================================================================================\n",
              "\n",
              "Results for equation Repo Rate\n",
              "=======================================================================================\n",
              "                          coefficient       std. error           t-stat            prob\n",
              "---------------------------------------------------------------------------------------\n",
              "const                       -0.043823         0.070635           -0.620           0.535\n",
              "L1.GDP Growth                0.069410         0.057274            1.212           0.226\n",
              "L1.Stock Index              -0.000107         0.000191           -0.562           0.574\n",
              "L1.Repo Rate                 0.029341         0.108353            0.271           0.787\n",
              "L1.Unemployment Rate         0.079482         0.051670            1.538           0.124\n",
              "L2.GDP Growth               -0.048058         0.056404           -0.852           0.394\n",
              "L2.Stock Index               0.000040         0.000194            0.205           0.838\n",
              "L2.Repo Rate                -0.024792         0.099303           -0.250           0.803\n",
              "L2.Unemployment Rate         0.124431         0.051054            2.437           0.015\n",
              "=======================================================================================\n",
              "\n",
              "Results for equation Unemployment Rate\n",
              "=======================================================================================\n",
              "                          coefficient       std. error           t-stat            prob\n",
              "---------------------------------------------------------------------------------------\n",
              "const                       -0.049728         0.133980           -0.371           0.711\n",
              "L1.GDP Growth                0.070288         0.108637            0.647           0.518\n",
              "L1.Stock Index              -0.000549         0.000362           -1.515           0.130\n",
              "L1.Repo Rate                -0.174339         0.205524           -0.848           0.396\n",
              "L1.Unemployment Rate        -0.417417         0.098008           -4.259           0.000\n",
              "L2.GDP Growth               -0.085662         0.106988           -0.801           0.423\n",
              "L2.Stock Index               0.000359         0.000367            0.979           0.328\n",
              "L2.Repo Rate                 0.099376         0.188357            0.528           0.598\n",
              "L2.Unemployment Rate        -0.398152         0.096839           -4.111           0.000\n",
              "=======================================================================================\n",
              "\n",
              "Correlation matrix of residuals\n",
              "                     GDP Growth  Stock Index  Repo Rate  Unemployment Rate\n",
              "GDP Growth             1.000000     0.115679   0.020484           0.050767\n",
              "Stock Index            0.115679     1.000000  -0.030385          -0.080984\n",
              "Repo Rate              0.020484    -0.030385   1.000000           0.033442\n",
              "Unemployment Rate      0.050767    -0.080984   0.033442           1.000000\n",
              "\n"
            ]
          },
          "metadata": {},
          "execution_count": 103
        }
      ]
    },
    {
      "cell_type": "markdown",
      "source": [
        "checking for serial corr"
      ],
      "metadata": {
        "id": "B9LxOP2_Cpv3"
      }
    },
    {
      "cell_type": "code",
      "source": [
        "# from statsmodels.stats.stattools import durbin_watson\n",
        "# out = durbin_watson(model_fitted.resid)\n",
        "\n",
        "# for col, val in zip(df.columns, out):\n",
        "#     print(adjust(col), ':', round(val, 2))"
      ],
      "metadata": {
        "id": "Ww7jE5FJCsa9"
      },
      "execution_count": null,
      "outputs": []
    }
  ]
}