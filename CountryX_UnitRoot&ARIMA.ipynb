{
  "cells": [
    {
      "cell_type": "code",
      "execution_count": null,
      "id": "23cb4314",
      "metadata": {
        "id": "23cb4314"
      },
      "outputs": [],
      "source": [
        "import pandas as pd\n",
        "import numpy as np\n",
        "import seaborn as sns\n",
        "import matplotlib.pyplot as plt"
      ]
    },
    {
      "cell_type": "code",
      "execution_count": null,
      "id": "e5d8b0f6",
      "metadata": {
        "id": "e5d8b0f6"
      },
      "outputs": [],
      "source": [
        "df = pd.read_csv('/content/Country-X.csv')"
      ]
    },
    {
      "cell_type": "code",
      "execution_count": null,
      "id": "7b388c36",
      "metadata": {
        "colab": {
          "base_uri": "https://localhost:8080/",
          "height": 206
        },
        "id": "7b388c36",
        "outputId": "c47ae948-c2ac-43c4-ef0f-87f5c8625156"
      },
      "outputs": [
        {
          "output_type": "execute_result",
          "data": {
            "text/plain": [
              "   Year     GDP (Bn)  Carbon Emission (Metric tons)  Energy Consumption (Kwh)  \\\n",
              "0  1980  3317.272678                           2.03                      6385   \n",
              "1  1981  3463.234057                           2.10                      6979   \n",
              "2  1982  3583.576902                           2.06                      7233   \n",
              "3  1983  3718.162254                           2.35                      7850   \n",
              "4  1984  3908.417851                           2.37                      8045   \n",
              "\n",
              "   Expenditure to protect Environment (Bn)  \n",
              "0                                    70.25  \n",
              "1                                    90.25  \n",
              "2                                   114.25  \n",
              "3                                   118.65  \n",
              "4                                   150.15  "
            ],
            "text/html": [
              "\n",
              "  <div id=\"df-df7cb0ad-5310-4e10-9ff7-c51550ac3d75\">\n",
              "    <div class=\"colab-df-container\">\n",
              "      <div>\n",
              "<style scoped>\n",
              "    .dataframe tbody tr th:only-of-type {\n",
              "        vertical-align: middle;\n",
              "    }\n",
              "\n",
              "    .dataframe tbody tr th {\n",
              "        vertical-align: top;\n",
              "    }\n",
              "\n",
              "    .dataframe thead th {\n",
              "        text-align: right;\n",
              "    }\n",
              "</style>\n",
              "<table border=\"1\" class=\"dataframe\">\n",
              "  <thead>\n",
              "    <tr style=\"text-align: right;\">\n",
              "      <th></th>\n",
              "      <th>Year</th>\n",
              "      <th>GDP (Bn)</th>\n",
              "      <th>Carbon Emission (Metric tons)</th>\n",
              "      <th>Energy Consumption (Kwh)</th>\n",
              "      <th>Expenditure to protect Environment (Bn)</th>\n",
              "    </tr>\n",
              "  </thead>\n",
              "  <tbody>\n",
              "    <tr>\n",
              "      <th>0</th>\n",
              "      <td>1980</td>\n",
              "      <td>3317.272678</td>\n",
              "      <td>2.03</td>\n",
              "      <td>6385</td>\n",
              "      <td>70.25</td>\n",
              "    </tr>\n",
              "    <tr>\n",
              "      <th>1</th>\n",
              "      <td>1981</td>\n",
              "      <td>3463.234057</td>\n",
              "      <td>2.10</td>\n",
              "      <td>6979</td>\n",
              "      <td>90.25</td>\n",
              "    </tr>\n",
              "    <tr>\n",
              "      <th>2</th>\n",
              "      <td>1982</td>\n",
              "      <td>3583.576902</td>\n",
              "      <td>2.06</td>\n",
              "      <td>7233</td>\n",
              "      <td>114.25</td>\n",
              "    </tr>\n",
              "    <tr>\n",
              "      <th>3</th>\n",
              "      <td>1983</td>\n",
              "      <td>3718.162254</td>\n",
              "      <td>2.35</td>\n",
              "      <td>7850</td>\n",
              "      <td>118.65</td>\n",
              "    </tr>\n",
              "    <tr>\n",
              "      <th>4</th>\n",
              "      <td>1984</td>\n",
              "      <td>3908.417851</td>\n",
              "      <td>2.37</td>\n",
              "      <td>8045</td>\n",
              "      <td>150.15</td>\n",
              "    </tr>\n",
              "  </tbody>\n",
              "</table>\n",
              "</div>\n",
              "      <button class=\"colab-df-convert\" onclick=\"convertToInteractive('df-df7cb0ad-5310-4e10-9ff7-c51550ac3d75')\"\n",
              "              title=\"Convert this dataframe to an interactive table.\"\n",
              "              style=\"display:none;\">\n",
              "        \n",
              "  <svg xmlns=\"http://www.w3.org/2000/svg\" height=\"24px\"viewBox=\"0 0 24 24\"\n",
              "       width=\"24px\">\n",
              "    <path d=\"M0 0h24v24H0V0z\" fill=\"none\"/>\n",
              "    <path d=\"M18.56 5.44l.94 2.06.94-2.06 2.06-.94-2.06-.94-.94-2.06-.94 2.06-2.06.94zm-11 1L8.5 8.5l.94-2.06 2.06-.94-2.06-.94L8.5 2.5l-.94 2.06-2.06.94zm10 10l.94 2.06.94-2.06 2.06-.94-2.06-.94-.94-2.06-.94 2.06-2.06.94z\"/><path d=\"M17.41 7.96l-1.37-1.37c-.4-.4-.92-.59-1.43-.59-.52 0-1.04.2-1.43.59L10.3 9.45l-7.72 7.72c-.78.78-.78 2.05 0 2.83L4 21.41c.39.39.9.59 1.41.59.51 0 1.02-.2 1.41-.59l7.78-7.78 2.81-2.81c.8-.78.8-2.07 0-2.86zM5.41 20L4 18.59l7.72-7.72 1.47 1.35L5.41 20z\"/>\n",
              "  </svg>\n",
              "      </button>\n",
              "      \n",
              "  <style>\n",
              "    .colab-df-container {\n",
              "      display:flex;\n",
              "      flex-wrap:wrap;\n",
              "      gap: 12px;\n",
              "    }\n",
              "\n",
              "    .colab-df-convert {\n",
              "      background-color: #E8F0FE;\n",
              "      border: none;\n",
              "      border-radius: 50%;\n",
              "      cursor: pointer;\n",
              "      display: none;\n",
              "      fill: #1967D2;\n",
              "      height: 32px;\n",
              "      padding: 0 0 0 0;\n",
              "      width: 32px;\n",
              "    }\n",
              "\n",
              "    .colab-df-convert:hover {\n",
              "      background-color: #E2EBFA;\n",
              "      box-shadow: 0px 1px 2px rgba(60, 64, 67, 0.3), 0px 1px 3px 1px rgba(60, 64, 67, 0.15);\n",
              "      fill: #174EA6;\n",
              "    }\n",
              "\n",
              "    [theme=dark] .colab-df-convert {\n",
              "      background-color: #3B4455;\n",
              "      fill: #D2E3FC;\n",
              "    }\n",
              "\n",
              "    [theme=dark] .colab-df-convert:hover {\n",
              "      background-color: #434B5C;\n",
              "      box-shadow: 0px 1px 3px 1px rgba(0, 0, 0, 0.15);\n",
              "      filter: drop-shadow(0px 1px 2px rgba(0, 0, 0, 0.3));\n",
              "      fill: #FFFFFF;\n",
              "    }\n",
              "  </style>\n",
              "\n",
              "      <script>\n",
              "        const buttonEl =\n",
              "          document.querySelector('#df-df7cb0ad-5310-4e10-9ff7-c51550ac3d75 button.colab-df-convert');\n",
              "        buttonEl.style.display =\n",
              "          google.colab.kernel.accessAllowed ? 'block' : 'none';\n",
              "\n",
              "        async function convertToInteractive(key) {\n",
              "          const element = document.querySelector('#df-df7cb0ad-5310-4e10-9ff7-c51550ac3d75');\n",
              "          const dataTable =\n",
              "            await google.colab.kernel.invokeFunction('convertToInteractive',\n",
              "                                                     [key], {});\n",
              "          if (!dataTable) return;\n",
              "\n",
              "          const docLinkHtml = 'Like what you see? Visit the ' +\n",
              "            '<a target=\"_blank\" href=https://colab.research.google.com/notebooks/data_table.ipynb>data table notebook</a>'\n",
              "            + ' to learn more about interactive tables.';\n",
              "          element.innerHTML = '';\n",
              "          dataTable['output_type'] = 'display_data';\n",
              "          await google.colab.output.renderOutput(dataTable, element);\n",
              "          const docLink = document.createElement('div');\n",
              "          docLink.innerHTML = docLinkHtml;\n",
              "          element.appendChild(docLink);\n",
              "        }\n",
              "      </script>\n",
              "    </div>\n",
              "  </div>\n",
              "  "
            ]
          },
          "metadata": {},
          "execution_count": 20
        }
      ],
      "source": [
        "df.head()"
      ]
    },
    {
      "cell_type": "code",
      "source": [
        "df[['log_GDP',\t'log_Carbon Emission',\t'log_Energy Consumption',\t'log_Expenditure to protect Environment']]=np.log(df[['GDP (Bn)',\t'Carbon Emission (Metric tons)',\t'Energy Consumption (Kwh)',\t'Expenditure to protect Environment (Bn)']])"
      ],
      "metadata": {
        "id": "_-MagbLmsoKK"
      },
      "id": "_-MagbLmsoKK",
      "execution_count": null,
      "outputs": []
    },
    {
      "cell_type": "code",
      "source": [
        "df.head()"
      ],
      "metadata": {
        "colab": {
          "base_uri": "https://localhost:8080/",
          "height": 268
        },
        "id": "J11MCVdgteFh",
        "outputId": "3a46f470-a973-412b-9d15-9f1a18ed4666"
      },
      "id": "J11MCVdgteFh",
      "execution_count": null,
      "outputs": [
        {
          "output_type": "execute_result",
          "data": {
            "text/plain": [
              "   Year     GDP (Bn)  Carbon Emission (Metric tons)  Energy Consumption (Kwh)  \\\n",
              "0  1980  3317.272678                           2.03                      6385   \n",
              "1  1981  3463.234057                           2.10                      6979   \n",
              "2  1982  3583.576902                           2.06                      7233   \n",
              "3  1983  3718.162254                           2.35                      7850   \n",
              "4  1984  3908.417851                           2.37                      8045   \n",
              "\n",
              "   Expenditure to protect Environment (Bn)   log_GDP  log_Carbon Emission  \\\n",
              "0                                    70.25  8.106898             0.708036   \n",
              "1                                    90.25  8.149958             0.741937   \n",
              "2                                   114.25  8.184117             0.722706   \n",
              "3                                   118.65  8.220985             0.854415   \n",
              "4                                   150.15  8.270888             0.862890   \n",
              "\n",
              "   log_Energy Consumption  log_Expenditure to protect Environment  \n",
              "0                8.761707                                4.252060  \n",
              "1                8.850661                                4.502584  \n",
              "2                8.886409                                4.738389  \n",
              "3                8.968269                                4.776178  \n",
              "4                8.992806                                5.011635  "
            ],
            "text/html": [
              "\n",
              "  <div id=\"df-ed0e3161-dbf1-45aa-b9a1-055f25147160\">\n",
              "    <div class=\"colab-df-container\">\n",
              "      <div>\n",
              "<style scoped>\n",
              "    .dataframe tbody tr th:only-of-type {\n",
              "        vertical-align: middle;\n",
              "    }\n",
              "\n",
              "    .dataframe tbody tr th {\n",
              "        vertical-align: top;\n",
              "    }\n",
              "\n",
              "    .dataframe thead th {\n",
              "        text-align: right;\n",
              "    }\n",
              "</style>\n",
              "<table border=\"1\" class=\"dataframe\">\n",
              "  <thead>\n",
              "    <tr style=\"text-align: right;\">\n",
              "      <th></th>\n",
              "      <th>Year</th>\n",
              "      <th>GDP (Bn)</th>\n",
              "      <th>Carbon Emission (Metric tons)</th>\n",
              "      <th>Energy Consumption (Kwh)</th>\n",
              "      <th>Expenditure to protect Environment (Bn)</th>\n",
              "      <th>log_GDP</th>\n",
              "      <th>log_Carbon Emission</th>\n",
              "      <th>log_Energy Consumption</th>\n",
              "      <th>log_Expenditure to protect Environment</th>\n",
              "    </tr>\n",
              "  </thead>\n",
              "  <tbody>\n",
              "    <tr>\n",
              "      <th>0</th>\n",
              "      <td>1980</td>\n",
              "      <td>3317.272678</td>\n",
              "      <td>2.03</td>\n",
              "      <td>6385</td>\n",
              "      <td>70.25</td>\n",
              "      <td>8.106898</td>\n",
              "      <td>0.708036</td>\n",
              "      <td>8.761707</td>\n",
              "      <td>4.252060</td>\n",
              "    </tr>\n",
              "    <tr>\n",
              "      <th>1</th>\n",
              "      <td>1981</td>\n",
              "      <td>3463.234057</td>\n",
              "      <td>2.10</td>\n",
              "      <td>6979</td>\n",
              "      <td>90.25</td>\n",
              "      <td>8.149958</td>\n",
              "      <td>0.741937</td>\n",
              "      <td>8.850661</td>\n",
              "      <td>4.502584</td>\n",
              "    </tr>\n",
              "    <tr>\n",
              "      <th>2</th>\n",
              "      <td>1982</td>\n",
              "      <td>3583.576902</td>\n",
              "      <td>2.06</td>\n",
              "      <td>7233</td>\n",
              "      <td>114.25</td>\n",
              "      <td>8.184117</td>\n",
              "      <td>0.722706</td>\n",
              "      <td>8.886409</td>\n",
              "      <td>4.738389</td>\n",
              "    </tr>\n",
              "    <tr>\n",
              "      <th>3</th>\n",
              "      <td>1983</td>\n",
              "      <td>3718.162254</td>\n",
              "      <td>2.35</td>\n",
              "      <td>7850</td>\n",
              "      <td>118.65</td>\n",
              "      <td>8.220985</td>\n",
              "      <td>0.854415</td>\n",
              "      <td>8.968269</td>\n",
              "      <td>4.776178</td>\n",
              "    </tr>\n",
              "    <tr>\n",
              "      <th>4</th>\n",
              "      <td>1984</td>\n",
              "      <td>3908.417851</td>\n",
              "      <td>2.37</td>\n",
              "      <td>8045</td>\n",
              "      <td>150.15</td>\n",
              "      <td>8.270888</td>\n",
              "      <td>0.862890</td>\n",
              "      <td>8.992806</td>\n",
              "      <td>5.011635</td>\n",
              "    </tr>\n",
              "  </tbody>\n",
              "</table>\n",
              "</div>\n",
              "      <button class=\"colab-df-convert\" onclick=\"convertToInteractive('df-ed0e3161-dbf1-45aa-b9a1-055f25147160')\"\n",
              "              title=\"Convert this dataframe to an interactive table.\"\n",
              "              style=\"display:none;\">\n",
              "        \n",
              "  <svg xmlns=\"http://www.w3.org/2000/svg\" height=\"24px\"viewBox=\"0 0 24 24\"\n",
              "       width=\"24px\">\n",
              "    <path d=\"M0 0h24v24H0V0z\" fill=\"none\"/>\n",
              "    <path d=\"M18.56 5.44l.94 2.06.94-2.06 2.06-.94-2.06-.94-.94-2.06-.94 2.06-2.06.94zm-11 1L8.5 8.5l.94-2.06 2.06-.94-2.06-.94L8.5 2.5l-.94 2.06-2.06.94zm10 10l.94 2.06.94-2.06 2.06-.94-2.06-.94-.94-2.06-.94 2.06-2.06.94z\"/><path d=\"M17.41 7.96l-1.37-1.37c-.4-.4-.92-.59-1.43-.59-.52 0-1.04.2-1.43.59L10.3 9.45l-7.72 7.72c-.78.78-.78 2.05 0 2.83L4 21.41c.39.39.9.59 1.41.59.51 0 1.02-.2 1.41-.59l7.78-7.78 2.81-2.81c.8-.78.8-2.07 0-2.86zM5.41 20L4 18.59l7.72-7.72 1.47 1.35L5.41 20z\"/>\n",
              "  </svg>\n",
              "      </button>\n",
              "      \n",
              "  <style>\n",
              "    .colab-df-container {\n",
              "      display:flex;\n",
              "      flex-wrap:wrap;\n",
              "      gap: 12px;\n",
              "    }\n",
              "\n",
              "    .colab-df-convert {\n",
              "      background-color: #E8F0FE;\n",
              "      border: none;\n",
              "      border-radius: 50%;\n",
              "      cursor: pointer;\n",
              "      display: none;\n",
              "      fill: #1967D2;\n",
              "      height: 32px;\n",
              "      padding: 0 0 0 0;\n",
              "      width: 32px;\n",
              "    }\n",
              "\n",
              "    .colab-df-convert:hover {\n",
              "      background-color: #E2EBFA;\n",
              "      box-shadow: 0px 1px 2px rgba(60, 64, 67, 0.3), 0px 1px 3px 1px rgba(60, 64, 67, 0.15);\n",
              "      fill: #174EA6;\n",
              "    }\n",
              "\n",
              "    [theme=dark] .colab-df-convert {\n",
              "      background-color: #3B4455;\n",
              "      fill: #D2E3FC;\n",
              "    }\n",
              "\n",
              "    [theme=dark] .colab-df-convert:hover {\n",
              "      background-color: #434B5C;\n",
              "      box-shadow: 0px 1px 3px 1px rgba(0, 0, 0, 0.15);\n",
              "      filter: drop-shadow(0px 1px 2px rgba(0, 0, 0, 0.3));\n",
              "      fill: #FFFFFF;\n",
              "    }\n",
              "  </style>\n",
              "\n",
              "      <script>\n",
              "        const buttonEl =\n",
              "          document.querySelector('#df-ed0e3161-dbf1-45aa-b9a1-055f25147160 button.colab-df-convert');\n",
              "        buttonEl.style.display =\n",
              "          google.colab.kernel.accessAllowed ? 'block' : 'none';\n",
              "\n",
              "        async function convertToInteractive(key) {\n",
              "          const element = document.querySelector('#df-ed0e3161-dbf1-45aa-b9a1-055f25147160');\n",
              "          const dataTable =\n",
              "            await google.colab.kernel.invokeFunction('convertToInteractive',\n",
              "                                                     [key], {});\n",
              "          if (!dataTable) return;\n",
              "\n",
              "          const docLinkHtml = 'Like what you see? Visit the ' +\n",
              "            '<a target=\"_blank\" href=https://colab.research.google.com/notebooks/data_table.ipynb>data table notebook</a>'\n",
              "            + ' to learn more about interactive tables.';\n",
              "          element.innerHTML = '';\n",
              "          dataTable['output_type'] = 'display_data';\n",
              "          await google.colab.output.renderOutput(dataTable, element);\n",
              "          const docLink = document.createElement('div');\n",
              "          docLink.innerHTML = docLinkHtml;\n",
              "          element.appendChild(docLink);\n",
              "        }\n",
              "      </script>\n",
              "    </div>\n",
              "  </div>\n",
              "  "
            ]
          },
          "metadata": {},
          "execution_count": 22
        }
      ]
    },
    {
      "cell_type": "code",
      "source": [
        "from statsmodels.tsa.stattools import adfuller\n",
        "\n",
        "#perform augmented Dickey-Fuller test\n",
        "adfuller(df['log_GDP'].dropna(), regression='ct')\n"
      ],
      "metadata": {
        "colab": {
          "base_uri": "https://localhost:8080/"
        },
        "id": "Pkbfg--4rJnQ",
        "outputId": "d5a85c95-3dcf-4f60-aab0-a9a7b5b0c1e2"
      },
      "id": "Pkbfg--4rJnQ",
      "execution_count": null,
      "outputs": [
        {
          "output_type": "execute_result",
          "data": {
            "text/plain": [
              "(-2.0645292177486714,\n",
              " 0.5658931601504992,\n",
              " 0,\n",
              " 42,\n",
              " {'1%': -4.1922463983371125,\n",
              "  '5%': -3.520758216175359,\n",
              "  '10%': -3.1911390346614836},\n",
              " -121.66392130970962)"
            ]
          },
          "metadata": {},
          "execution_count": 53
        }
      ]
    },
    {
      "cell_type": "code",
      "source": [
        "adfuller(df['log_Carbon Emission'].dropna(), regression='ctt')"
      ],
      "metadata": {
        "colab": {
          "base_uri": "https://localhost:8080/"
        },
        "id": "cH7E2IvUrrwf",
        "outputId": "c74f9a00-4267-4b08-ab5a-35ef35d5d337"
      },
      "id": "cH7E2IvUrrwf",
      "execution_count": null,
      "outputs": [
        {
          "output_type": "execute_result",
          "data": {
            "text/plain": [
              "(-3.2353819203961653,\n",
              " 0.19530846049512812,\n",
              " 0,\n",
              " 42,\n",
              " {'1%': -4.6718538662131515,\n",
              "  '5%': -3.981678937479754,\n",
              "  '10%': -3.6442517854443364},\n",
              " -103.89872155857455)"
            ]
          },
          "metadata": {},
          "execution_count": 56
        }
      ]
    },
    {
      "cell_type": "code",
      "source": [
        "adfuller(df['log_Energy Consumption'].dropna(), regression='c')"
      ],
      "metadata": {
        "colab": {
          "base_uri": "https://localhost:8080/"
        },
        "id": "bRxuvyBXrsFw",
        "outputId": "12f98422-460f-4603-bb8e-97b67ceb8059"
      },
      "id": "bRxuvyBXrsFw",
      "execution_count": null,
      "outputs": [
        {
          "output_type": "execute_result",
          "data": {
            "text/plain": [
              "(-2.7727894803308404,\n",
              " 0.062266946974449816,\n",
              " 3,\n",
              " 39,\n",
              " {'1%': -3.610399601308181,\n",
              "  '5%': -2.939108945868946,\n",
              "  '10%': -2.6080629651545038},\n",
              " -92.92125156138192)"
            ]
          },
          "metadata": {},
          "execution_count": 72
        }
      ]
    },
    {
      "cell_type": "code",
      "source": [
        "adfuller(df['log_Expenditure to protect Environment'].dropna(),  regression='c')"
      ],
      "metadata": {
        "colab": {
          "base_uri": "https://localhost:8080/"
        },
        "id": "7cj1r8u1rsrq",
        "outputId": "bb8b5913-4aa7-46e8-db37-452c218ea2c3"
      },
      "id": "7cj1r8u1rsrq",
      "execution_count": null,
      "outputs": [
        {
          "output_type": "execute_result",
          "data": {
            "text/plain": [
              "(-3.016551678743989,\n",
              " 0.1275121635294783,\n",
              " 0,\n",
              " 42,\n",
              " {'1%': -4.1922463983371125,\n",
              "  '5%': -3.520758216175359,\n",
              "  '10%': -3.1911390346614836},\n",
              " -41.77867275779599)"
            ]
          },
          "metadata": {},
          "execution_count": 61
        }
      ]
    },
    {
      "cell_type": "code",
      "execution_count": null,
      "id": "97712b70",
      "metadata": {
        "id": "97712b70"
      },
      "outputs": [],
      "source": [
        "df['GDP_1st_diff'] = df['log_GDP'] - df['log_GDP'].shift(1)"
      ]
    },
    {
      "cell_type": "code",
      "execution_count": null,
      "id": "b84f4a21",
      "metadata": {
        "id": "b84f4a21"
      },
      "outputs": [],
      "source": [
        "df['Carbon Emission_1st_diff'] = df['log_Carbon Emission'] - df['log_Carbon Emission'].shift(1)"
      ]
    },
    {
      "cell_type": "code",
      "execution_count": null,
      "id": "fe2dd2ca",
      "metadata": {
        "id": "fe2dd2ca"
      },
      "outputs": [],
      "source": [
        "df['Energy Consumption_1st_diff'] = df['log_Energy Consumption'] - df['log_Energy Consumption'].shift(1)"
      ]
    },
    {
      "cell_type": "code",
      "execution_count": null,
      "id": "a50d407c",
      "metadata": {
        "id": "a50d407c"
      },
      "outputs": [],
      "source": [
        "df['Expenditure to protect Environment_1st_diff'] = df['log_Expenditure to protect Environment'] - df['log_Expenditure to protect Environment'].shift(1)"
      ]
    },
    {
      "cell_type": "code",
      "source": [
        "df.head()"
      ],
      "metadata": {
        "colab": {
          "base_uri": "https://localhost:8080/",
          "height": 302
        },
        "id": "vqD55EJAwpzv",
        "outputId": "c2f00f6f-857f-4903-cfd4-f3be76b44adf"
      },
      "id": "vqD55EJAwpzv",
      "execution_count": null,
      "outputs": [
        {
          "output_type": "execute_result",
          "data": {
            "text/plain": [
              "   Year     GDP (Bn)  Carbon Emission (Metric tons)  Energy Consumption (Kwh)  \\\n",
              "0  1980  3317.272678                           2.03                      6385   \n",
              "1  1981  3463.234057                           2.10                      6979   \n",
              "2  1982  3583.576902                           2.06                      7233   \n",
              "3  1983  3718.162254                           2.35                      7850   \n",
              "4  1984  3908.417851                           2.37                      8045   \n",
              "\n",
              "   Expenditure to protect Environment (Bn)   log_GDP  log_Carbon Emission  \\\n",
              "0                                    70.25  8.106898             0.708036   \n",
              "1                                    90.25  8.149958             0.741937   \n",
              "2                                   114.25  8.184117             0.722706   \n",
              "3                                   118.65  8.220985             0.854415   \n",
              "4                                   150.15  8.270888             0.862890   \n",
              "\n",
              "   log_Energy Consumption  log_Expenditure to protect Environment  \\\n",
              "0                8.761707                                4.252060   \n",
              "1                8.850661                                4.502584   \n",
              "2                8.886409                                4.738389   \n",
              "3                8.968269                                4.776178   \n",
              "4                8.992806                                5.011635   \n",
              "\n",
              "   GDP_1st_diff  Carbon Emission_1st_diff  Energy Consumption_1st_diff  \\\n",
              "0           NaN                       NaN                          NaN   \n",
              "1      0.043060                  0.033902                     0.088954   \n",
              "2      0.034159                 -0.019231                     0.035748   \n",
              "3      0.036868                  0.131709                     0.081860   \n",
              "4      0.049903                  0.008475                     0.024537   \n",
              "\n",
              "   Expenditure to protect Environment_1st_diff  \n",
              "0                                          NaN  \n",
              "1                                     0.250523  \n",
              "2                                     0.235805  \n",
              "3                                     0.037789  \n",
              "4                                     0.235457  "
            ],
            "text/html": [
              "\n",
              "  <div id=\"df-6d429dcc-7f18-4e9e-9f84-12816d63c162\">\n",
              "    <div class=\"colab-df-container\">\n",
              "      <div>\n",
              "<style scoped>\n",
              "    .dataframe tbody tr th:only-of-type {\n",
              "        vertical-align: middle;\n",
              "    }\n",
              "\n",
              "    .dataframe tbody tr th {\n",
              "        vertical-align: top;\n",
              "    }\n",
              "\n",
              "    .dataframe thead th {\n",
              "        text-align: right;\n",
              "    }\n",
              "</style>\n",
              "<table border=\"1\" class=\"dataframe\">\n",
              "  <thead>\n",
              "    <tr style=\"text-align: right;\">\n",
              "      <th></th>\n",
              "      <th>Year</th>\n",
              "      <th>GDP (Bn)</th>\n",
              "      <th>Carbon Emission (Metric tons)</th>\n",
              "      <th>Energy Consumption (Kwh)</th>\n",
              "      <th>Expenditure to protect Environment (Bn)</th>\n",
              "      <th>log_GDP</th>\n",
              "      <th>log_Carbon Emission</th>\n",
              "      <th>log_Energy Consumption</th>\n",
              "      <th>log_Expenditure to protect Environment</th>\n",
              "      <th>GDP_1st_diff</th>\n",
              "      <th>Carbon Emission_1st_diff</th>\n",
              "      <th>Energy Consumption_1st_diff</th>\n",
              "      <th>Expenditure to protect Environment_1st_diff</th>\n",
              "    </tr>\n",
              "  </thead>\n",
              "  <tbody>\n",
              "    <tr>\n",
              "      <th>0</th>\n",
              "      <td>1980</td>\n",
              "      <td>3317.272678</td>\n",
              "      <td>2.03</td>\n",
              "      <td>6385</td>\n",
              "      <td>70.25</td>\n",
              "      <td>8.106898</td>\n",
              "      <td>0.708036</td>\n",
              "      <td>8.761707</td>\n",
              "      <td>4.252060</td>\n",
              "      <td>NaN</td>\n",
              "      <td>NaN</td>\n",
              "      <td>NaN</td>\n",
              "      <td>NaN</td>\n",
              "    </tr>\n",
              "    <tr>\n",
              "      <th>1</th>\n",
              "      <td>1981</td>\n",
              "      <td>3463.234057</td>\n",
              "      <td>2.10</td>\n",
              "      <td>6979</td>\n",
              "      <td>90.25</td>\n",
              "      <td>8.149958</td>\n",
              "      <td>0.741937</td>\n",
              "      <td>8.850661</td>\n",
              "      <td>4.502584</td>\n",
              "      <td>0.043060</td>\n",
              "      <td>0.033902</td>\n",
              "      <td>0.088954</td>\n",
              "      <td>0.250523</td>\n",
              "    </tr>\n",
              "    <tr>\n",
              "      <th>2</th>\n",
              "      <td>1982</td>\n",
              "      <td>3583.576902</td>\n",
              "      <td>2.06</td>\n",
              "      <td>7233</td>\n",
              "      <td>114.25</td>\n",
              "      <td>8.184117</td>\n",
              "      <td>0.722706</td>\n",
              "      <td>8.886409</td>\n",
              "      <td>4.738389</td>\n",
              "      <td>0.034159</td>\n",
              "      <td>-0.019231</td>\n",
              "      <td>0.035748</td>\n",
              "      <td>0.235805</td>\n",
              "    </tr>\n",
              "    <tr>\n",
              "      <th>3</th>\n",
              "      <td>1983</td>\n",
              "      <td>3718.162254</td>\n",
              "      <td>2.35</td>\n",
              "      <td>7850</td>\n",
              "      <td>118.65</td>\n",
              "      <td>8.220985</td>\n",
              "      <td>0.854415</td>\n",
              "      <td>8.968269</td>\n",
              "      <td>4.776178</td>\n",
              "      <td>0.036868</td>\n",
              "      <td>0.131709</td>\n",
              "      <td>0.081860</td>\n",
              "      <td>0.037789</td>\n",
              "    </tr>\n",
              "    <tr>\n",
              "      <th>4</th>\n",
              "      <td>1984</td>\n",
              "      <td>3908.417851</td>\n",
              "      <td>2.37</td>\n",
              "      <td>8045</td>\n",
              "      <td>150.15</td>\n",
              "      <td>8.270888</td>\n",
              "      <td>0.862890</td>\n",
              "      <td>8.992806</td>\n",
              "      <td>5.011635</td>\n",
              "      <td>0.049903</td>\n",
              "      <td>0.008475</td>\n",
              "      <td>0.024537</td>\n",
              "      <td>0.235457</td>\n",
              "    </tr>\n",
              "  </tbody>\n",
              "</table>\n",
              "</div>\n",
              "      <button class=\"colab-df-convert\" onclick=\"convertToInteractive('df-6d429dcc-7f18-4e9e-9f84-12816d63c162')\"\n",
              "              title=\"Convert this dataframe to an interactive table.\"\n",
              "              style=\"display:none;\">\n",
              "        \n",
              "  <svg xmlns=\"http://www.w3.org/2000/svg\" height=\"24px\"viewBox=\"0 0 24 24\"\n",
              "       width=\"24px\">\n",
              "    <path d=\"M0 0h24v24H0V0z\" fill=\"none\"/>\n",
              "    <path d=\"M18.56 5.44l.94 2.06.94-2.06 2.06-.94-2.06-.94-.94-2.06-.94 2.06-2.06.94zm-11 1L8.5 8.5l.94-2.06 2.06-.94-2.06-.94L8.5 2.5l-.94 2.06-2.06.94zm10 10l.94 2.06.94-2.06 2.06-.94-2.06-.94-.94-2.06-.94 2.06-2.06.94z\"/><path d=\"M17.41 7.96l-1.37-1.37c-.4-.4-.92-.59-1.43-.59-.52 0-1.04.2-1.43.59L10.3 9.45l-7.72 7.72c-.78.78-.78 2.05 0 2.83L4 21.41c.39.39.9.59 1.41.59.51 0 1.02-.2 1.41-.59l7.78-7.78 2.81-2.81c.8-.78.8-2.07 0-2.86zM5.41 20L4 18.59l7.72-7.72 1.47 1.35L5.41 20z\"/>\n",
              "  </svg>\n",
              "      </button>\n",
              "      \n",
              "  <style>\n",
              "    .colab-df-container {\n",
              "      display:flex;\n",
              "      flex-wrap:wrap;\n",
              "      gap: 12px;\n",
              "    }\n",
              "\n",
              "    .colab-df-convert {\n",
              "      background-color: #E8F0FE;\n",
              "      border: none;\n",
              "      border-radius: 50%;\n",
              "      cursor: pointer;\n",
              "      display: none;\n",
              "      fill: #1967D2;\n",
              "      height: 32px;\n",
              "      padding: 0 0 0 0;\n",
              "      width: 32px;\n",
              "    }\n",
              "\n",
              "    .colab-df-convert:hover {\n",
              "      background-color: #E2EBFA;\n",
              "      box-shadow: 0px 1px 2px rgba(60, 64, 67, 0.3), 0px 1px 3px 1px rgba(60, 64, 67, 0.15);\n",
              "      fill: #174EA6;\n",
              "    }\n",
              "\n",
              "    [theme=dark] .colab-df-convert {\n",
              "      background-color: #3B4455;\n",
              "      fill: #D2E3FC;\n",
              "    }\n",
              "\n",
              "    [theme=dark] .colab-df-convert:hover {\n",
              "      background-color: #434B5C;\n",
              "      box-shadow: 0px 1px 3px 1px rgba(0, 0, 0, 0.15);\n",
              "      filter: drop-shadow(0px 1px 2px rgba(0, 0, 0, 0.3));\n",
              "      fill: #FFFFFF;\n",
              "    }\n",
              "  </style>\n",
              "\n",
              "      <script>\n",
              "        const buttonEl =\n",
              "          document.querySelector('#df-6d429dcc-7f18-4e9e-9f84-12816d63c162 button.colab-df-convert');\n",
              "        buttonEl.style.display =\n",
              "          google.colab.kernel.accessAllowed ? 'block' : 'none';\n",
              "\n",
              "        async function convertToInteractive(key) {\n",
              "          const element = document.querySelector('#df-6d429dcc-7f18-4e9e-9f84-12816d63c162');\n",
              "          const dataTable =\n",
              "            await google.colab.kernel.invokeFunction('convertToInteractive',\n",
              "                                                     [key], {});\n",
              "          if (!dataTable) return;\n",
              "\n",
              "          const docLinkHtml = 'Like what you see? Visit the ' +\n",
              "            '<a target=\"_blank\" href=https://colab.research.google.com/notebooks/data_table.ipynb>data table notebook</a>'\n",
              "            + ' to learn more about interactive tables.';\n",
              "          element.innerHTML = '';\n",
              "          dataTable['output_type'] = 'display_data';\n",
              "          await google.colab.output.renderOutput(dataTable, element);\n",
              "          const docLink = document.createElement('div');\n",
              "          docLink.innerHTML = docLinkHtml;\n",
              "          element.appendChild(docLink);\n",
              "        }\n",
              "      </script>\n",
              "    </div>\n",
              "  </div>\n",
              "  "
            ]
          },
          "metadata": {},
          "execution_count": 32
        }
      ]
    },
    {
      "cell_type": "code",
      "execution_count": null,
      "id": "7aaec6e8",
      "metadata": {
        "colab": {
          "base_uri": "https://localhost:8080/"
        },
        "id": "7aaec6e8",
        "outputId": "5afda02f-caed-4d6c-d458-482b93f28b1a"
      },
      "outputs": [
        {
          "output_type": "execute_result",
          "data": {
            "text/plain": [
              "(-4.396314025048153,\n",
              " 0.009248932996261209,\n",
              " 1,\n",
              " 40,\n",
              " {'1%': -4.688441359375, '5%': -3.9896869375, '10%': -3.649051234375},\n",
              " -111.60010299379275)"
            ]
          },
          "metadata": {},
          "execution_count": 62
        }
      ],
      "source": [
        "from statsmodels.tsa.stattools import adfuller\n",
        "\n",
        "#perform augmented Dickey-Fuller test\n",
        "adfuller(df['GDP_1st_diff'].dropna(), regression='ctt')"
      ]
    },
    {
      "cell_type": "code",
      "execution_count": null,
      "id": "a630fd55",
      "metadata": {
        "colab": {
          "base_uri": "https://localhost:8080/"
        },
        "id": "a630fd55",
        "outputId": "d4ed88d6-5185-4f88-98bd-5ffcd210a04f"
      },
      "outputs": [
        {
          "output_type": "execute_result",
          "data": {
            "text/plain": [
              "(-2.0781836086720333,\n",
              " 0.7852175604524213,\n",
              " 10,\n",
              " 31,\n",
              " {'1%': -4.793428553254339,\n",
              "  '5%': -4.039863790742171,\n",
              "  '10%': -3.6789529139673056},\n",
              " -95.002017751587)"
            ]
          },
          "metadata": {},
          "execution_count": 68
        }
      ],
      "source": [
        "adfuller(df['Carbon Emission_1st_diff'].dropna(), regression='ctt')"
      ]
    },
    {
      "cell_type": "code",
      "source": [
        "adfuller(df['Energy Consumption_1st_diff'].dropna(), regression='ctt')"
      ],
      "metadata": {
        "colab": {
          "base_uri": "https://localhost:8080/"
        },
        "id": "m7Y6s5w7yjb_",
        "outputId": "647af2bd-c62d-43ed-9b4b-2ab4339acf41"
      },
      "id": "m7Y6s5w7yjb_",
      "execution_count": null,
      "outputs": [
        {
          "output_type": "execute_result",
          "data": {
            "text/plain": [
              "(-4.693229366758706,\n",
              " 0.003289221579184349,\n",
              " 2,\n",
              " 39,\n",
              " {'1%': -4.697444337733272,\n",
              "  '5%': -3.9940239402215143,\n",
              "  '10%': -3.651647322780222},\n",
              " -86.19277643622013)"
            ]
          },
          "metadata": {},
          "execution_count": 69
        }
      ]
    },
    {
      "cell_type": "code",
      "source": [
        "adfuller(df['Expenditure to protect Environment_1st_diff'].dropna())"
      ],
      "metadata": {
        "colab": {
          "base_uri": "https://localhost:8080/"
        },
        "id": "WyhsCg-byjdS",
        "outputId": "580583fc-a934-4847-c827-176b8283fd0d"
      },
      "id": "WyhsCg-byjdS",
      "execution_count": null,
      "outputs": [
        {
          "output_type": "execute_result",
          "data": {
            "text/plain": [
              "(-7.152765398910621,\n",
              " 3.110148966596856e-10,\n",
              " 0,\n",
              " 41,\n",
              " {'1%': -3.60098336718852,\n",
              "  '5%': -2.9351348158036012,\n",
              "  '10%': -2.6059629803688282},\n",
              " -40.63486891687161)"
            ]
          },
          "metadata": {},
          "execution_count": 36
        }
      ]
    },
    {
      "cell_type": "markdown",
      "source": [
        "**ARIMA** **IMPLEMENTATION**"
      ],
      "metadata": {
        "id": "sd4UOMS6-kyo"
      },
      "id": "sd4UOMS6-kyo"
    },
    {
      "cell_type": "code",
      "source": [
        "from statsmodels.tsa.arima.model import ARIMA\n",
        "model = ARIMA(df['log_GDP'], order=(2,1,1))\n",
        "model_fit = model.fit()\n",
        "model_fit.summary()"
      ],
      "metadata": {
        "id": "UYrzy60J6EIH",
        "colab": {
          "base_uri": "https://localhost:8080/",
          "height": 538
        },
        "outputId": "57724522-4fea-4654-cb9d-ad334b477960"
      },
      "id": "UYrzy60J6EIH",
      "execution_count": null,
      "outputs": [
        {
          "output_type": "stream",
          "name": "stderr",
          "text": [
            "/usr/local/lib/python3.9/dist-packages/statsmodels/tsa/statespace/sarimax.py:966: UserWarning: Non-stationary starting autoregressive parameters found. Using zeros as starting parameters.\n",
            "  warn('Non-stationary starting autoregressive parameters'\n",
            "/usr/local/lib/python3.9/dist-packages/statsmodels/tsa/statespace/sarimax.py:978: UserWarning: Non-invertible starting MA parameters found. Using zeros as starting parameters.\n",
            "  warn('Non-invertible starting MA parameters found.'\n",
            "/usr/local/lib/python3.9/dist-packages/statsmodels/base/model.py:604: ConvergenceWarning: Maximum Likelihood optimization failed to converge. Check mle_retvals\n",
            "  warnings.warn(\"Maximum Likelihood optimization failed to \"\n"
          ]
        },
        {
          "output_type": "execute_result",
          "data": {
            "text/plain": [
              "<class 'statsmodels.iolib.summary.Summary'>\n",
              "\"\"\"\n",
              "                               SARIMAX Results                                \n",
              "==============================================================================\n",
              "Dep. Variable:                log_GDP   No. Observations:                   43\n",
              "Model:                 ARIMA(2, 1, 1)   Log Likelihood                  77.430\n",
              "Date:                Thu, 16 Mar 2023   AIC                           -146.860\n",
              "Time:                        10:13:46   BIC                           -139.909\n",
              "Sample:                             0   HQIC                          -144.312\n",
              "                                 - 43                                         \n",
              "Covariance Type:                  opg                                         \n",
              "==============================================================================\n",
              "                 coef    std err          z      P>|z|      [0.025      0.975]\n",
              "------------------------------------------------------------------------------\n",
              "ar.L1          1.1635      0.251      4.630      0.000       0.671       1.656\n",
              "ar.L2         -0.1645      0.243     -0.678      0.498      -0.640       0.311\n",
              "ma.L1         -0.9642      0.295     -3.270      0.001      -1.542      -0.386\n",
              "sigma2         0.0014      0.001      2.693      0.007       0.000       0.002\n",
              "===================================================================================\n",
              "Ljung-Box (L1) (Q):                   0.00   Jarque-Bera (JB):                53.52\n",
              "Prob(Q):                              0.98   Prob(JB):                         0.00\n",
              "Heteroskedasticity (H):               1.40   Skew:                            -1.73\n",
              "Prob(H) (two-sided):                  0.54   Kurtosis:                         7.31\n",
              "===================================================================================\n",
              "\n",
              "Warnings:\n",
              "[1] Covariance matrix calculated using the outer product of gradients (complex-step).\n",
              "\"\"\""
            ],
            "text/html": [
              "<table class=\"simpletable\">\n",
              "<caption>SARIMAX Results</caption>\n",
              "<tr>\n",
              "  <th>Dep. Variable:</th>        <td>log_GDP</td>     <th>  No. Observations:  </th>    <td>43</td>   \n",
              "</tr>\n",
              "<tr>\n",
              "  <th>Model:</th>            <td>ARIMA(2, 1, 1)</td>  <th>  Log Likelihood     </th>  <td>77.430</td> \n",
              "</tr>\n",
              "<tr>\n",
              "  <th>Date:</th>            <td>Thu, 16 Mar 2023</td> <th>  AIC                </th> <td>-146.860</td>\n",
              "</tr>\n",
              "<tr>\n",
              "  <th>Time:</th>                <td>10:13:46</td>     <th>  BIC                </th> <td>-139.909</td>\n",
              "</tr>\n",
              "<tr>\n",
              "  <th>Sample:</th>                  <td>0</td>        <th>  HQIC               </th> <td>-144.312</td>\n",
              "</tr>\n",
              "<tr>\n",
              "  <th></th>                       <td> - 43</td>      <th>                     </th>     <td> </td>   \n",
              "</tr>\n",
              "<tr>\n",
              "  <th>Covariance Type:</th>        <td>opg</td>       <th>                     </th>     <td> </td>   \n",
              "</tr>\n",
              "</table>\n",
              "<table class=\"simpletable\">\n",
              "<tr>\n",
              "     <td></td>       <th>coef</th>     <th>std err</th>      <th>z</th>      <th>P>|z|</th>  <th>[0.025</th>    <th>0.975]</th>  \n",
              "</tr>\n",
              "<tr>\n",
              "  <th>ar.L1</th>  <td>    1.1635</td> <td>    0.251</td> <td>    4.630</td> <td> 0.000</td> <td>    0.671</td> <td>    1.656</td>\n",
              "</tr>\n",
              "<tr>\n",
              "  <th>ar.L2</th>  <td>   -0.1645</td> <td>    0.243</td> <td>   -0.678</td> <td> 0.498</td> <td>   -0.640</td> <td>    0.311</td>\n",
              "</tr>\n",
              "<tr>\n",
              "  <th>ma.L1</th>  <td>   -0.9642</td> <td>    0.295</td> <td>   -3.270</td> <td> 0.001</td> <td>   -1.542</td> <td>   -0.386</td>\n",
              "</tr>\n",
              "<tr>\n",
              "  <th>sigma2</th> <td>    0.0014</td> <td>    0.001</td> <td>    2.693</td> <td> 0.007</td> <td>    0.000</td> <td>    0.002</td>\n",
              "</tr>\n",
              "</table>\n",
              "<table class=\"simpletable\">\n",
              "<tr>\n",
              "  <th>Ljung-Box (L1) (Q):</th>     <td>0.00</td> <th>  Jarque-Bera (JB):  </th> <td>53.52</td>\n",
              "</tr>\n",
              "<tr>\n",
              "  <th>Prob(Q):</th>                <td>0.98</td> <th>  Prob(JB):          </th> <td>0.00</td> \n",
              "</tr>\n",
              "<tr>\n",
              "  <th>Heteroskedasticity (H):</th> <td>1.40</td> <th>  Skew:              </th> <td>-1.73</td>\n",
              "</tr>\n",
              "<tr>\n",
              "  <th>Prob(H) (two-sided):</th>    <td>0.54</td> <th>  Kurtosis:          </th> <td>7.31</td> \n",
              "</tr>\n",
              "</table><br/><br/>Warnings:<br/>[1] Covariance matrix calculated using the outer product of gradients (complex-step)."
            ]
          },
          "metadata": {},
          "execution_count": 73
        }
      ]
    },
    {
      "cell_type": "code",
      "source": [
        "model = ARIMA(df['log_GDP'], order=(1,1,1))\n",
        "model_fit = model.fit()\n",
        "model_fit.summary()"
      ],
      "metadata": {
        "id": "doUxZsDy8X2A",
        "colab": {
          "base_uri": "https://localhost:8080/",
          "height": 413
        },
        "outputId": "da7c60ca-8751-42da-e26a-46fe9e759155"
      },
      "id": "doUxZsDy8X2A",
      "execution_count": null,
      "outputs": [
        {
          "output_type": "execute_result",
          "data": {
            "text/plain": [
              "<class 'statsmodels.iolib.summary.Summary'>\n",
              "\"\"\"\n",
              "                               SARIMAX Results                                \n",
              "==============================================================================\n",
              "Dep. Variable:                log_GDP   No. Observations:                   43\n",
              "Model:                 ARIMA(1, 1, 1)   Log Likelihood                  77.049\n",
              "Date:                Thu, 16 Mar 2023   AIC                           -148.098\n",
              "Time:                        10:14:17   BIC                           -142.885\n",
              "Sample:                             0   HQIC                          -146.188\n",
              "                                 - 43                                         \n",
              "Covariance Type:                  opg                                         \n",
              "==============================================================================\n",
              "                 coef    std err          z      P>|z|      [0.025      0.975]\n",
              "------------------------------------------------------------------------------\n",
              "ar.L1          0.9994      0.011     88.226      0.000       0.977       1.022\n",
              "ma.L1         -0.9695      0.266     -3.639      0.000      -1.492      -0.447\n",
              "sigma2         0.0014      0.000      3.009      0.003       0.000       0.002\n",
              "===================================================================================\n",
              "Ljung-Box (L1) (Q):                   0.67   Jarque-Bera (JB):                48.87\n",
              "Prob(Q):                              0.41   Prob(JB):                         0.00\n",
              "Heteroskedasticity (H):               1.17   Skew:                            -1.64\n",
              "Prob(H) (two-sided):                  0.77   Kurtosis:                         7.14\n",
              "===================================================================================\n",
              "\n",
              "Warnings:\n",
              "[1] Covariance matrix calculated using the outer product of gradients (complex-step).\n",
              "\"\"\""
            ],
            "text/html": [
              "<table class=\"simpletable\">\n",
              "<caption>SARIMAX Results</caption>\n",
              "<tr>\n",
              "  <th>Dep. Variable:</th>        <td>log_GDP</td>     <th>  No. Observations:  </th>    <td>43</td>   \n",
              "</tr>\n",
              "<tr>\n",
              "  <th>Model:</th>            <td>ARIMA(1, 1, 1)</td>  <th>  Log Likelihood     </th>  <td>77.049</td> \n",
              "</tr>\n",
              "<tr>\n",
              "  <th>Date:</th>            <td>Thu, 16 Mar 2023</td> <th>  AIC                </th> <td>-148.098</td>\n",
              "</tr>\n",
              "<tr>\n",
              "  <th>Time:</th>                <td>10:14:17</td>     <th>  BIC                </th> <td>-142.885</td>\n",
              "</tr>\n",
              "<tr>\n",
              "  <th>Sample:</th>                  <td>0</td>        <th>  HQIC               </th> <td>-146.188</td>\n",
              "</tr>\n",
              "<tr>\n",
              "  <th></th>                       <td> - 43</td>      <th>                     </th>     <td> </td>   \n",
              "</tr>\n",
              "<tr>\n",
              "  <th>Covariance Type:</th>        <td>opg</td>       <th>                     </th>     <td> </td>   \n",
              "</tr>\n",
              "</table>\n",
              "<table class=\"simpletable\">\n",
              "<tr>\n",
              "     <td></td>       <th>coef</th>     <th>std err</th>      <th>z</th>      <th>P>|z|</th>  <th>[0.025</th>    <th>0.975]</th>  \n",
              "</tr>\n",
              "<tr>\n",
              "  <th>ar.L1</th>  <td>    0.9994</td> <td>    0.011</td> <td>   88.226</td> <td> 0.000</td> <td>    0.977</td> <td>    1.022</td>\n",
              "</tr>\n",
              "<tr>\n",
              "  <th>ma.L1</th>  <td>   -0.9695</td> <td>    0.266</td> <td>   -3.639</td> <td> 0.000</td> <td>   -1.492</td> <td>   -0.447</td>\n",
              "</tr>\n",
              "<tr>\n",
              "  <th>sigma2</th> <td>    0.0014</td> <td>    0.000</td> <td>    3.009</td> <td> 0.003</td> <td>    0.000</td> <td>    0.002</td>\n",
              "</tr>\n",
              "</table>\n",
              "<table class=\"simpletable\">\n",
              "<tr>\n",
              "  <th>Ljung-Box (L1) (Q):</th>     <td>0.67</td> <th>  Jarque-Bera (JB):  </th> <td>48.87</td>\n",
              "</tr>\n",
              "<tr>\n",
              "  <th>Prob(Q):</th>                <td>0.41</td> <th>  Prob(JB):          </th> <td>0.00</td> \n",
              "</tr>\n",
              "<tr>\n",
              "  <th>Heteroskedasticity (H):</th> <td>1.17</td> <th>  Skew:              </th> <td>-1.64</td>\n",
              "</tr>\n",
              "<tr>\n",
              "  <th>Prob(H) (two-sided):</th>    <td>0.77</td> <th>  Kurtosis:          </th> <td>7.14</td> \n",
              "</tr>\n",
              "</table><br/><br/>Warnings:<br/>[1] Covariance matrix calculated using the outer product of gradients (complex-step)."
            ]
          },
          "metadata": {},
          "execution_count": 74
        }
      ]
    },
    {
      "cell_type": "code",
      "source": [
        "model = ARIMA(df['log_GDP'], order=(0,1,1))\n",
        "model_fit = model.fit()\n",
        "model_fit.summary()"
      ],
      "metadata": {
        "colab": {
          "base_uri": "https://localhost:8080/",
          "height": 393
        },
        "id": "pehrOxo76WcL",
        "outputId": "aeebb959-c8ce-499a-e9bc-9beadd22aa88"
      },
      "id": "pehrOxo76WcL",
      "execution_count": null,
      "outputs": [
        {
          "output_type": "execute_result",
          "data": {
            "text/plain": [
              "<class 'statsmodels.iolib.summary.Summary'>\n",
              "\"\"\"\n",
              "                               SARIMAX Results                                \n",
              "==============================================================================\n",
              "Dep. Variable:                log_GDP   No. Observations:                   43\n",
              "Model:                 ARIMA(0, 1, 1)   Log Likelihood                  71.133\n",
              "Date:                Thu, 16 Mar 2023   AIC                           -138.266\n",
              "Time:                        10:19:19   BIC                           -134.791\n",
              "Sample:                             0   HQIC                          -136.992\n",
              "                                 - 43                                         \n",
              "Covariance Type:                  opg                                         \n",
              "==============================================================================\n",
              "                 coef    std err          z      P>|z|      [0.025      0.975]\n",
              "------------------------------------------------------------------------------\n",
              "ma.L1          0.4919      0.136      3.620      0.000       0.226       0.758\n",
              "sigma2         0.0020      0.001      3.752      0.000       0.001       0.003\n",
              "===================================================================================\n",
              "Ljung-Box (L1) (Q):                   3.41   Jarque-Bera (JB):                27.71\n",
              "Prob(Q):                              0.06   Prob(JB):                         0.00\n",
              "Heteroskedasticity (H):               1.44   Skew:                            -1.29\n",
              "Prob(H) (two-sided):                  0.51   Kurtosis:                         6.02\n",
              "===================================================================================\n",
              "\n",
              "Warnings:\n",
              "[1] Covariance matrix calculated using the outer product of gradients (complex-step).\n",
              "\"\"\""
            ],
            "text/html": [
              "<table class=\"simpletable\">\n",
              "<caption>SARIMAX Results</caption>\n",
              "<tr>\n",
              "  <th>Dep. Variable:</th>        <td>log_GDP</td>     <th>  No. Observations:  </th>    <td>43</td>   \n",
              "</tr>\n",
              "<tr>\n",
              "  <th>Model:</th>            <td>ARIMA(0, 1, 1)</td>  <th>  Log Likelihood     </th>  <td>71.133</td> \n",
              "</tr>\n",
              "<tr>\n",
              "  <th>Date:</th>            <td>Thu, 16 Mar 2023</td> <th>  AIC                </th> <td>-138.266</td>\n",
              "</tr>\n",
              "<tr>\n",
              "  <th>Time:</th>                <td>10:19:19</td>     <th>  BIC                </th> <td>-134.791</td>\n",
              "</tr>\n",
              "<tr>\n",
              "  <th>Sample:</th>                  <td>0</td>        <th>  HQIC               </th> <td>-136.992</td>\n",
              "</tr>\n",
              "<tr>\n",
              "  <th></th>                       <td> - 43</td>      <th>                     </th>     <td> </td>   \n",
              "</tr>\n",
              "<tr>\n",
              "  <th>Covariance Type:</th>        <td>opg</td>       <th>                     </th>     <td> </td>   \n",
              "</tr>\n",
              "</table>\n",
              "<table class=\"simpletable\">\n",
              "<tr>\n",
              "     <td></td>       <th>coef</th>     <th>std err</th>      <th>z</th>      <th>P>|z|</th>  <th>[0.025</th>    <th>0.975]</th>  \n",
              "</tr>\n",
              "<tr>\n",
              "  <th>ma.L1</th>  <td>    0.4919</td> <td>    0.136</td> <td>    3.620</td> <td> 0.000</td> <td>    0.226</td> <td>    0.758</td>\n",
              "</tr>\n",
              "<tr>\n",
              "  <th>sigma2</th> <td>    0.0020</td> <td>    0.001</td> <td>    3.752</td> <td> 0.000</td> <td>    0.001</td> <td>    0.003</td>\n",
              "</tr>\n",
              "</table>\n",
              "<table class=\"simpletable\">\n",
              "<tr>\n",
              "  <th>Ljung-Box (L1) (Q):</th>     <td>3.41</td> <th>  Jarque-Bera (JB):  </th> <td>27.71</td>\n",
              "</tr>\n",
              "<tr>\n",
              "  <th>Prob(Q):</th>                <td>0.06</td> <th>  Prob(JB):          </th> <td>0.00</td> \n",
              "</tr>\n",
              "<tr>\n",
              "  <th>Heteroskedasticity (H):</th> <td>1.44</td> <th>  Skew:              </th> <td>-1.29</td>\n",
              "</tr>\n",
              "<tr>\n",
              "  <th>Prob(H) (two-sided):</th>    <td>0.51</td> <th>  Kurtosis:          </th> <td>6.02</td> \n",
              "</tr>\n",
              "</table><br/><br/>Warnings:<br/>[1] Covariance matrix calculated using the outer product of gradients (complex-step)."
            ]
          },
          "metadata": {},
          "execution_count": 76
        }
      ]
    },
    {
      "cell_type": "markdown",
      "source": [
        "***OPTIMUM LAG LENTH OF GDP IS 1 BASED ON AIC STATISTICS***"
      ],
      "metadata": {
        "id": "9IVluh4S-xB_"
      },
      "id": "9IVluh4S-xB_"
    },
    {
      "cell_type": "code",
      "source": [
        "model = ARIMA(df['log_Carbon Emission'], order=(2,1,1))\n",
        "model_fit = model.fit()\n",
        "model_fit.summary()"
      ],
      "metadata": {
        "colab": {
          "base_uri": "https://localhost:8080/",
          "height": 468
        },
        "id": "cEpSWpje6kJw",
        "outputId": "5cee37b7-25e2-426c-b02c-e0558d04e4e7"
      },
      "id": "cEpSWpje6kJw",
      "execution_count": null,
      "outputs": [
        {
          "output_type": "stream",
          "name": "stderr",
          "text": [
            "/usr/local/lib/python3.9/dist-packages/statsmodels/tsa/statespace/sarimax.py:966: UserWarning: Non-stationary starting autoregressive parameters found. Using zeros as starting parameters.\n",
            "  warn('Non-stationary starting autoregressive parameters'\n"
          ]
        },
        {
          "output_type": "execute_result",
          "data": {
            "text/plain": [
              "<class 'statsmodels.iolib.summary.Summary'>\n",
              "\"\"\"\n",
              "                                SARIMAX Results                                \n",
              "===============================================================================\n",
              "Dep. Variable:     log_Carbon Emission   No. Observations:                   43\n",
              "Model:                  ARIMA(2, 1, 1)   Log Likelihood                  57.254\n",
              "Date:                 Thu, 16 Mar 2023   AIC                           -106.509\n",
              "Time:                         10:21:53   BIC                            -99.558\n",
              "Sample:                              0   HQIC                          -103.961\n",
              "                                  - 43                                         \n",
              "Covariance Type:                   opg                                         \n",
              "==============================================================================\n",
              "                 coef    std err          z      P>|z|      [0.025      0.975]\n",
              "------------------------------------------------------------------------------\n",
              "ar.L1          0.8114      0.330      2.460      0.014       0.165       1.458\n",
              "ar.L2          0.1455      0.275      0.529      0.597      -0.394       0.685\n",
              "ma.L1         -0.8146      0.232     -3.513      0.000      -1.269      -0.360\n",
              "sigma2         0.0038      0.001      5.655      0.000       0.002       0.005\n",
              "===================================================================================\n",
              "Ljung-Box (L1) (Q):                   0.01   Jarque-Bera (JB):                 3.94\n",
              "Prob(Q):                              0.94   Prob(JB):                         0.14\n",
              "Heteroskedasticity (H):               1.35   Skew:                            -0.20\n",
              "Prob(H) (two-sided):                  0.59   Kurtosis:                         4.45\n",
              "===================================================================================\n",
              "\n",
              "Warnings:\n",
              "[1] Covariance matrix calculated using the outer product of gradients (complex-step).\n",
              "\"\"\""
            ],
            "text/html": [
              "<table class=\"simpletable\">\n",
              "<caption>SARIMAX Results</caption>\n",
              "<tr>\n",
              "  <th>Dep. Variable:</th>   <td>log_Carbon Emission</td> <th>  No. Observations:  </th>    <td>43</td>   \n",
              "</tr>\n",
              "<tr>\n",
              "  <th>Model:</th>             <td>ARIMA(2, 1, 1)</td>    <th>  Log Likelihood     </th>  <td>57.254</td> \n",
              "</tr>\n",
              "<tr>\n",
              "  <th>Date:</th>             <td>Thu, 16 Mar 2023</td>   <th>  AIC                </th> <td>-106.509</td>\n",
              "</tr>\n",
              "<tr>\n",
              "  <th>Time:</th>                 <td>10:21:53</td>       <th>  BIC                </th>  <td>-99.558</td>\n",
              "</tr>\n",
              "<tr>\n",
              "  <th>Sample:</th>                   <td>0</td>          <th>  HQIC               </th> <td>-103.961</td>\n",
              "</tr>\n",
              "<tr>\n",
              "  <th></th>                        <td> - 43</td>        <th>                     </th>     <td> </td>   \n",
              "</tr>\n",
              "<tr>\n",
              "  <th>Covariance Type:</th>         <td>opg</td>         <th>                     </th>     <td> </td>   \n",
              "</tr>\n",
              "</table>\n",
              "<table class=\"simpletable\">\n",
              "<tr>\n",
              "     <td></td>       <th>coef</th>     <th>std err</th>      <th>z</th>      <th>P>|z|</th>  <th>[0.025</th>    <th>0.975]</th>  \n",
              "</tr>\n",
              "<tr>\n",
              "  <th>ar.L1</th>  <td>    0.8114</td> <td>    0.330</td> <td>    2.460</td> <td> 0.014</td> <td>    0.165</td> <td>    1.458</td>\n",
              "</tr>\n",
              "<tr>\n",
              "  <th>ar.L2</th>  <td>    0.1455</td> <td>    0.275</td> <td>    0.529</td> <td> 0.597</td> <td>   -0.394</td> <td>    0.685</td>\n",
              "</tr>\n",
              "<tr>\n",
              "  <th>ma.L1</th>  <td>   -0.8146</td> <td>    0.232</td> <td>   -3.513</td> <td> 0.000</td> <td>   -1.269</td> <td>   -0.360</td>\n",
              "</tr>\n",
              "<tr>\n",
              "  <th>sigma2</th> <td>    0.0038</td> <td>    0.001</td> <td>    5.655</td> <td> 0.000</td> <td>    0.002</td> <td>    0.005</td>\n",
              "</tr>\n",
              "</table>\n",
              "<table class=\"simpletable\">\n",
              "<tr>\n",
              "  <th>Ljung-Box (L1) (Q):</th>     <td>0.01</td> <th>  Jarque-Bera (JB):  </th> <td>3.94</td> \n",
              "</tr>\n",
              "<tr>\n",
              "  <th>Prob(Q):</th>                <td>0.94</td> <th>  Prob(JB):          </th> <td>0.14</td> \n",
              "</tr>\n",
              "<tr>\n",
              "  <th>Heteroskedasticity (H):</th> <td>1.35</td> <th>  Skew:              </th> <td>-0.20</td>\n",
              "</tr>\n",
              "<tr>\n",
              "  <th>Prob(H) (two-sided):</th>    <td>0.59</td> <th>  Kurtosis:          </th> <td>4.45</td> \n",
              "</tr>\n",
              "</table><br/><br/>Warnings:<br/>[1] Covariance matrix calculated using the outer product of gradients (complex-step)."
            ]
          },
          "metadata": {},
          "execution_count": 84
        }
      ]
    },
    {
      "cell_type": "code",
      "source": [
        "model = ARIMA(df['log_Carbon Emission'], order=(1,1,1))\n",
        "model_fit = model.fit()\n",
        "model_fit.summary()"
      ],
      "metadata": {
        "id": "1i1PoUgu8N0F",
        "outputId": "35152960-3f56-466c-cd76-95da37972c69",
        "colab": {
          "base_uri": "https://localhost:8080/",
          "height": 483
        }
      },
      "id": "1i1PoUgu8N0F",
      "execution_count": null,
      "outputs": [
        {
          "output_type": "stream",
          "name": "stderr",
          "text": [
            "/usr/local/lib/python3.9/dist-packages/statsmodels/tsa/statespace/sarimax.py:966: UserWarning: Non-stationary starting autoregressive parameters found. Using zeros as starting parameters.\n",
            "  warn('Non-stationary starting autoregressive parameters'\n",
            "/usr/local/lib/python3.9/dist-packages/statsmodels/tsa/statespace/sarimax.py:978: UserWarning: Non-invertible starting MA parameters found. Using zeros as starting parameters.\n",
            "  warn('Non-invertible starting MA parameters found.'\n"
          ]
        },
        {
          "output_type": "execute_result",
          "data": {
            "text/plain": [
              "<class 'statsmodels.iolib.summary.Summary'>\n",
              "\"\"\"\n",
              "                                SARIMAX Results                                \n",
              "===============================================================================\n",
              "Dep. Variable:     log_Carbon Emission   No. Observations:                   43\n",
              "Model:                  ARIMA(1, 1, 1)   Log Likelihood                  56.878\n",
              "Date:                 Thu, 16 Mar 2023   AIC                           -107.755\n",
              "Time:                         10:22:09   BIC                           -102.542\n",
              "Sample:                              0   HQIC                          -105.844\n",
              "                                  - 43                                         \n",
              "Covariance Type:                   opg                                         \n",
              "==============================================================================\n",
              "                 coef    std err          z      P>|z|      [0.025      0.975]\n",
              "------------------------------------------------------------------------------\n",
              "ar.L1          0.9683      0.051     18.928      0.000       0.868       1.069\n",
              "ma.L1         -0.8568      0.096     -8.947      0.000      -1.045      -0.669\n",
              "sigma2         0.0038      0.001      5.926      0.000       0.003       0.005\n",
              "===================================================================================\n",
              "Ljung-Box (L1) (Q):                   0.69   Jarque-Bera (JB):                 3.82\n",
              "Prob(Q):                              0.41   Prob(JB):                         0.15\n",
              "Heteroskedasticity (H):               1.55   Skew:                            -0.14\n",
              "Prob(H) (two-sided):                  0.42   Kurtosis:                         4.45\n",
              "===================================================================================\n",
              "\n",
              "Warnings:\n",
              "[1] Covariance matrix calculated using the outer product of gradients (complex-step).\n",
              "\"\"\""
            ],
            "text/html": [
              "<table class=\"simpletable\">\n",
              "<caption>SARIMAX Results</caption>\n",
              "<tr>\n",
              "  <th>Dep. Variable:</th>   <td>log_Carbon Emission</td> <th>  No. Observations:  </th>    <td>43</td>   \n",
              "</tr>\n",
              "<tr>\n",
              "  <th>Model:</th>             <td>ARIMA(1, 1, 1)</td>    <th>  Log Likelihood     </th>  <td>56.878</td> \n",
              "</tr>\n",
              "<tr>\n",
              "  <th>Date:</th>             <td>Thu, 16 Mar 2023</td>   <th>  AIC                </th> <td>-107.755</td>\n",
              "</tr>\n",
              "<tr>\n",
              "  <th>Time:</th>                 <td>10:22:09</td>       <th>  BIC                </th> <td>-102.542</td>\n",
              "</tr>\n",
              "<tr>\n",
              "  <th>Sample:</th>                   <td>0</td>          <th>  HQIC               </th> <td>-105.844</td>\n",
              "</tr>\n",
              "<tr>\n",
              "  <th></th>                        <td> - 43</td>        <th>                     </th>     <td> </td>   \n",
              "</tr>\n",
              "<tr>\n",
              "  <th>Covariance Type:</th>         <td>opg</td>         <th>                     </th>     <td> </td>   \n",
              "</tr>\n",
              "</table>\n",
              "<table class=\"simpletable\">\n",
              "<tr>\n",
              "     <td></td>       <th>coef</th>     <th>std err</th>      <th>z</th>      <th>P>|z|</th>  <th>[0.025</th>    <th>0.975]</th>  \n",
              "</tr>\n",
              "<tr>\n",
              "  <th>ar.L1</th>  <td>    0.9683</td> <td>    0.051</td> <td>   18.928</td> <td> 0.000</td> <td>    0.868</td> <td>    1.069</td>\n",
              "</tr>\n",
              "<tr>\n",
              "  <th>ma.L1</th>  <td>   -0.8568</td> <td>    0.096</td> <td>   -8.947</td> <td> 0.000</td> <td>   -1.045</td> <td>   -0.669</td>\n",
              "</tr>\n",
              "<tr>\n",
              "  <th>sigma2</th> <td>    0.0038</td> <td>    0.001</td> <td>    5.926</td> <td> 0.000</td> <td>    0.003</td> <td>    0.005</td>\n",
              "</tr>\n",
              "</table>\n",
              "<table class=\"simpletable\">\n",
              "<tr>\n",
              "  <th>Ljung-Box (L1) (Q):</th>     <td>0.69</td> <th>  Jarque-Bera (JB):  </th> <td>3.82</td> \n",
              "</tr>\n",
              "<tr>\n",
              "  <th>Prob(Q):</th>                <td>0.41</td> <th>  Prob(JB):          </th> <td>0.15</td> \n",
              "</tr>\n",
              "<tr>\n",
              "  <th>Heteroskedasticity (H):</th> <td>1.55</td> <th>  Skew:              </th> <td>-0.14</td>\n",
              "</tr>\n",
              "<tr>\n",
              "  <th>Prob(H) (two-sided):</th>    <td>0.42</td> <th>  Kurtosis:          </th> <td>4.45</td> \n",
              "</tr>\n",
              "</table><br/><br/>Warnings:<br/>[1] Covariance matrix calculated using the outer product of gradients (complex-step)."
            ]
          },
          "metadata": {},
          "execution_count": 85
        }
      ]
    },
    {
      "cell_type": "code",
      "source": [
        "model = ARIMA(df['log_Carbon Emission'], order=(0,1,1))\n",
        "model_fit = model.fit()\n",
        "model_fit.summary()"
      ],
      "metadata": {
        "id": "mo_Pxwvx8PxE",
        "outputId": "edb47f6d-fc8f-44f3-a851-2c3d1325e4a6",
        "colab": {
          "base_uri": "https://localhost:8080/",
          "height": 393
        }
      },
      "id": "mo_Pxwvx8PxE",
      "execution_count": null,
      "outputs": [
        {
          "output_type": "execute_result",
          "data": {
            "text/plain": [
              "<class 'statsmodels.iolib.summary.Summary'>\n",
              "\"\"\"\n",
              "                                SARIMAX Results                                \n",
              "===============================================================================\n",
              "Dep. Variable:     log_Carbon Emission   No. Observations:                   43\n",
              "Model:                  ARIMA(0, 1, 1)   Log Likelihood                  53.084\n",
              "Date:                 Thu, 16 Mar 2023   AIC                           -102.167\n",
              "Time:                         10:22:22   BIC                            -98.692\n",
              "Sample:                              0   HQIC                          -100.893\n",
              "                                  - 43                                         \n",
              "Covariance Type:                   opg                                         \n",
              "==============================================================================\n",
              "                 coef    std err          z      P>|z|      [0.025      0.975]\n",
              "------------------------------------------------------------------------------\n",
              "ma.L1          0.1365      0.131      1.041      0.298      -0.121       0.393\n",
              "sigma2         0.0047      0.001      4.801      0.000       0.003       0.007\n",
              "===================================================================================\n",
              "Ljung-Box (L1) (Q):                   1.06   Jarque-Bera (JB):                 2.96\n",
              "Prob(Q):                              0.30   Prob(JB):                         0.23\n",
              "Heteroskedasticity (H):               1.10   Skew:                            -0.37\n",
              "Prob(H) (two-sided):                  0.86   Kurtosis:                         4.07\n",
              "===================================================================================\n",
              "\n",
              "Warnings:\n",
              "[1] Covariance matrix calculated using the outer product of gradients (complex-step).\n",
              "\"\"\""
            ],
            "text/html": [
              "<table class=\"simpletable\">\n",
              "<caption>SARIMAX Results</caption>\n",
              "<tr>\n",
              "  <th>Dep. Variable:</th>   <td>log_Carbon Emission</td> <th>  No. Observations:  </th>    <td>43</td>   \n",
              "</tr>\n",
              "<tr>\n",
              "  <th>Model:</th>             <td>ARIMA(0, 1, 1)</td>    <th>  Log Likelihood     </th>  <td>53.084</td> \n",
              "</tr>\n",
              "<tr>\n",
              "  <th>Date:</th>             <td>Thu, 16 Mar 2023</td>   <th>  AIC                </th> <td>-102.167</td>\n",
              "</tr>\n",
              "<tr>\n",
              "  <th>Time:</th>                 <td>10:22:22</td>       <th>  BIC                </th>  <td>-98.692</td>\n",
              "</tr>\n",
              "<tr>\n",
              "  <th>Sample:</th>                   <td>0</td>          <th>  HQIC               </th> <td>-100.893</td>\n",
              "</tr>\n",
              "<tr>\n",
              "  <th></th>                        <td> - 43</td>        <th>                     </th>     <td> </td>   \n",
              "</tr>\n",
              "<tr>\n",
              "  <th>Covariance Type:</th>         <td>opg</td>         <th>                     </th>     <td> </td>   \n",
              "</tr>\n",
              "</table>\n",
              "<table class=\"simpletable\">\n",
              "<tr>\n",
              "     <td></td>       <th>coef</th>     <th>std err</th>      <th>z</th>      <th>P>|z|</th>  <th>[0.025</th>    <th>0.975]</th>  \n",
              "</tr>\n",
              "<tr>\n",
              "  <th>ma.L1</th>  <td>    0.1365</td> <td>    0.131</td> <td>    1.041</td> <td> 0.298</td> <td>   -0.121</td> <td>    0.393</td>\n",
              "</tr>\n",
              "<tr>\n",
              "  <th>sigma2</th> <td>    0.0047</td> <td>    0.001</td> <td>    4.801</td> <td> 0.000</td> <td>    0.003</td> <td>    0.007</td>\n",
              "</tr>\n",
              "</table>\n",
              "<table class=\"simpletable\">\n",
              "<tr>\n",
              "  <th>Ljung-Box (L1) (Q):</th>     <td>1.06</td> <th>  Jarque-Bera (JB):  </th> <td>2.96</td> \n",
              "</tr>\n",
              "<tr>\n",
              "  <th>Prob(Q):</th>                <td>0.30</td> <th>  Prob(JB):          </th> <td>0.23</td> \n",
              "</tr>\n",
              "<tr>\n",
              "  <th>Heteroskedasticity (H):</th> <td>1.10</td> <th>  Skew:              </th> <td>-0.37</td>\n",
              "</tr>\n",
              "<tr>\n",
              "  <th>Prob(H) (two-sided):</th>    <td>0.86</td> <th>  Kurtosis:          </th> <td>4.07</td> \n",
              "</tr>\n",
              "</table><br/><br/>Warnings:<br/>[1] Covariance matrix calculated using the outer product of gradients (complex-step)."
            ]
          },
          "metadata": {},
          "execution_count": 86
        }
      ]
    },
    {
      "cell_type": "markdown",
      "source": [
        "***OPTIMUM LAG LENTH OF CARBON EMISSION IS 1 BASED ON AIC STATISTICS\\***"
      ],
      "metadata": {
        "id": "AJ8dFzlv_Ag3"
      },
      "id": "AJ8dFzlv_Ag3"
    },
    {
      "cell_type": "code",
      "source": [
        "model = ARIMA(df['log_Energy Consumption'], order=(2,1,1))\n",
        "model_fit = model.fit()\n",
        "model_fit.summary()"
      ],
      "metadata": {
        "colab": {
          "base_uri": "https://localhost:8080/",
          "height": 434
        },
        "id": "wCGhhUj268uY",
        "outputId": "324ee3b9-0e0e-4f8b-cbfd-ad80e910ce88"
      },
      "id": "wCGhhUj268uY",
      "execution_count": null,
      "outputs": [
        {
          "output_type": "execute_result",
          "data": {
            "text/plain": [
              "<class 'statsmodels.iolib.summary.Summary'>\n",
              "\"\"\"\n",
              "                                 SARIMAX Results                                  \n",
              "==================================================================================\n",
              "Dep. Variable:     log_Energy Consumption   No. Observations:                   43\n",
              "Model:                     ARIMA(2, 1, 1)   Log Likelihood                  59.124\n",
              "Date:                    Thu, 16 Mar 2023   AIC                           -110.248\n",
              "Time:                            10:23:57   BIC                           -103.297\n",
              "Sample:                                 0   HQIC                          -107.700\n",
              "                                     - 43                                         \n",
              "Covariance Type:                      opg                                         \n",
              "==============================================================================\n",
              "                 coef    std err          z      P>|z|      [0.025      0.975]\n",
              "------------------------------------------------------------------------------\n",
              "ar.L1          0.7694      0.214      3.594      0.000       0.350       1.189\n",
              "ar.L2          0.2175      0.201      1.085      0.278      -0.175       0.610\n",
              "ma.L1         -0.8328      0.132     -6.288      0.000      -1.092      -0.573\n",
              "sigma2         0.0034      0.001      6.095      0.000       0.002       0.004\n",
              "===================================================================================\n",
              "Ljung-Box (L1) (Q):                   0.01   Jarque-Bera (JB):                20.34\n",
              "Prob(Q):                              0.91   Prob(JB):                         0.00\n",
              "Heteroskedasticity (H):               5.49   Skew:                            -0.93\n",
              "Prob(H) (two-sided):                  0.00   Kurtosis:                         5.85\n",
              "===================================================================================\n",
              "\n",
              "Warnings:\n",
              "[1] Covariance matrix calculated using the outer product of gradients (complex-step).\n",
              "\"\"\""
            ],
            "text/html": [
              "<table class=\"simpletable\">\n",
              "<caption>SARIMAX Results</caption>\n",
              "<tr>\n",
              "  <th>Dep. Variable:</th>   <td>log_Energy Consumption</td> <th>  No. Observations:  </th>    <td>43</td>   \n",
              "</tr>\n",
              "<tr>\n",
              "  <th>Model:</th>               <td>ARIMA(2, 1, 1)</td>     <th>  Log Likelihood     </th>  <td>59.124</td> \n",
              "</tr>\n",
              "<tr>\n",
              "  <th>Date:</th>               <td>Thu, 16 Mar 2023</td>    <th>  AIC                </th> <td>-110.248</td>\n",
              "</tr>\n",
              "<tr>\n",
              "  <th>Time:</th>                   <td>10:23:57</td>        <th>  BIC                </th> <td>-103.297</td>\n",
              "</tr>\n",
              "<tr>\n",
              "  <th>Sample:</th>                     <td>0</td>           <th>  HQIC               </th> <td>-107.700</td>\n",
              "</tr>\n",
              "<tr>\n",
              "  <th></th>                          <td> - 43</td>         <th>                     </th>     <td> </td>   \n",
              "</tr>\n",
              "<tr>\n",
              "  <th>Covariance Type:</th>           <td>opg</td>          <th>                     </th>     <td> </td>   \n",
              "</tr>\n",
              "</table>\n",
              "<table class=\"simpletable\">\n",
              "<tr>\n",
              "     <td></td>       <th>coef</th>     <th>std err</th>      <th>z</th>      <th>P>|z|</th>  <th>[0.025</th>    <th>0.975]</th>  \n",
              "</tr>\n",
              "<tr>\n",
              "  <th>ar.L1</th>  <td>    0.7694</td> <td>    0.214</td> <td>    3.594</td> <td> 0.000</td> <td>    0.350</td> <td>    1.189</td>\n",
              "</tr>\n",
              "<tr>\n",
              "  <th>ar.L2</th>  <td>    0.2175</td> <td>    0.201</td> <td>    1.085</td> <td> 0.278</td> <td>   -0.175</td> <td>    0.610</td>\n",
              "</tr>\n",
              "<tr>\n",
              "  <th>ma.L1</th>  <td>   -0.8328</td> <td>    0.132</td> <td>   -6.288</td> <td> 0.000</td> <td>   -1.092</td> <td>   -0.573</td>\n",
              "</tr>\n",
              "<tr>\n",
              "  <th>sigma2</th> <td>    0.0034</td> <td>    0.001</td> <td>    6.095</td> <td> 0.000</td> <td>    0.002</td> <td>    0.004</td>\n",
              "</tr>\n",
              "</table>\n",
              "<table class=\"simpletable\">\n",
              "<tr>\n",
              "  <th>Ljung-Box (L1) (Q):</th>     <td>0.01</td> <th>  Jarque-Bera (JB):  </th> <td>20.34</td>\n",
              "</tr>\n",
              "<tr>\n",
              "  <th>Prob(Q):</th>                <td>0.91</td> <th>  Prob(JB):          </th> <td>0.00</td> \n",
              "</tr>\n",
              "<tr>\n",
              "  <th>Heteroskedasticity (H):</th> <td>5.49</td> <th>  Skew:              </th> <td>-0.93</td>\n",
              "</tr>\n",
              "<tr>\n",
              "  <th>Prob(H) (two-sided):</th>    <td>0.00</td> <th>  Kurtosis:          </th> <td>5.85</td> \n",
              "</tr>\n",
              "</table><br/><br/>Warnings:<br/>[1] Covariance matrix calculated using the outer product of gradients (complex-step)."
            ]
          },
          "metadata": {},
          "execution_count": 87
        }
      ]
    },
    {
      "cell_type": "code",
      "source": [
        "model = ARIMA(df['log_Energy Consumption'], order=(1,1,1))\n",
        "model_fit = model.fit()\n",
        "model_fit.summary()"
      ],
      "metadata": {
        "id": "4tz0MzKV8Zh9",
        "colab": {
          "base_uri": "https://localhost:8080/",
          "height": 413
        },
        "outputId": "912b4cb7-07a3-41ff-bfaa-5650f5f21563"
      },
      "id": "4tz0MzKV8Zh9",
      "execution_count": null,
      "outputs": [
        {
          "output_type": "execute_result",
          "data": {
            "text/plain": [
              "<class 'statsmodels.iolib.summary.Summary'>\n",
              "\"\"\"\n",
              "                                 SARIMAX Results                                  \n",
              "==================================================================================\n",
              "Dep. Variable:     log_Energy Consumption   No. Observations:                   43\n",
              "Model:                     ARIMA(1, 1, 1)   Log Likelihood                  58.278\n",
              "Date:                    Thu, 16 Mar 2023   AIC                           -110.555\n",
              "Time:                            10:24:08   BIC                           -105.342\n",
              "Sample:                                 0   HQIC                          -108.644\n",
              "                                     - 43                                         \n",
              "Covariance Type:                      opg                                         \n",
              "==============================================================================\n",
              "                 coef    std err          z      P>|z|      [0.025      0.975]\n",
              "------------------------------------------------------------------------------\n",
              "ar.L1          0.9916      0.018     55.173      0.000       0.956       1.027\n",
              "ma.L1         -0.8811      0.061    -14.494      0.000      -1.000      -0.762\n",
              "sigma2         0.0035      0.001      6.936      0.000       0.003       0.005\n",
              "===================================================================================\n",
              "Ljung-Box (L1) (Q):                   1.71   Jarque-Bera (JB):                21.33\n",
              "Prob(Q):                              0.19   Prob(JB):                         0.00\n",
              "Heteroskedasticity (H):               5.95   Skew:                            -0.63\n",
              "Prob(H) (two-sided):                  0.00   Kurtosis:                         6.26\n",
              "===================================================================================\n",
              "\n",
              "Warnings:\n",
              "[1] Covariance matrix calculated using the outer product of gradients (complex-step).\n",
              "\"\"\""
            ],
            "text/html": [
              "<table class=\"simpletable\">\n",
              "<caption>SARIMAX Results</caption>\n",
              "<tr>\n",
              "  <th>Dep. Variable:</th>   <td>log_Energy Consumption</td> <th>  No. Observations:  </th>    <td>43</td>   \n",
              "</tr>\n",
              "<tr>\n",
              "  <th>Model:</th>               <td>ARIMA(1, 1, 1)</td>     <th>  Log Likelihood     </th>  <td>58.278</td> \n",
              "</tr>\n",
              "<tr>\n",
              "  <th>Date:</th>               <td>Thu, 16 Mar 2023</td>    <th>  AIC                </th> <td>-110.555</td>\n",
              "</tr>\n",
              "<tr>\n",
              "  <th>Time:</th>                   <td>10:24:08</td>        <th>  BIC                </th> <td>-105.342</td>\n",
              "</tr>\n",
              "<tr>\n",
              "  <th>Sample:</th>                     <td>0</td>           <th>  HQIC               </th> <td>-108.644</td>\n",
              "</tr>\n",
              "<tr>\n",
              "  <th></th>                          <td> - 43</td>         <th>                     </th>     <td> </td>   \n",
              "</tr>\n",
              "<tr>\n",
              "  <th>Covariance Type:</th>           <td>opg</td>          <th>                     </th>     <td> </td>   \n",
              "</tr>\n",
              "</table>\n",
              "<table class=\"simpletable\">\n",
              "<tr>\n",
              "     <td></td>       <th>coef</th>     <th>std err</th>      <th>z</th>      <th>P>|z|</th>  <th>[0.025</th>    <th>0.975]</th>  \n",
              "</tr>\n",
              "<tr>\n",
              "  <th>ar.L1</th>  <td>    0.9916</td> <td>    0.018</td> <td>   55.173</td> <td> 0.000</td> <td>    0.956</td> <td>    1.027</td>\n",
              "</tr>\n",
              "<tr>\n",
              "  <th>ma.L1</th>  <td>   -0.8811</td> <td>    0.061</td> <td>  -14.494</td> <td> 0.000</td> <td>   -1.000</td> <td>   -0.762</td>\n",
              "</tr>\n",
              "<tr>\n",
              "  <th>sigma2</th> <td>    0.0035</td> <td>    0.001</td> <td>    6.936</td> <td> 0.000</td> <td>    0.003</td> <td>    0.005</td>\n",
              "</tr>\n",
              "</table>\n",
              "<table class=\"simpletable\">\n",
              "<tr>\n",
              "  <th>Ljung-Box (L1) (Q):</th>     <td>1.71</td> <th>  Jarque-Bera (JB):  </th> <td>21.33</td>\n",
              "</tr>\n",
              "<tr>\n",
              "  <th>Prob(Q):</th>                <td>0.19</td> <th>  Prob(JB):          </th> <td>0.00</td> \n",
              "</tr>\n",
              "<tr>\n",
              "  <th>Heteroskedasticity (H):</th> <td>5.95</td> <th>  Skew:              </th> <td>-0.63</td>\n",
              "</tr>\n",
              "<tr>\n",
              "  <th>Prob(H) (two-sided):</th>    <td>0.00</td> <th>  Kurtosis:          </th> <td>6.26</td> \n",
              "</tr>\n",
              "</table><br/><br/>Warnings:<br/>[1] Covariance matrix calculated using the outer product of gradients (complex-step)."
            ]
          },
          "metadata": {},
          "execution_count": 88
        }
      ]
    },
    {
      "cell_type": "code",
      "source": [
        "model = ARIMA(df['log_Energy Consumption'], order=(0,1,1))\n",
        "model_fit = model.fit()\n",
        "model_fit.summary()"
      ],
      "metadata": {
        "colab": {
          "base_uri": "https://localhost:8080/",
          "height": 393
        },
        "id": "F2_C_5N98t2r",
        "outputId": "2301d27c-33ad-4638-a0e3-1488a14483d3"
      },
      "id": "F2_C_5N98t2r",
      "execution_count": null,
      "outputs": [
        {
          "output_type": "execute_result",
          "data": {
            "text/plain": [
              "<class 'statsmodels.iolib.summary.Summary'>\n",
              "\"\"\"\n",
              "                                 SARIMAX Results                                  \n",
              "==================================================================================\n",
              "Dep. Variable:     log_Energy Consumption   No. Observations:                   43\n",
              "Model:                     ARIMA(0, 1, 1)   Log Likelihood                  48.526\n",
              "Date:                    Thu, 16 Mar 2023   AIC                            -93.052\n",
              "Time:                            10:24:20   BIC                            -89.576\n",
              "Sample:                                 0   HQIC                           -91.778\n",
              "                                     - 43                                         \n",
              "Covariance Type:                      opg                                         \n",
              "==============================================================================\n",
              "                 coef    std err          z      P>|z|      [0.025      0.975]\n",
              "------------------------------------------------------------------------------\n",
              "ma.L1          0.2372      0.161      1.475      0.140      -0.078       0.552\n",
              "sigma2         0.0058      0.002      3.619      0.000       0.003       0.009\n",
              "===================================================================================\n",
              "Ljung-Box (L1) (Q):                   5.20   Jarque-Bera (JB):                26.34\n",
              "Prob(Q):                              0.02   Prob(JB):                         0.00\n",
              "Heteroskedasticity (H):               1.79   Skew:                            -0.70\n",
              "Prob(H) (two-sided):                  0.29   Kurtosis:                         6.61\n",
              "===================================================================================\n",
              "\n",
              "Warnings:\n",
              "[1] Covariance matrix calculated using the outer product of gradients (complex-step).\n",
              "\"\"\""
            ],
            "text/html": [
              "<table class=\"simpletable\">\n",
              "<caption>SARIMAX Results</caption>\n",
              "<tr>\n",
              "  <th>Dep. Variable:</th>   <td>log_Energy Consumption</td> <th>  No. Observations:  </th>   <td>43</td>   \n",
              "</tr>\n",
              "<tr>\n",
              "  <th>Model:</th>               <td>ARIMA(0, 1, 1)</td>     <th>  Log Likelihood     </th> <td>48.526</td> \n",
              "</tr>\n",
              "<tr>\n",
              "  <th>Date:</th>               <td>Thu, 16 Mar 2023</td>    <th>  AIC                </th> <td>-93.052</td>\n",
              "</tr>\n",
              "<tr>\n",
              "  <th>Time:</th>                   <td>10:24:20</td>        <th>  BIC                </th> <td>-89.576</td>\n",
              "</tr>\n",
              "<tr>\n",
              "  <th>Sample:</th>                     <td>0</td>           <th>  HQIC               </th> <td>-91.778</td>\n",
              "</tr>\n",
              "<tr>\n",
              "  <th></th>                          <td> - 43</td>         <th>                     </th>    <td> </td>   \n",
              "</tr>\n",
              "<tr>\n",
              "  <th>Covariance Type:</th>           <td>opg</td>          <th>                     </th>    <td> </td>   \n",
              "</tr>\n",
              "</table>\n",
              "<table class=\"simpletable\">\n",
              "<tr>\n",
              "     <td></td>       <th>coef</th>     <th>std err</th>      <th>z</th>      <th>P>|z|</th>  <th>[0.025</th>    <th>0.975]</th>  \n",
              "</tr>\n",
              "<tr>\n",
              "  <th>ma.L1</th>  <td>    0.2372</td> <td>    0.161</td> <td>    1.475</td> <td> 0.140</td> <td>   -0.078</td> <td>    0.552</td>\n",
              "</tr>\n",
              "<tr>\n",
              "  <th>sigma2</th> <td>    0.0058</td> <td>    0.002</td> <td>    3.619</td> <td> 0.000</td> <td>    0.003</td> <td>    0.009</td>\n",
              "</tr>\n",
              "</table>\n",
              "<table class=\"simpletable\">\n",
              "<tr>\n",
              "  <th>Ljung-Box (L1) (Q):</th>     <td>5.20</td> <th>  Jarque-Bera (JB):  </th> <td>26.34</td>\n",
              "</tr>\n",
              "<tr>\n",
              "  <th>Prob(Q):</th>                <td>0.02</td> <th>  Prob(JB):          </th> <td>0.00</td> \n",
              "</tr>\n",
              "<tr>\n",
              "  <th>Heteroskedasticity (H):</th> <td>1.79</td> <th>  Skew:              </th> <td>-0.70</td>\n",
              "</tr>\n",
              "<tr>\n",
              "  <th>Prob(H) (two-sided):</th>    <td>0.29</td> <th>  Kurtosis:          </th> <td>6.61</td> \n",
              "</tr>\n",
              "</table><br/><br/>Warnings:<br/>[1] Covariance matrix calculated using the outer product of gradients (complex-step)."
            ]
          },
          "metadata": {},
          "execution_count": 89
        }
      ]
    },
    {
      "cell_type": "markdown",
      "source": [
        "***OPTIMUM LAG LENTH OF ENERGY CONSUMPTION IS 1 BASED ON AIC STATISTICS\\***"
      ],
      "metadata": {
        "id": "Zv1AThuq_Tmi"
      },
      "id": "Zv1AThuq_Tmi"
    },
    {
      "cell_type": "code",
      "source": [
        "model = ARIMA(df['log_Expenditure to protect Environment'], order=(1,1,1))\n",
        "model_fit = model.fit()\n",
        "model_fit.summary()"
      ],
      "metadata": {
        "id": "OKT6BO-O8aE_",
        "colab": {
          "base_uri": "https://localhost:8080/",
          "height": 413
        },
        "outputId": "f9f21825-d717-46d0-b939-cded0c358aec"
      },
      "execution_count": null,
      "outputs": [
        {
          "output_type": "execute_result",
          "data": {
            "text/plain": [
              "<class 'statsmodels.iolib.summary.Summary'>\n",
              "\"\"\"\n",
              "                                         SARIMAX Results                                          \n",
              "==================================================================================================\n",
              "Dep. Variable:     log_Expenditure to protect Environment   No. Observations:                   43\n",
              "Model:                                     ARIMA(1, 1, 1)   Log Likelihood                  24.263\n",
              "Date:                                    Thu, 16 Mar 2023   AIC                            -42.526\n",
              "Time:                                            10:25:56   BIC                            -37.313\n",
              "Sample:                                                 0   HQIC                           -40.615\n",
              "                                                     - 43                                         \n",
              "Covariance Type:                                      opg                                         \n",
              "==============================================================================\n",
              "                 coef    std err          z      P>|z|      [0.025      0.975]\n",
              "------------------------------------------------------------------------------\n",
              "ar.L1          0.9998      0.058     17.172      0.000       0.886       1.114\n",
              "ma.L1         -0.9927      0.857     -1.158      0.247      -2.672       0.687\n",
              "sigma2         0.0178      0.015      1.223      0.221      -0.011       0.046\n",
              "===================================================================================\n",
              "Ljung-Box (L1) (Q):                   0.69   Jarque-Bera (JB):                 2.25\n",
              "Prob(Q):                              0.41   Prob(JB):                         0.32\n",
              "Heteroskedasticity (H):               0.55   Skew:                            -0.54\n",
              "Prob(H) (two-sided):                  0.28   Kurtosis:                         3.36\n",
              "===================================================================================\n",
              "\n",
              "Warnings:\n",
              "[1] Covariance matrix calculated using the outer product of gradients (complex-step).\n",
              "\"\"\""
            ],
            "text/html": [
              "<table class=\"simpletable\">\n",
              "<caption>SARIMAX Results</caption>\n",
              "<tr>\n",
              "  <th>Dep. Variable:</th>   <td>log_Expenditure to protect Environment</td> <th>  No. Observations:  </th>   <td>43</td>   \n",
              "</tr>\n",
              "<tr>\n",
              "  <th>Model:</th>                       <td>ARIMA(1, 1, 1)</td>             <th>  Log Likelihood     </th> <td>24.263</td> \n",
              "</tr>\n",
              "<tr>\n",
              "  <th>Date:</th>                       <td>Thu, 16 Mar 2023</td>            <th>  AIC                </th> <td>-42.526</td>\n",
              "</tr>\n",
              "<tr>\n",
              "  <th>Time:</th>                           <td>10:25:56</td>                <th>  BIC                </th> <td>-37.313</td>\n",
              "</tr>\n",
              "<tr>\n",
              "  <th>Sample:</th>                             <td>0</td>                   <th>  HQIC               </th> <td>-40.615</td>\n",
              "</tr>\n",
              "<tr>\n",
              "  <th></th>                                  <td> - 43</td>                 <th>                     </th>    <td> </td>   \n",
              "</tr>\n",
              "<tr>\n",
              "  <th>Covariance Type:</th>                   <td>opg</td>                  <th>                     </th>    <td> </td>   \n",
              "</tr>\n",
              "</table>\n",
              "<table class=\"simpletable\">\n",
              "<tr>\n",
              "     <td></td>       <th>coef</th>     <th>std err</th>      <th>z</th>      <th>P>|z|</th>  <th>[0.025</th>    <th>0.975]</th>  \n",
              "</tr>\n",
              "<tr>\n",
              "  <th>ar.L1</th>  <td>    0.9998</td> <td>    0.058</td> <td>   17.172</td> <td> 0.000</td> <td>    0.886</td> <td>    1.114</td>\n",
              "</tr>\n",
              "<tr>\n",
              "  <th>ma.L1</th>  <td>   -0.9927</td> <td>    0.857</td> <td>   -1.158</td> <td> 0.247</td> <td>   -2.672</td> <td>    0.687</td>\n",
              "</tr>\n",
              "<tr>\n",
              "  <th>sigma2</th> <td>    0.0178</td> <td>    0.015</td> <td>    1.223</td> <td> 0.221</td> <td>   -0.011</td> <td>    0.046</td>\n",
              "</tr>\n",
              "</table>\n",
              "<table class=\"simpletable\">\n",
              "<tr>\n",
              "  <th>Ljung-Box (L1) (Q):</th>     <td>0.69</td> <th>  Jarque-Bera (JB):  </th> <td>2.25</td> \n",
              "</tr>\n",
              "<tr>\n",
              "  <th>Prob(Q):</th>                <td>0.41</td> <th>  Prob(JB):          </th> <td>0.32</td> \n",
              "</tr>\n",
              "<tr>\n",
              "  <th>Heteroskedasticity (H):</th> <td>0.55</td> <th>  Skew:              </th> <td>-0.54</td>\n",
              "</tr>\n",
              "<tr>\n",
              "  <th>Prob(H) (two-sided):</th>    <td>0.28</td> <th>  Kurtosis:          </th> <td>3.36</td> \n",
              "</tr>\n",
              "</table><br/><br/>Warnings:<br/>[1] Covariance matrix calculated using the outer product of gradients (complex-step)."
            ]
          },
          "metadata": {},
          "execution_count": 90
        }
      ],
      "id": "OKT6BO-O8aE_"
    },
    {
      "cell_type": "code",
      "source": [
        "model = ARIMA(df['log_Expenditure to protect Environment'], order=(0,1,1))\n",
        "model_fit = model.fit()\n",
        "model_fit.summary()"
      ],
      "metadata": {
        "colab": {
          "base_uri": "https://localhost:8080/",
          "height": 393
        },
        "outputId": "3f66e8de-3f14-408d-884a-f4e7465cfe1b",
        "id": "g1JWI2kr8aFB"
      },
      "execution_count": null,
      "outputs": [
        {
          "output_type": "execute_result",
          "data": {
            "text/plain": [
              "<class 'statsmodels.iolib.summary.Summary'>\n",
              "\"\"\"\n",
              "                                         SARIMAX Results                                          \n",
              "==================================================================================================\n",
              "Dep. Variable:     log_Expenditure to protect Environment   No. Observations:                   43\n",
              "Model:                                     ARIMA(0, 1, 1)   Log Likelihood                  22.949\n",
              "Date:                                    Thu, 16 Mar 2023   AIC                            -41.898\n",
              "Time:                                            10:26:10   BIC                            -38.423\n",
              "Sample:                                                 0   HQIC                           -40.624\n",
              "                                                     - 43                                         \n",
              "Covariance Type:                                      opg                                         \n",
              "==============================================================================\n",
              "                 coef    std err          z      P>|z|      [0.025      0.975]\n",
              "------------------------------------------------------------------------------\n",
              "ma.L1         -0.0002      0.129     -0.002      0.999      -0.253       0.252\n",
              "sigma2         0.0196      0.005      4.105      0.000       0.010       0.029\n",
              "===================================================================================\n",
              "Ljung-Box (L1) (Q):                   0.82   Jarque-Bera (JB):                 2.22\n",
              "Prob(Q):                              0.36   Prob(JB):                         0.33\n",
              "Heteroskedasticity (H):               0.57   Skew:                            -0.54\n",
              "Prob(H) (two-sided):                  0.31   Kurtosis:                         3.34\n",
              "===================================================================================\n",
              "\n",
              "Warnings:\n",
              "[1] Covariance matrix calculated using the outer product of gradients (complex-step).\n",
              "\"\"\""
            ],
            "text/html": [
              "<table class=\"simpletable\">\n",
              "<caption>SARIMAX Results</caption>\n",
              "<tr>\n",
              "  <th>Dep. Variable:</th>   <td>log_Expenditure to protect Environment</td> <th>  No. Observations:  </th>   <td>43</td>   \n",
              "</tr>\n",
              "<tr>\n",
              "  <th>Model:</th>                       <td>ARIMA(0, 1, 1)</td>             <th>  Log Likelihood     </th> <td>22.949</td> \n",
              "</tr>\n",
              "<tr>\n",
              "  <th>Date:</th>                       <td>Thu, 16 Mar 2023</td>            <th>  AIC                </th> <td>-41.898</td>\n",
              "</tr>\n",
              "<tr>\n",
              "  <th>Time:</th>                           <td>10:26:10</td>                <th>  BIC                </th> <td>-38.423</td>\n",
              "</tr>\n",
              "<tr>\n",
              "  <th>Sample:</th>                             <td>0</td>                   <th>  HQIC               </th> <td>-40.624</td>\n",
              "</tr>\n",
              "<tr>\n",
              "  <th></th>                                  <td> - 43</td>                 <th>                     </th>    <td> </td>   \n",
              "</tr>\n",
              "<tr>\n",
              "  <th>Covariance Type:</th>                   <td>opg</td>                  <th>                     </th>    <td> </td>   \n",
              "</tr>\n",
              "</table>\n",
              "<table class=\"simpletable\">\n",
              "<tr>\n",
              "     <td></td>       <th>coef</th>     <th>std err</th>      <th>z</th>      <th>P>|z|</th>  <th>[0.025</th>    <th>0.975]</th>  \n",
              "</tr>\n",
              "<tr>\n",
              "  <th>ma.L1</th>  <td>   -0.0002</td> <td>    0.129</td> <td>   -0.002</td> <td> 0.999</td> <td>   -0.253</td> <td>    0.252</td>\n",
              "</tr>\n",
              "<tr>\n",
              "  <th>sigma2</th> <td>    0.0196</td> <td>    0.005</td> <td>    4.105</td> <td> 0.000</td> <td>    0.010</td> <td>    0.029</td>\n",
              "</tr>\n",
              "</table>\n",
              "<table class=\"simpletable\">\n",
              "<tr>\n",
              "  <th>Ljung-Box (L1) (Q):</th>     <td>0.82</td> <th>  Jarque-Bera (JB):  </th> <td>2.22</td> \n",
              "</tr>\n",
              "<tr>\n",
              "  <th>Prob(Q):</th>                <td>0.36</td> <th>  Prob(JB):          </th> <td>0.33</td> \n",
              "</tr>\n",
              "<tr>\n",
              "  <th>Heteroskedasticity (H):</th> <td>0.57</td> <th>  Skew:              </th> <td>-0.54</td>\n",
              "</tr>\n",
              "<tr>\n",
              "  <th>Prob(H) (two-sided):</th>    <td>0.31</td> <th>  Kurtosis:          </th> <td>3.34</td> \n",
              "</tr>\n",
              "</table><br/><br/>Warnings:<br/>[1] Covariance matrix calculated using the outer product of gradients (complex-step)."
            ]
          },
          "metadata": {},
          "execution_count": 91
        }
      ],
      "id": "g1JWI2kr8aFB"
    },
    {
      "cell_type": "code",
      "source": [
        "model = ARIMA(df['log_Expenditure to protect Environment'], order=(2,1,1))\n",
        "model_fit = model.fit()\n",
        "model_fit.summary()"
      ],
      "metadata": {
        "colab": {
          "base_uri": "https://localhost:8080/",
          "height": 503
        },
        "id": "-1lMSmvo9LWB",
        "outputId": "825d4611-cdb2-48d7-e28c-073172a36c9b"
      },
      "id": "-1lMSmvo9LWB",
      "execution_count": null,
      "outputs": [
        {
          "output_type": "stream",
          "name": "stderr",
          "text": [
            "/usr/local/lib/python3.9/dist-packages/statsmodels/tsa/statespace/sarimax.py:966: UserWarning: Non-stationary starting autoregressive parameters found. Using zeros as starting parameters.\n",
            "  warn('Non-stationary starting autoregressive parameters'\n",
            "/usr/local/lib/python3.9/dist-packages/statsmodels/tsa/statespace/sarimax.py:978: UserWarning: Non-invertible starting MA parameters found. Using zeros as starting parameters.\n",
            "  warn('Non-invertible starting MA parameters found.'\n"
          ]
        },
        {
          "output_type": "execute_result",
          "data": {
            "text/plain": [
              "<class 'statsmodels.iolib.summary.Summary'>\n",
              "\"\"\"\n",
              "                                         SARIMAX Results                                          \n",
              "==================================================================================================\n",
              "Dep. Variable:     log_Expenditure to protect Environment   No. Observations:                   43\n",
              "Model:                                     ARIMA(2, 1, 1)   Log Likelihood                  24.233\n",
              "Date:                                    Thu, 16 Mar 2023   AIC                            -40.466\n",
              "Time:                                            10:26:21   BIC                            -33.515\n",
              "Sample:                                                 0   HQIC                           -37.918\n",
              "                                                     - 43                                         \n",
              "Covariance Type:                                      opg                                         \n",
              "==============================================================================\n",
              "                 coef    std err          z      P>|z|      [0.025      0.975]\n",
              "------------------------------------------------------------------------------\n",
              "ar.L1          0.4050      0.468      0.865      0.387      -0.512       1.322\n",
              "ar.L2          0.2403      0.223      1.077      0.281      -0.197       0.677\n",
              "ma.L1         -0.4164      0.482     -0.864      0.388      -1.361       0.528\n",
              "sigma2         0.0184      0.005      4.058      0.000       0.010       0.027\n",
              "===================================================================================\n",
              "Ljung-Box (L1) (Q):                   0.25   Jarque-Bera (JB):                 2.89\n",
              "Prob(Q):                              0.62   Prob(JB):                         0.24\n",
              "Heteroskedasticity (H):               0.54   Skew:                            -0.61\n",
              "Prob(H) (two-sided):                  0.26   Kurtosis:                         3.43\n",
              "===================================================================================\n",
              "\n",
              "Warnings:\n",
              "[1] Covariance matrix calculated using the outer product of gradients (complex-step).\n",
              "\"\"\""
            ],
            "text/html": [
              "<table class=\"simpletable\">\n",
              "<caption>SARIMAX Results</caption>\n",
              "<tr>\n",
              "  <th>Dep. Variable:</th>   <td>log_Expenditure to protect Environment</td> <th>  No. Observations:  </th>   <td>43</td>   \n",
              "</tr>\n",
              "<tr>\n",
              "  <th>Model:</th>                       <td>ARIMA(2, 1, 1)</td>             <th>  Log Likelihood     </th> <td>24.233</td> \n",
              "</tr>\n",
              "<tr>\n",
              "  <th>Date:</th>                       <td>Thu, 16 Mar 2023</td>            <th>  AIC                </th> <td>-40.466</td>\n",
              "</tr>\n",
              "<tr>\n",
              "  <th>Time:</th>                           <td>10:26:21</td>                <th>  BIC                </th> <td>-33.515</td>\n",
              "</tr>\n",
              "<tr>\n",
              "  <th>Sample:</th>                             <td>0</td>                   <th>  HQIC               </th> <td>-37.918</td>\n",
              "</tr>\n",
              "<tr>\n",
              "  <th></th>                                  <td> - 43</td>                 <th>                     </th>    <td> </td>   \n",
              "</tr>\n",
              "<tr>\n",
              "  <th>Covariance Type:</th>                   <td>opg</td>                  <th>                     </th>    <td> </td>   \n",
              "</tr>\n",
              "</table>\n",
              "<table class=\"simpletable\">\n",
              "<tr>\n",
              "     <td></td>       <th>coef</th>     <th>std err</th>      <th>z</th>      <th>P>|z|</th>  <th>[0.025</th>    <th>0.975]</th>  \n",
              "</tr>\n",
              "<tr>\n",
              "  <th>ar.L1</th>  <td>    0.4050</td> <td>    0.468</td> <td>    0.865</td> <td> 0.387</td> <td>   -0.512</td> <td>    1.322</td>\n",
              "</tr>\n",
              "<tr>\n",
              "  <th>ar.L2</th>  <td>    0.2403</td> <td>    0.223</td> <td>    1.077</td> <td> 0.281</td> <td>   -0.197</td> <td>    0.677</td>\n",
              "</tr>\n",
              "<tr>\n",
              "  <th>ma.L1</th>  <td>   -0.4164</td> <td>    0.482</td> <td>   -0.864</td> <td> 0.388</td> <td>   -1.361</td> <td>    0.528</td>\n",
              "</tr>\n",
              "<tr>\n",
              "  <th>sigma2</th> <td>    0.0184</td> <td>    0.005</td> <td>    4.058</td> <td> 0.000</td> <td>    0.010</td> <td>    0.027</td>\n",
              "</tr>\n",
              "</table>\n",
              "<table class=\"simpletable\">\n",
              "<tr>\n",
              "  <th>Ljung-Box (L1) (Q):</th>     <td>0.25</td> <th>  Jarque-Bera (JB):  </th> <td>2.89</td> \n",
              "</tr>\n",
              "<tr>\n",
              "  <th>Prob(Q):</th>                <td>0.62</td> <th>  Prob(JB):          </th> <td>0.24</td> \n",
              "</tr>\n",
              "<tr>\n",
              "  <th>Heteroskedasticity (H):</th> <td>0.54</td> <th>  Skew:              </th> <td>-0.61</td>\n",
              "</tr>\n",
              "<tr>\n",
              "  <th>Prob(H) (two-sided):</th>    <td>0.26</td> <th>  Kurtosis:          </th> <td>3.43</td> \n",
              "</tr>\n",
              "</table><br/><br/>Warnings:<br/>[1] Covariance matrix calculated using the outer product of gradients (complex-step)."
            ]
          },
          "metadata": {},
          "execution_count": 92
        }
      ]
    },
    {
      "cell_type": "markdown",
      "source": [
        "***OPTIMUM LAG LENTH OF ENVIRONMENT EXPENDITURE IS 1 BASED ON AIC STATISTICS***\n"
      ],
      "metadata": {
        "id": "wirtZh-k_bHg"
      },
      "id": "wirtZh-k_bHg"
    },
    {
      "cell_type": "code",
      "source": [
        "import numpy as np\n",
        "import pandas as pd\n",
        "from statsmodels.tsa.stattools import adfuller\n",
        "from statsmodels.tsa.stattools import coint\n",
        "\n",
        "# load time series data\n",
        "data = pd.read_csv('/content/Country-X.csv', index_col=0)\n",
        "\n",
        "\n",
        "\n",
        "# test for cointegration using Engle-Granger method\n",
        "def is_cointegrated(x, y):\n",
        "    result = coint(x, y)\n",
        "    p_value = result[1]\n",
        "    return p_value < 0.05\n",
        "\n",
        "# separate time series data into X and Y variables\n",
        "X = data['GDP (Bn)']\n",
        "Y = data['Carbon Emission (Metric tons)']\n",
        "\n",
        "\n",
        "# test for cointegration\n",
        "if is_cointegrated(X, Y):\n",
        "    print(\"X and Y are cointegrated, implying a causal relationship from X to Y.\")\n",
        "else:\n",
        "    print(\"X and Y are not cointegrated, suggesting no causal relationship.\")\n"
      ],
      "metadata": {
        "colab": {
          "base_uri": "https://localhost:8080/"
        },
        "id": "UOFdLSkKCPnn",
        "outputId": "cb8415fe-ff73-42b3-8cdb-0c074fa299fd"
      },
      "id": "UOFdLSkKCPnn",
      "execution_count": null,
      "outputs": [
        {
          "output_type": "stream",
          "name": "stdout",
          "text": [
            "X and Y are not cointegrated, suggesting no causal relationship.\n"
          ]
        }
      ]
    },
    {
      "cell_type": "code",
      "source": [
        "X = data['GDP (Bn)']\n",
        "Y = data['Energy Consumption (Kwh)']\n",
        "\n",
        "\n",
        "# test for cointegration\n",
        "if is_cointegrated(X, Y):\n",
        "    print(\"X and Y are cointegrated, implying a causal relationship from X to Y.\")\n",
        "else:\n",
        "    print(\"X and Y are not cointegrated, suggesting no causal relationship.\")\n"
      ],
      "metadata": {
        "colab": {
          "base_uri": "https://localhost:8080/"
        },
        "id": "H4p5ciUhCtVX",
        "outputId": "1edfec92-35f9-4138-c953-5090371c808a"
      },
      "id": "H4p5ciUhCtVX",
      "execution_count": null,
      "outputs": [
        {
          "output_type": "stream",
          "name": "stdout",
          "text": [
            "X and Y are not cointegrated, suggesting no causal relationship.\n"
          ]
        }
      ]
    },
    {
      "cell_type": "code",
      "source": [
        "X = data['GDP (Bn)']\n",
        "Y = data['Expenditure to protect Environment (Bn)']\n",
        "\n",
        "# test for cointegration\n",
        "if is_cointegrated(X, Y):\n",
        "    print(\"X and Y are cointegrated, implying a causal relationship from X to Y.\")\n",
        "else:\n",
        "    print(\"X and Y are not cointegrated, suggesting no causal relationship.\")"
      ],
      "metadata": {
        "colab": {
          "base_uri": "https://localhost:8080/"
        },
        "id": "yxUuPeEwC7NH",
        "outputId": "0b7a438d-2ae7-40ae-efbf-8e293541befd"
      },
      "id": "yxUuPeEwC7NH",
      "execution_count": null,
      "outputs": [
        {
          "output_type": "stream",
          "name": "stdout",
          "text": [
            "X and Y are not cointegrated, suggesting no causal relationship.\n"
          ]
        }
      ]
    },
    {
      "cell_type": "code",
      "source": [
        "X = data['Energy Consumption (Kwh)']\n",
        "Y = data['Expenditure to protect Environment (Bn)']\n",
        "\n",
        "# test for cointegration\n",
        "if is_cointegrated(X, Y):\n",
        "    print(\"X and Y are cointegrated, implying a causal relationship from X to Y.\")\n",
        "else:\n",
        "    print(\"X and Y are not cointegrated, suggesting no causal relationship.\")"
      ],
      "metadata": {
        "colab": {
          "base_uri": "https://localhost:8080/"
        },
        "id": "Xa3b_jiAEmIE",
        "outputId": "4bd9ded7-9aa7-439b-a09e-01305555c568"
      },
      "id": "Xa3b_jiAEmIE",
      "execution_count": null,
      "outputs": [
        {
          "output_type": "stream",
          "name": "stdout",
          "text": [
            "X and Y are not cointegrated, suggesting no causal relationship.\n"
          ]
        }
      ]
    },
    {
      "cell_type": "code",
      "source": [
        "X = data['Carbon Emission (Metric tons)']\n",
        "Y = data['Expenditure to protect Environment (Bn)']\n",
        "\n",
        "# test for cointegration\n",
        "if is_cointegrated(X, Y):\n",
        "    print(\"X and Y are cointegrated, implying a causal relationship from X to Y.\")\n",
        "else:\n",
        "    print(\"X and Y are not cointegrated, suggesting no causal relationship.\")"
      ],
      "metadata": {
        "colab": {
          "base_uri": "https://localhost:8080/"
        },
        "id": "uhZ40_RlErIS",
        "outputId": "b1e8b8ca-2b29-4e54-9b6b-9d2c7df0caeb"
      },
      "id": "uhZ40_RlErIS",
      "execution_count": null,
      "outputs": [
        {
          "output_type": "stream",
          "name": "stdout",
          "text": [
            "X and Y are not cointegrated, suggesting no causal relationship.\n"
          ]
        }
      ]
    },
    {
      "cell_type": "code",
      "source": [
        "X = data['Energy Consumption (Kwh)']\n",
        "Y = data['Carbon Emission (Metric tons)']\n",
        "\n",
        "# test for cointegration\n",
        "if is_cointegrated(X, Y):\n",
        "    print(\"X and Y are cointegrated, implying a causal relationship from X to Y.\")\n",
        "else:\n",
        "    print(\"X and Y are not cointegrated, suggesting no causal relationship.\")"
      ],
      "metadata": {
        "colab": {
          "base_uri": "https://localhost:8080/"
        },
        "id": "HDF7sYZxExYM",
        "outputId": "ba0c1800-e62d-4428-8e89-835d2b28f51c"
      },
      "id": "HDF7sYZxExYM",
      "execution_count": null,
      "outputs": [
        {
          "output_type": "stream",
          "name": "stdout",
          "text": [
            "X and Y are not cointegrated, suggesting no causal relationship.\n"
          ]
        }
      ]
    }
  ],
  "metadata": {
    "kernelspec": {
      "display_name": "Python 3 (ipykernel)",
      "language": "python",
      "name": "python3"
    },
    "language_info": {
      "codemirror_mode": {
        "name": "ipython",
        "version": 3
      },
      "file_extension": ".py",
      "mimetype": "text/x-python",
      "name": "python",
      "nbconvert_exporter": "python",
      "pygments_lexer": "ipython3",
      "version": "3.9.7"
    },
    "colab": {
      "provenance": []
    }
  },
  "nbformat": 4,
  "nbformat_minor": 5
}