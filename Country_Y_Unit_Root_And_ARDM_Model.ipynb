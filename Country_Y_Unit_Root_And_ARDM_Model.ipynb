{
  "cells": [
    {
      "cell_type": "code",
      "execution_count": null,
      "id": "23cb4314",
      "metadata": {
        "id": "23cb4314"
      },
      "outputs": [],
      "source": [
        "import pandas as pd\n",
        "import numpy as np\n",
        "import seaborn as sns\n",
        "import matplotlib.pyplot as plt"
      ]
    },
    {
      "cell_type": "code",
      "execution_count": null,
      "id": "e5d8b0f6",
      "metadata": {
        "id": "e5d8b0f6"
      },
      "outputs": [],
      "source": [
        "df = pd.read_csv('/content/cn_2.csv')"
      ]
    },
    {
      "cell_type": "code",
      "execution_count": null,
      "id": "7b388c36",
      "metadata": {
        "colab": {
          "base_uri": "https://localhost:8080/",
          "height": 206
        },
        "id": "7b388c36",
        "outputId": "59f1599a-57b5-4692-883b-ae863df1141b"
      },
      "outputs": [
        {
          "output_type": "execute_result",
          "data": {
            "text/plain": [
              "   Year   GDP (Bn)  Carbon Emission (Metric tons)  Energy Consumption (Kwh)  \\\n",
              "0  1980  1455.2541                           1.05               2983.644860   \n",
              "1  1981  1546.4587                           1.25               3261.214953   \n",
              "2  1982  1645.4587                           1.04               3379.906542   \n",
              "3  1983  1785.6587                           1.35               3668.224299   \n",
              "4  1984  1745.6541                           1.64               3759.345794   \n",
              "\n",
              "   Expenditure to protect Environment (Bn)  \n",
              "0                                    30.25  \n",
              "1                                    42.25  \n",
              "2                                    45.12  \n",
              "3                                    48.21  \n",
              "4                                    60.25  "
            ],
            "text/html": [
              "\n",
              "  <div id=\"df-18ce359f-a11c-496f-aee1-40b94fcb971d\">\n",
              "    <div class=\"colab-df-container\">\n",
              "      <div>\n",
              "<style scoped>\n",
              "    .dataframe tbody tr th:only-of-type {\n",
              "        vertical-align: middle;\n",
              "    }\n",
              "\n",
              "    .dataframe tbody tr th {\n",
              "        vertical-align: top;\n",
              "    }\n",
              "\n",
              "    .dataframe thead th {\n",
              "        text-align: right;\n",
              "    }\n",
              "</style>\n",
              "<table border=\"1\" class=\"dataframe\">\n",
              "  <thead>\n",
              "    <tr style=\"text-align: right;\">\n",
              "      <th></th>\n",
              "      <th>Year</th>\n",
              "      <th>GDP (Bn)</th>\n",
              "      <th>Carbon Emission (Metric tons)</th>\n",
              "      <th>Energy Consumption (Kwh)</th>\n",
              "      <th>Expenditure to protect Environment (Bn)</th>\n",
              "    </tr>\n",
              "  </thead>\n",
              "  <tbody>\n",
              "    <tr>\n",
              "      <th>0</th>\n",
              "      <td>1980</td>\n",
              "      <td>1455.2541</td>\n",
              "      <td>1.05</td>\n",
              "      <td>2983.644860</td>\n",
              "      <td>30.25</td>\n",
              "    </tr>\n",
              "    <tr>\n",
              "      <th>1</th>\n",
              "      <td>1981</td>\n",
              "      <td>1546.4587</td>\n",
              "      <td>1.25</td>\n",
              "      <td>3261.214953</td>\n",
              "      <td>42.25</td>\n",
              "    </tr>\n",
              "    <tr>\n",
              "      <th>2</th>\n",
              "      <td>1982</td>\n",
              "      <td>1645.4587</td>\n",
              "      <td>1.04</td>\n",
              "      <td>3379.906542</td>\n",
              "      <td>45.12</td>\n",
              "    </tr>\n",
              "    <tr>\n",
              "      <th>3</th>\n",
              "      <td>1983</td>\n",
              "      <td>1785.6587</td>\n",
              "      <td>1.35</td>\n",
              "      <td>3668.224299</td>\n",
              "      <td>48.21</td>\n",
              "    </tr>\n",
              "    <tr>\n",
              "      <th>4</th>\n",
              "      <td>1984</td>\n",
              "      <td>1745.6541</td>\n",
              "      <td>1.64</td>\n",
              "      <td>3759.345794</td>\n",
              "      <td>60.25</td>\n",
              "    </tr>\n",
              "  </tbody>\n",
              "</table>\n",
              "</div>\n",
              "      <button class=\"colab-df-convert\" onclick=\"convertToInteractive('df-18ce359f-a11c-496f-aee1-40b94fcb971d')\"\n",
              "              title=\"Convert this dataframe to an interactive table.\"\n",
              "              style=\"display:none;\">\n",
              "        \n",
              "  <svg xmlns=\"http://www.w3.org/2000/svg\" height=\"24px\"viewBox=\"0 0 24 24\"\n",
              "       width=\"24px\">\n",
              "    <path d=\"M0 0h24v24H0V0z\" fill=\"none\"/>\n",
              "    <path d=\"M18.56 5.44l.94 2.06.94-2.06 2.06-.94-2.06-.94-.94-2.06-.94 2.06-2.06.94zm-11 1L8.5 8.5l.94-2.06 2.06-.94-2.06-.94L8.5 2.5l-.94 2.06-2.06.94zm10 10l.94 2.06.94-2.06 2.06-.94-2.06-.94-.94-2.06-.94 2.06-2.06.94z\"/><path d=\"M17.41 7.96l-1.37-1.37c-.4-.4-.92-.59-1.43-.59-.52 0-1.04.2-1.43.59L10.3 9.45l-7.72 7.72c-.78.78-.78 2.05 0 2.83L4 21.41c.39.39.9.59 1.41.59.51 0 1.02-.2 1.41-.59l7.78-7.78 2.81-2.81c.8-.78.8-2.07 0-2.86zM5.41 20L4 18.59l7.72-7.72 1.47 1.35L5.41 20z\"/>\n",
              "  </svg>\n",
              "      </button>\n",
              "      \n",
              "  <style>\n",
              "    .colab-df-container {\n",
              "      display:flex;\n",
              "      flex-wrap:wrap;\n",
              "      gap: 12px;\n",
              "    }\n",
              "\n",
              "    .colab-df-convert {\n",
              "      background-color: #E8F0FE;\n",
              "      border: none;\n",
              "      border-radius: 50%;\n",
              "      cursor: pointer;\n",
              "      display: none;\n",
              "      fill: #1967D2;\n",
              "      height: 32px;\n",
              "      padding: 0 0 0 0;\n",
              "      width: 32px;\n",
              "    }\n",
              "\n",
              "    .colab-df-convert:hover {\n",
              "      background-color: #E2EBFA;\n",
              "      box-shadow: 0px 1px 2px rgba(60, 64, 67, 0.3), 0px 1px 3px 1px rgba(60, 64, 67, 0.15);\n",
              "      fill: #174EA6;\n",
              "    }\n",
              "\n",
              "    [theme=dark] .colab-df-convert {\n",
              "      background-color: #3B4455;\n",
              "      fill: #D2E3FC;\n",
              "    }\n",
              "\n",
              "    [theme=dark] .colab-df-convert:hover {\n",
              "      background-color: #434B5C;\n",
              "      box-shadow: 0px 1px 3px 1px rgba(0, 0, 0, 0.15);\n",
              "      filter: drop-shadow(0px 1px 2px rgba(0, 0, 0, 0.3));\n",
              "      fill: #FFFFFF;\n",
              "    }\n",
              "  </style>\n",
              "\n",
              "      <script>\n",
              "        const buttonEl =\n",
              "          document.querySelector('#df-18ce359f-a11c-496f-aee1-40b94fcb971d button.colab-df-convert');\n",
              "        buttonEl.style.display =\n",
              "          google.colab.kernel.accessAllowed ? 'block' : 'none';\n",
              "\n",
              "        async function convertToInteractive(key) {\n",
              "          const element = document.querySelector('#df-18ce359f-a11c-496f-aee1-40b94fcb971d');\n",
              "          const dataTable =\n",
              "            await google.colab.kernel.invokeFunction('convertToInteractive',\n",
              "                                                     [key], {});\n",
              "          if (!dataTable) return;\n",
              "\n",
              "          const docLinkHtml = 'Like what you see? Visit the ' +\n",
              "            '<a target=\"_blank\" href=https://colab.research.google.com/notebooks/data_table.ipynb>data table notebook</a>'\n",
              "            + ' to learn more about interactive tables.';\n",
              "          element.innerHTML = '';\n",
              "          dataTable['output_type'] = 'display_data';\n",
              "          await google.colab.output.renderOutput(dataTable, element);\n",
              "          const docLink = document.createElement('div');\n",
              "          docLink.innerHTML = docLinkHtml;\n",
              "          element.appendChild(docLink);\n",
              "        }\n",
              "      </script>\n",
              "    </div>\n",
              "  </div>\n",
              "  "
            ]
          },
          "metadata": {},
          "execution_count": 108
        }
      ],
      "source": [
        "df.head()"
      ]
    },
    {
      "cell_type": "code",
      "source": [
        "df[['log_GDP',\t'log_Carbon Emission',\t'log_Energy Consumption',\t'log_Expenditure to protect Environment']]=np.log(df[['GDP (Bn)',\t'Carbon Emission (Metric tons)',\t'Energy Consumption (Kwh)',\t'Expenditure to protect Environment (Bn)']])"
      ],
      "metadata": {
        "id": "_-MagbLmsoKK"
      },
      "id": "_-MagbLmsoKK",
      "execution_count": null,
      "outputs": []
    },
    {
      "cell_type": "code",
      "source": [
        "df.head()"
      ],
      "metadata": {
        "id": "J11MCVdgteFh",
        "colab": {
          "base_uri": "https://localhost:8080/",
          "height": 267
        },
        "outputId": "fefabc39-7d17-4bf3-b015-9c7e4902225a"
      },
      "id": "J11MCVdgteFh",
      "execution_count": null,
      "outputs": [
        {
          "output_type": "execute_result",
          "data": {
            "text/plain": [
              "   Year   GDP (Bn)  Carbon Emission (Metric tons)  Energy Consumption (Kwh)  \\\n",
              "0  1980  1455.2541                           1.05               2983.644860   \n",
              "1  1981  1546.4587                           1.25               3261.214953   \n",
              "2  1982  1645.4587                           1.04               3379.906542   \n",
              "3  1983  1785.6587                           1.35               3668.224299   \n",
              "4  1984  1745.6541                           1.64               3759.345794   \n",
              "\n",
              "   Expenditure to protect Environment (Bn)   log_GDP  log_Carbon Emission  \\\n",
              "0                                    30.25  7.282936             0.048790   \n",
              "1                                    42.25  7.343723             0.223144   \n",
              "2                                    45.12  7.405774             0.039221   \n",
              "3                                    48.21  7.487543             0.300105   \n",
              "4                                    60.25  7.464885             0.494696   \n",
              "\n",
              "   log_Energy Consumption  log_Expenditure to protect Environment  \n",
              "0                8.000901                                3.409496  \n",
              "1                8.089855                                3.743604  \n",
              "2                8.125603                                3.809326  \n",
              "3                8.207463                                3.875566  \n",
              "4                8.232000                                4.098503  "
            ],
            "text/html": [
              "\n",
              "  <div id=\"df-4f80d552-eb66-4cfe-9f1a-2f7d0d86cdbb\">\n",
              "    <div class=\"colab-df-container\">\n",
              "      <div>\n",
              "<style scoped>\n",
              "    .dataframe tbody tr th:only-of-type {\n",
              "        vertical-align: middle;\n",
              "    }\n",
              "\n",
              "    .dataframe tbody tr th {\n",
              "        vertical-align: top;\n",
              "    }\n",
              "\n",
              "    .dataframe thead th {\n",
              "        text-align: right;\n",
              "    }\n",
              "</style>\n",
              "<table border=\"1\" class=\"dataframe\">\n",
              "  <thead>\n",
              "    <tr style=\"text-align: right;\">\n",
              "      <th></th>\n",
              "      <th>Year</th>\n",
              "      <th>GDP (Bn)</th>\n",
              "      <th>Carbon Emission (Metric tons)</th>\n",
              "      <th>Energy Consumption (Kwh)</th>\n",
              "      <th>Expenditure to protect Environment (Bn)</th>\n",
              "      <th>log_GDP</th>\n",
              "      <th>log_Carbon Emission</th>\n",
              "      <th>log_Energy Consumption</th>\n",
              "      <th>log_Expenditure to protect Environment</th>\n",
              "    </tr>\n",
              "  </thead>\n",
              "  <tbody>\n",
              "    <tr>\n",
              "      <th>0</th>\n",
              "      <td>1980</td>\n",
              "      <td>1455.2541</td>\n",
              "      <td>1.05</td>\n",
              "      <td>2983.644860</td>\n",
              "      <td>30.25</td>\n",
              "      <td>7.282936</td>\n",
              "      <td>0.048790</td>\n",
              "      <td>8.000901</td>\n",
              "      <td>3.409496</td>\n",
              "    </tr>\n",
              "    <tr>\n",
              "      <th>1</th>\n",
              "      <td>1981</td>\n",
              "      <td>1546.4587</td>\n",
              "      <td>1.25</td>\n",
              "      <td>3261.214953</td>\n",
              "      <td>42.25</td>\n",
              "      <td>7.343723</td>\n",
              "      <td>0.223144</td>\n",
              "      <td>8.089855</td>\n",
              "      <td>3.743604</td>\n",
              "    </tr>\n",
              "    <tr>\n",
              "      <th>2</th>\n",
              "      <td>1982</td>\n",
              "      <td>1645.4587</td>\n",
              "      <td>1.04</td>\n",
              "      <td>3379.906542</td>\n",
              "      <td>45.12</td>\n",
              "      <td>7.405774</td>\n",
              "      <td>0.039221</td>\n",
              "      <td>8.125603</td>\n",
              "      <td>3.809326</td>\n",
              "    </tr>\n",
              "    <tr>\n",
              "      <th>3</th>\n",
              "      <td>1983</td>\n",
              "      <td>1785.6587</td>\n",
              "      <td>1.35</td>\n",
              "      <td>3668.224299</td>\n",
              "      <td>48.21</td>\n",
              "      <td>7.487543</td>\n",
              "      <td>0.300105</td>\n",
              "      <td>8.207463</td>\n",
              "      <td>3.875566</td>\n",
              "    </tr>\n",
              "    <tr>\n",
              "      <th>4</th>\n",
              "      <td>1984</td>\n",
              "      <td>1745.6541</td>\n",
              "      <td>1.64</td>\n",
              "      <td>3759.345794</td>\n",
              "      <td>60.25</td>\n",
              "      <td>7.464885</td>\n",
              "      <td>0.494696</td>\n",
              "      <td>8.232000</td>\n",
              "      <td>4.098503</td>\n",
              "    </tr>\n",
              "  </tbody>\n",
              "</table>\n",
              "</div>\n",
              "      <button class=\"colab-df-convert\" onclick=\"convertToInteractive('df-4f80d552-eb66-4cfe-9f1a-2f7d0d86cdbb')\"\n",
              "              title=\"Convert this dataframe to an interactive table.\"\n",
              "              style=\"display:none;\">\n",
              "        \n",
              "  <svg xmlns=\"http://www.w3.org/2000/svg\" height=\"24px\"viewBox=\"0 0 24 24\"\n",
              "       width=\"24px\">\n",
              "    <path d=\"M0 0h24v24H0V0z\" fill=\"none\"/>\n",
              "    <path d=\"M18.56 5.44l.94 2.06.94-2.06 2.06-.94-2.06-.94-.94-2.06-.94 2.06-2.06.94zm-11 1L8.5 8.5l.94-2.06 2.06-.94-2.06-.94L8.5 2.5l-.94 2.06-2.06.94zm10 10l.94 2.06.94-2.06 2.06-.94-2.06-.94-.94-2.06-.94 2.06-2.06.94z\"/><path d=\"M17.41 7.96l-1.37-1.37c-.4-.4-.92-.59-1.43-.59-.52 0-1.04.2-1.43.59L10.3 9.45l-7.72 7.72c-.78.78-.78 2.05 0 2.83L4 21.41c.39.39.9.59 1.41.59.51 0 1.02-.2 1.41-.59l7.78-7.78 2.81-2.81c.8-.78.8-2.07 0-2.86zM5.41 20L4 18.59l7.72-7.72 1.47 1.35L5.41 20z\"/>\n",
              "  </svg>\n",
              "      </button>\n",
              "      \n",
              "  <style>\n",
              "    .colab-df-container {\n",
              "      display:flex;\n",
              "      flex-wrap:wrap;\n",
              "      gap: 12px;\n",
              "    }\n",
              "\n",
              "    .colab-df-convert {\n",
              "      background-color: #E8F0FE;\n",
              "      border: none;\n",
              "      border-radius: 50%;\n",
              "      cursor: pointer;\n",
              "      display: none;\n",
              "      fill: #1967D2;\n",
              "      height: 32px;\n",
              "      padding: 0 0 0 0;\n",
              "      width: 32px;\n",
              "    }\n",
              "\n",
              "    .colab-df-convert:hover {\n",
              "      background-color: #E2EBFA;\n",
              "      box-shadow: 0px 1px 2px rgba(60, 64, 67, 0.3), 0px 1px 3px 1px rgba(60, 64, 67, 0.15);\n",
              "      fill: #174EA6;\n",
              "    }\n",
              "\n",
              "    [theme=dark] .colab-df-convert {\n",
              "      background-color: #3B4455;\n",
              "      fill: #D2E3FC;\n",
              "    }\n",
              "\n",
              "    [theme=dark] .colab-df-convert:hover {\n",
              "      background-color: #434B5C;\n",
              "      box-shadow: 0px 1px 3px 1px rgba(0, 0, 0, 0.15);\n",
              "      filter: drop-shadow(0px 1px 2px rgba(0, 0, 0, 0.3));\n",
              "      fill: #FFFFFF;\n",
              "    }\n",
              "  </style>\n",
              "\n",
              "      <script>\n",
              "        const buttonEl =\n",
              "          document.querySelector('#df-4f80d552-eb66-4cfe-9f1a-2f7d0d86cdbb button.colab-df-convert');\n",
              "        buttonEl.style.display =\n",
              "          google.colab.kernel.accessAllowed ? 'block' : 'none';\n",
              "\n",
              "        async function convertToInteractive(key) {\n",
              "          const element = document.querySelector('#df-4f80d552-eb66-4cfe-9f1a-2f7d0d86cdbb');\n",
              "          const dataTable =\n",
              "            await google.colab.kernel.invokeFunction('convertToInteractive',\n",
              "                                                     [key], {});\n",
              "          if (!dataTable) return;\n",
              "\n",
              "          const docLinkHtml = 'Like what you see? Visit the ' +\n",
              "            '<a target=\"_blank\" href=https://colab.research.google.com/notebooks/data_table.ipynb>data table notebook</a>'\n",
              "            + ' to learn more about interactive tables.';\n",
              "          element.innerHTML = '';\n",
              "          dataTable['output_type'] = 'display_data';\n",
              "          await google.colab.output.renderOutput(dataTable, element);\n",
              "          const docLink = document.createElement('div');\n",
              "          docLink.innerHTML = docLinkHtml;\n",
              "          element.appendChild(docLink);\n",
              "        }\n",
              "      </script>\n",
              "    </div>\n",
              "  </div>\n",
              "  "
            ]
          },
          "metadata": {},
          "execution_count": 110
        }
      ]
    },
    {
      "cell_type": "code",
      "source": [
        "from statsmodels.tsa.stattools import adfuller\n",
        "\n",
        "#perform augmented Dickey-Fuller test\n",
        "adfuller(df['log_GDP'].dropna(), regression='ctt')\n"
      ],
      "metadata": {
        "id": "Pkbfg--4rJnQ",
        "colab": {
          "base_uri": "https://localhost:8080/"
        },
        "outputId": "7504c857-ece5-40ae-85a8-73004547e8b3"
      },
      "id": "Pkbfg--4rJnQ",
      "execution_count": null,
      "outputs": [
        {
          "output_type": "execute_result",
          "data": {
            "text/plain": [
              "(-2.7446832956935423,\n",
              " 0.4290238572148512,\n",
              " 0,\n",
              " 42,\n",
              " {'1%': -4.6718538662131515,\n",
              "  '5%': -3.981678937479754,\n",
              "  '10%': -3.6442517854443364},\n",
              " -80.52865754752634)"
            ]
          },
          "metadata": {},
          "execution_count": 111
        }
      ]
    },
    {
      "cell_type": "code",
      "source": [
        "adfuller(df['log_Carbon Emission'].dropna(), regression='ctt')"
      ],
      "metadata": {
        "id": "cH7E2IvUrrwf",
        "colab": {
          "base_uri": "https://localhost:8080/"
        },
        "outputId": "3840a831-eba4-4c84-8724-cfbc9ba39a06"
      },
      "id": "cH7E2IvUrrwf",
      "execution_count": null,
      "outputs": [
        {
          "output_type": "execute_result",
          "data": {
            "text/plain": [
              "(-5.487099922622112,\n",
              " 0.00013450723453782134,\n",
              " 0,\n",
              " 42,\n",
              " {'1%': -4.6718538662131515,\n",
              "  '5%': -3.981678937479754,\n",
              "  '10%': -3.6442517854443364},\n",
              " -89.58216598409902)"
            ]
          },
          "metadata": {},
          "execution_count": 112
        }
      ]
    },
    {
      "cell_type": "code",
      "source": [
        "adfuller(df['log_Energy Consumption'].dropna(), regression='c')"
      ],
      "metadata": {
        "id": "bRxuvyBXrsFw",
        "colab": {
          "base_uri": "https://localhost:8080/"
        },
        "outputId": "5a2d575b-f922-4385-d82b-aa6ba500f64b"
      },
      "id": "bRxuvyBXrsFw",
      "execution_count": null,
      "outputs": [
        {
          "output_type": "execute_result",
          "data": {
            "text/plain": [
              "(-2.7727894789469163,\n",
              " 0.06226694718301362,\n",
              " 3,\n",
              " 39,\n",
              " {'1%': -3.610399601308181,\n",
              "  '5%': -2.939108945868946,\n",
              "  '10%': -2.6080629651545038},\n",
              " -92.92125156281796)"
            ]
          },
          "metadata": {},
          "execution_count": 113
        }
      ]
    },
    {
      "cell_type": "code",
      "source": [
        "adfuller(df['log_Expenditure to protect Environment'].dropna(),  regression='c')"
      ],
      "metadata": {
        "id": "7cj1r8u1rsrq",
        "colab": {
          "base_uri": "https://localhost:8080/"
        },
        "outputId": "4066ae6d-13c8-4924-abf5-6ab75c2fce00"
      },
      "id": "7cj1r8u1rsrq",
      "execution_count": null,
      "outputs": [
        {
          "output_type": "execute_result",
          "data": {
            "text/plain": [
              "(-3.992605663943429,\n",
              " 0.001449728949088972,\n",
              " 0,\n",
              " 42,\n",
              " {'1%': -3.596635636000432,\n",
              "  '5%': -2.933297331821618,\n",
              "  '10%': -2.6049909750566895},\n",
              " 87.97754180631381)"
            ]
          },
          "metadata": {},
          "execution_count": 114
        }
      ]
    },
    {
      "cell_type": "code",
      "execution_count": null,
      "id": "97712b70",
      "metadata": {
        "id": "97712b70"
      },
      "outputs": [],
      "source": [
        "df['GDP_1st_diff'] = df['log_GDP'] - df['log_GDP'].shift(1)"
      ]
    },
    {
      "cell_type": "code",
      "execution_count": null,
      "id": "b84f4a21",
      "metadata": {
        "id": "b84f4a21"
      },
      "outputs": [],
      "source": [
        "# df['Carbon Emission_1st_diff'] = df['log_Carbon Emission'] - df['log_Carbon Emission'].shift(1)"
      ]
    },
    {
      "cell_type": "code",
      "execution_count": null,
      "id": "fe2dd2ca",
      "metadata": {
        "id": "fe2dd2ca"
      },
      "outputs": [],
      "source": [
        "df['Energy Consumption_1st_diff'] = df['log_Energy Consumption'] - df['log_Energy Consumption'].shift(1)"
      ]
    },
    {
      "cell_type": "code",
      "execution_count": null,
      "id": "a50d407c",
      "metadata": {
        "id": "a50d407c"
      },
      "outputs": [],
      "source": [
        "# df['Expenditure to protect Environment_1st_diff'] = df['log_Expenditure to protect Environment'] - df['log_Expenditure to protect Environment'].shift(1)"
      ]
    },
    {
      "cell_type": "code",
      "source": [
        "df.head()"
      ],
      "metadata": {
        "id": "vqD55EJAwpzv",
        "colab": {
          "base_uri": "https://localhost:8080/",
          "height": 302
        },
        "outputId": "14b9db1f-c4d5-438b-bd89-7112ffbff8be"
      },
      "id": "vqD55EJAwpzv",
      "execution_count": null,
      "outputs": [
        {
          "output_type": "execute_result",
          "data": {
            "text/plain": [
              "   Year   GDP (Bn)  Carbon Emission (Metric tons)  Energy Consumption (Kwh)  \\\n",
              "0  1980  1455.2541                           1.05               2983.644860   \n",
              "1  1981  1546.4587                           1.25               3261.214953   \n",
              "2  1982  1645.4587                           1.04               3379.906542   \n",
              "3  1983  1785.6587                           1.35               3668.224299   \n",
              "4  1984  1745.6541                           1.64               3759.345794   \n",
              "\n",
              "   Expenditure to protect Environment (Bn)   log_GDP  log_Carbon Emission  \\\n",
              "0                                    30.25  7.282936             0.048790   \n",
              "1                                    42.25  7.343723             0.223144   \n",
              "2                                    45.12  7.405774             0.039221   \n",
              "3                                    48.21  7.487543             0.300105   \n",
              "4                                    60.25  7.464885             0.494696   \n",
              "\n",
              "   log_Energy Consumption  log_Expenditure to protect Environment  \\\n",
              "0                8.000901                                3.409496   \n",
              "1                8.089855                                3.743604   \n",
              "2                8.125603                                3.809326   \n",
              "3                8.207463                                3.875566   \n",
              "4                8.232000                                4.098503   \n",
              "\n",
              "   GDP_1st_diff  Energy Consumption_1st_diff  \n",
              "0           NaN                          NaN  \n",
              "1      0.060787                     0.088954  \n",
              "2      0.062052                     0.035748  \n",
              "3      0.081768                     0.081860  \n",
              "4     -0.022658                     0.024537  "
            ],
            "text/html": [
              "\n",
              "  <div id=\"df-7cdbbbf1-4ea7-4bad-b3c7-de93f19b30ca\">\n",
              "    <div class=\"colab-df-container\">\n",
              "      <div>\n",
              "<style scoped>\n",
              "    .dataframe tbody tr th:only-of-type {\n",
              "        vertical-align: middle;\n",
              "    }\n",
              "\n",
              "    .dataframe tbody tr th {\n",
              "        vertical-align: top;\n",
              "    }\n",
              "\n",
              "    .dataframe thead th {\n",
              "        text-align: right;\n",
              "    }\n",
              "</style>\n",
              "<table border=\"1\" class=\"dataframe\">\n",
              "  <thead>\n",
              "    <tr style=\"text-align: right;\">\n",
              "      <th></th>\n",
              "      <th>Year</th>\n",
              "      <th>GDP (Bn)</th>\n",
              "      <th>Carbon Emission (Metric tons)</th>\n",
              "      <th>Energy Consumption (Kwh)</th>\n",
              "      <th>Expenditure to protect Environment (Bn)</th>\n",
              "      <th>log_GDP</th>\n",
              "      <th>log_Carbon Emission</th>\n",
              "      <th>log_Energy Consumption</th>\n",
              "      <th>log_Expenditure to protect Environment</th>\n",
              "      <th>GDP_1st_diff</th>\n",
              "      <th>Energy Consumption_1st_diff</th>\n",
              "    </tr>\n",
              "  </thead>\n",
              "  <tbody>\n",
              "    <tr>\n",
              "      <th>0</th>\n",
              "      <td>1980</td>\n",
              "      <td>1455.2541</td>\n",
              "      <td>1.05</td>\n",
              "      <td>2983.644860</td>\n",
              "      <td>30.25</td>\n",
              "      <td>7.282936</td>\n",
              "      <td>0.048790</td>\n",
              "      <td>8.000901</td>\n",
              "      <td>3.409496</td>\n",
              "      <td>NaN</td>\n",
              "      <td>NaN</td>\n",
              "    </tr>\n",
              "    <tr>\n",
              "      <th>1</th>\n",
              "      <td>1981</td>\n",
              "      <td>1546.4587</td>\n",
              "      <td>1.25</td>\n",
              "      <td>3261.214953</td>\n",
              "      <td>42.25</td>\n",
              "      <td>7.343723</td>\n",
              "      <td>0.223144</td>\n",
              "      <td>8.089855</td>\n",
              "      <td>3.743604</td>\n",
              "      <td>0.060787</td>\n",
              "      <td>0.088954</td>\n",
              "    </tr>\n",
              "    <tr>\n",
              "      <th>2</th>\n",
              "      <td>1982</td>\n",
              "      <td>1645.4587</td>\n",
              "      <td>1.04</td>\n",
              "      <td>3379.906542</td>\n",
              "      <td>45.12</td>\n",
              "      <td>7.405774</td>\n",
              "      <td>0.039221</td>\n",
              "      <td>8.125603</td>\n",
              "      <td>3.809326</td>\n",
              "      <td>0.062052</td>\n",
              "      <td>0.035748</td>\n",
              "    </tr>\n",
              "    <tr>\n",
              "      <th>3</th>\n",
              "      <td>1983</td>\n",
              "      <td>1785.6587</td>\n",
              "      <td>1.35</td>\n",
              "      <td>3668.224299</td>\n",
              "      <td>48.21</td>\n",
              "      <td>7.487543</td>\n",
              "      <td>0.300105</td>\n",
              "      <td>8.207463</td>\n",
              "      <td>3.875566</td>\n",
              "      <td>0.081768</td>\n",
              "      <td>0.081860</td>\n",
              "    </tr>\n",
              "    <tr>\n",
              "      <th>4</th>\n",
              "      <td>1984</td>\n",
              "      <td>1745.6541</td>\n",
              "      <td>1.64</td>\n",
              "      <td>3759.345794</td>\n",
              "      <td>60.25</td>\n",
              "      <td>7.464885</td>\n",
              "      <td>0.494696</td>\n",
              "      <td>8.232000</td>\n",
              "      <td>4.098503</td>\n",
              "      <td>-0.022658</td>\n",
              "      <td>0.024537</td>\n",
              "    </tr>\n",
              "  </tbody>\n",
              "</table>\n",
              "</div>\n",
              "      <button class=\"colab-df-convert\" onclick=\"convertToInteractive('df-7cdbbbf1-4ea7-4bad-b3c7-de93f19b30ca')\"\n",
              "              title=\"Convert this dataframe to an interactive table.\"\n",
              "              style=\"display:none;\">\n",
              "        \n",
              "  <svg xmlns=\"http://www.w3.org/2000/svg\" height=\"24px\"viewBox=\"0 0 24 24\"\n",
              "       width=\"24px\">\n",
              "    <path d=\"M0 0h24v24H0V0z\" fill=\"none\"/>\n",
              "    <path d=\"M18.56 5.44l.94 2.06.94-2.06 2.06-.94-2.06-.94-.94-2.06-.94 2.06-2.06.94zm-11 1L8.5 8.5l.94-2.06 2.06-.94-2.06-.94L8.5 2.5l-.94 2.06-2.06.94zm10 10l.94 2.06.94-2.06 2.06-.94-2.06-.94-.94-2.06-.94 2.06-2.06.94z\"/><path d=\"M17.41 7.96l-1.37-1.37c-.4-.4-.92-.59-1.43-.59-.52 0-1.04.2-1.43.59L10.3 9.45l-7.72 7.72c-.78.78-.78 2.05 0 2.83L4 21.41c.39.39.9.59 1.41.59.51 0 1.02-.2 1.41-.59l7.78-7.78 2.81-2.81c.8-.78.8-2.07 0-2.86zM5.41 20L4 18.59l7.72-7.72 1.47 1.35L5.41 20z\"/>\n",
              "  </svg>\n",
              "      </button>\n",
              "      \n",
              "  <style>\n",
              "    .colab-df-container {\n",
              "      display:flex;\n",
              "      flex-wrap:wrap;\n",
              "      gap: 12px;\n",
              "    }\n",
              "\n",
              "    .colab-df-convert {\n",
              "      background-color: #E8F0FE;\n",
              "      border: none;\n",
              "      border-radius: 50%;\n",
              "      cursor: pointer;\n",
              "      display: none;\n",
              "      fill: #1967D2;\n",
              "      height: 32px;\n",
              "      padding: 0 0 0 0;\n",
              "      width: 32px;\n",
              "    }\n",
              "\n",
              "    .colab-df-convert:hover {\n",
              "      background-color: #E2EBFA;\n",
              "      box-shadow: 0px 1px 2px rgba(60, 64, 67, 0.3), 0px 1px 3px 1px rgba(60, 64, 67, 0.15);\n",
              "      fill: #174EA6;\n",
              "    }\n",
              "\n",
              "    [theme=dark] .colab-df-convert {\n",
              "      background-color: #3B4455;\n",
              "      fill: #D2E3FC;\n",
              "    }\n",
              "\n",
              "    [theme=dark] .colab-df-convert:hover {\n",
              "      background-color: #434B5C;\n",
              "      box-shadow: 0px 1px 3px 1px rgba(0, 0, 0, 0.15);\n",
              "      filter: drop-shadow(0px 1px 2px rgba(0, 0, 0, 0.3));\n",
              "      fill: #FFFFFF;\n",
              "    }\n",
              "  </style>\n",
              "\n",
              "      <script>\n",
              "        const buttonEl =\n",
              "          document.querySelector('#df-7cdbbbf1-4ea7-4bad-b3c7-de93f19b30ca button.colab-df-convert');\n",
              "        buttonEl.style.display =\n",
              "          google.colab.kernel.accessAllowed ? 'block' : 'none';\n",
              "\n",
              "        async function convertToInteractive(key) {\n",
              "          const element = document.querySelector('#df-7cdbbbf1-4ea7-4bad-b3c7-de93f19b30ca');\n",
              "          const dataTable =\n",
              "            await google.colab.kernel.invokeFunction('convertToInteractive',\n",
              "                                                     [key], {});\n",
              "          if (!dataTable) return;\n",
              "\n",
              "          const docLinkHtml = 'Like what you see? Visit the ' +\n",
              "            '<a target=\"_blank\" href=https://colab.research.google.com/notebooks/data_table.ipynb>data table notebook</a>'\n",
              "            + ' to learn more about interactive tables.';\n",
              "          element.innerHTML = '';\n",
              "          dataTable['output_type'] = 'display_data';\n",
              "          await google.colab.output.renderOutput(dataTable, element);\n",
              "          const docLink = document.createElement('div');\n",
              "          docLink.innerHTML = docLinkHtml;\n",
              "          element.appendChild(docLink);\n",
              "        }\n",
              "      </script>\n",
              "    </div>\n",
              "  </div>\n",
              "  "
            ]
          },
          "metadata": {},
          "execution_count": 119
        }
      ]
    },
    {
      "cell_type": "code",
      "execution_count": null,
      "id": "7aaec6e8",
      "metadata": {
        "id": "7aaec6e8",
        "colab": {
          "base_uri": "https://localhost:8080/"
        },
        "outputId": "b100e796-bc21-467a-e8b2-6ca6754f34f5"
      },
      "outputs": [
        {
          "output_type": "execute_result",
          "data": {
            "text/plain": [
              "(-6.33034734652821,\n",
              " 2.916742591462323e-08,\n",
              " 0,\n",
              " 41,\n",
              " {'1%': -3.60098336718852,\n",
              "  '5%': -2.9351348158036012,\n",
              "  '10%': -2.6059629803688282},\n",
              " -75.82514742592936)"
            ]
          },
          "metadata": {},
          "execution_count": 120
        }
      ],
      "source": [
        "from statsmodels.tsa.stattools import adfuller\n",
        "\n",
        "#perform augmented Dickey-Fuller test\n",
        "adfuller(df['GDP_1st_diff'].dropna(), regression='c')"
      ]
    },
    {
      "cell_type": "code",
      "execution_count": null,
      "id": "a630fd55",
      "metadata": {
        "id": "a630fd55"
      },
      "outputs": [],
      "source": [
        "# adfuller(df['Carbon Emission_1st_diff'].dropna(), regression='ctt')"
      ]
    },
    {
      "cell_type": "code",
      "source": [
        "adfuller(df['Energy Consumption_1st_diff'].dropna(), regression='ctt')"
      ],
      "metadata": {
        "id": "m7Y6s5w7yjb_",
        "colab": {
          "base_uri": "https://localhost:8080/"
        },
        "outputId": "4f202ba1-96b4-4256-bac1-cff853b82cd6"
      },
      "id": "m7Y6s5w7yjb_",
      "execution_count": null,
      "outputs": [
        {
          "output_type": "execute_result",
          "data": {
            "text/plain": [
              "(-4.69322936450123,\n",
              " 0.0032892216062165697,\n",
              " 2,\n",
              " 39,\n",
              " {'1%': -4.697444337733272,\n",
              "  '5%': -3.9940239402215143,\n",
              "  '10%': -3.651647322780222},\n",
              " -86.1927764358843)"
            ]
          },
          "metadata": {},
          "execution_count": 122
        }
      ]
    },
    {
      "cell_type": "code",
      "source": [
        "# adfuller(df['Expenditure to protect Environment_1st_diff'].dropna())"
      ],
      "metadata": {
        "id": "WyhsCg-byjdS"
      },
      "id": "WyhsCg-byjdS",
      "execution_count": null,
      "outputs": []
    },
    {
      "cell_type": "code",
      "execution_count": null,
      "metadata": {
        "id": "vz_xHkv9zFd6"
      },
      "outputs": [],
      "source": [
        "# df['Carbon Emission_2nd_diff'] = df['log_Carbon Emission'] - df['log_Carbon Emission'].shift(2)"
      ],
      "id": "vz_xHkv9zFd6"
    },
    {
      "cell_type": "code",
      "execution_count": null,
      "metadata": {
        "id": "25Vyj80RzFd7"
      },
      "outputs": [],
      "source": [
        "# df['Energy Consumption_2nd_diff'] = df['log_Energy Consumption'] - df['log_Energy Consumption'].shift(2)"
      ],
      "id": "25Vyj80RzFd7"
    },
    {
      "cell_type": "code",
      "source": [
        "# adfuller(df['Carbon Emission_2nd_diff'].dropna())"
      ],
      "metadata": {
        "id": "3dNNfUlKzSNB"
      },
      "id": "3dNNfUlKzSNB",
      "execution_count": null,
      "outputs": []
    },
    {
      "cell_type": "code",
      "source": [
        "# adfuller(df['Energy Consumption_2nd_diff'].dropna())"
      ],
      "metadata": {
        "id": "eNVP2EcbzSUq"
      },
      "id": "eNVP2EcbzSUq",
      "execution_count": null,
      "outputs": []
    },
    {
      "cell_type": "code",
      "source": [],
      "metadata": {
        "id": "qxWLHN3U7gXi"
      },
      "id": "qxWLHN3U7gXi",
      "execution_count": null,
      "outputs": []
    },
    {
      "cell_type": "markdown",
      "source": [
        "ARDL Model Implemetation"
      ],
      "metadata": {
        "id": "9IAS6REK7hQi"
      },
      "id": "9IAS6REK7hQi"
    },
    {
      "cell_type": "code",
      "source": [
        "import statsmodels.api as sm"
      ],
      "metadata": {
        "id": "5XCsNeGz7mGt"
      },
      "id": "5XCsNeGz7mGt",
      "execution_count": null,
      "outputs": []
    },
    {
      "cell_type": "code",
      "source": [
        "df.head()"
      ],
      "metadata": {
        "colab": {
          "base_uri": "https://localhost:8080/",
          "height": 302
        },
        "id": "XTWC949L76Vw",
        "outputId": "842b8d56-24a6-40a8-98f5-b4c2d1a1f71f"
      },
      "id": "XTWC949L76Vw",
      "execution_count": null,
      "outputs": [
        {
          "output_type": "execute_result",
          "data": {
            "text/plain": [
              "   Year   GDP (Bn)  Carbon Emission (Metric tons)  Energy Consumption (Kwh)  \\\n",
              "0  1980  1455.2541                           1.05               2983.644860   \n",
              "1  1981  1546.4587                           1.25               3261.214953   \n",
              "2  1982  1645.4587                           1.04               3379.906542   \n",
              "3  1983  1785.6587                           1.35               3668.224299   \n",
              "4  1984  1745.6541                           1.64               3759.345794   \n",
              "\n",
              "   Expenditure to protect Environment (Bn)   log_GDP  log_Carbon Emission  \\\n",
              "0                                    30.25  7.282936             0.048790   \n",
              "1                                    42.25  7.343723             0.223144   \n",
              "2                                    45.12  7.405774             0.039221   \n",
              "3                                    48.21  7.487543             0.300105   \n",
              "4                                    60.25  7.464885             0.494696   \n",
              "\n",
              "   log_Energy Consumption  log_Expenditure to protect Environment  \\\n",
              "0                8.000901                                3.409496   \n",
              "1                8.089855                                3.743604   \n",
              "2                8.125603                                3.809326   \n",
              "3                8.207463                                3.875566   \n",
              "4                8.232000                                4.098503   \n",
              "\n",
              "   GDP_1st_diff  Energy Consumption_1st_diff  \n",
              "0           NaN                          NaN  \n",
              "1      0.060787                     0.088954  \n",
              "2      0.062052                     0.035748  \n",
              "3      0.081768                     0.081860  \n",
              "4     -0.022658                     0.024537  "
            ],
            "text/html": [
              "\n",
              "  <div id=\"df-ebcf1ea5-ef62-49fc-abe2-887b4e0b9004\">\n",
              "    <div class=\"colab-df-container\">\n",
              "      <div>\n",
              "<style scoped>\n",
              "    .dataframe tbody tr th:only-of-type {\n",
              "        vertical-align: middle;\n",
              "    }\n",
              "\n",
              "    .dataframe tbody tr th {\n",
              "        vertical-align: top;\n",
              "    }\n",
              "\n",
              "    .dataframe thead th {\n",
              "        text-align: right;\n",
              "    }\n",
              "</style>\n",
              "<table border=\"1\" class=\"dataframe\">\n",
              "  <thead>\n",
              "    <tr style=\"text-align: right;\">\n",
              "      <th></th>\n",
              "      <th>Year</th>\n",
              "      <th>GDP (Bn)</th>\n",
              "      <th>Carbon Emission (Metric tons)</th>\n",
              "      <th>Energy Consumption (Kwh)</th>\n",
              "      <th>Expenditure to protect Environment (Bn)</th>\n",
              "      <th>log_GDP</th>\n",
              "      <th>log_Carbon Emission</th>\n",
              "      <th>log_Energy Consumption</th>\n",
              "      <th>log_Expenditure to protect Environment</th>\n",
              "      <th>GDP_1st_diff</th>\n",
              "      <th>Energy Consumption_1st_diff</th>\n",
              "    </tr>\n",
              "  </thead>\n",
              "  <tbody>\n",
              "    <tr>\n",
              "      <th>0</th>\n",
              "      <td>1980</td>\n",
              "      <td>1455.2541</td>\n",
              "      <td>1.05</td>\n",
              "      <td>2983.644860</td>\n",
              "      <td>30.25</td>\n",
              "      <td>7.282936</td>\n",
              "      <td>0.048790</td>\n",
              "      <td>8.000901</td>\n",
              "      <td>3.409496</td>\n",
              "      <td>NaN</td>\n",
              "      <td>NaN</td>\n",
              "    </tr>\n",
              "    <tr>\n",
              "      <th>1</th>\n",
              "      <td>1981</td>\n",
              "      <td>1546.4587</td>\n",
              "      <td>1.25</td>\n",
              "      <td>3261.214953</td>\n",
              "      <td>42.25</td>\n",
              "      <td>7.343723</td>\n",
              "      <td>0.223144</td>\n",
              "      <td>8.089855</td>\n",
              "      <td>3.743604</td>\n",
              "      <td>0.060787</td>\n",
              "      <td>0.088954</td>\n",
              "    </tr>\n",
              "    <tr>\n",
              "      <th>2</th>\n",
              "      <td>1982</td>\n",
              "      <td>1645.4587</td>\n",
              "      <td>1.04</td>\n",
              "      <td>3379.906542</td>\n",
              "      <td>45.12</td>\n",
              "      <td>7.405774</td>\n",
              "      <td>0.039221</td>\n",
              "      <td>8.125603</td>\n",
              "      <td>3.809326</td>\n",
              "      <td>0.062052</td>\n",
              "      <td>0.035748</td>\n",
              "    </tr>\n",
              "    <tr>\n",
              "      <th>3</th>\n",
              "      <td>1983</td>\n",
              "      <td>1785.6587</td>\n",
              "      <td>1.35</td>\n",
              "      <td>3668.224299</td>\n",
              "      <td>48.21</td>\n",
              "      <td>7.487543</td>\n",
              "      <td>0.300105</td>\n",
              "      <td>8.207463</td>\n",
              "      <td>3.875566</td>\n",
              "      <td>0.081768</td>\n",
              "      <td>0.081860</td>\n",
              "    </tr>\n",
              "    <tr>\n",
              "      <th>4</th>\n",
              "      <td>1984</td>\n",
              "      <td>1745.6541</td>\n",
              "      <td>1.64</td>\n",
              "      <td>3759.345794</td>\n",
              "      <td>60.25</td>\n",
              "      <td>7.464885</td>\n",
              "      <td>0.494696</td>\n",
              "      <td>8.232000</td>\n",
              "      <td>4.098503</td>\n",
              "      <td>-0.022658</td>\n",
              "      <td>0.024537</td>\n",
              "    </tr>\n",
              "  </tbody>\n",
              "</table>\n",
              "</div>\n",
              "      <button class=\"colab-df-convert\" onclick=\"convertToInteractive('df-ebcf1ea5-ef62-49fc-abe2-887b4e0b9004')\"\n",
              "              title=\"Convert this dataframe to an interactive table.\"\n",
              "              style=\"display:none;\">\n",
              "        \n",
              "  <svg xmlns=\"http://www.w3.org/2000/svg\" height=\"24px\"viewBox=\"0 0 24 24\"\n",
              "       width=\"24px\">\n",
              "    <path d=\"M0 0h24v24H0V0z\" fill=\"none\"/>\n",
              "    <path d=\"M18.56 5.44l.94 2.06.94-2.06 2.06-.94-2.06-.94-.94-2.06-.94 2.06-2.06.94zm-11 1L8.5 8.5l.94-2.06 2.06-.94-2.06-.94L8.5 2.5l-.94 2.06-2.06.94zm10 10l.94 2.06.94-2.06 2.06-.94-2.06-.94-.94-2.06-.94 2.06-2.06.94z\"/><path d=\"M17.41 7.96l-1.37-1.37c-.4-.4-.92-.59-1.43-.59-.52 0-1.04.2-1.43.59L10.3 9.45l-7.72 7.72c-.78.78-.78 2.05 0 2.83L4 21.41c.39.39.9.59 1.41.59.51 0 1.02-.2 1.41-.59l7.78-7.78 2.81-2.81c.8-.78.8-2.07 0-2.86zM5.41 20L4 18.59l7.72-7.72 1.47 1.35L5.41 20z\"/>\n",
              "  </svg>\n",
              "      </button>\n",
              "      \n",
              "  <style>\n",
              "    .colab-df-container {\n",
              "      display:flex;\n",
              "      flex-wrap:wrap;\n",
              "      gap: 12px;\n",
              "    }\n",
              "\n",
              "    .colab-df-convert {\n",
              "      background-color: #E8F0FE;\n",
              "      border: none;\n",
              "      border-radius: 50%;\n",
              "      cursor: pointer;\n",
              "      display: none;\n",
              "      fill: #1967D2;\n",
              "      height: 32px;\n",
              "      padding: 0 0 0 0;\n",
              "      width: 32px;\n",
              "    }\n",
              "\n",
              "    .colab-df-convert:hover {\n",
              "      background-color: #E2EBFA;\n",
              "      box-shadow: 0px 1px 2px rgba(60, 64, 67, 0.3), 0px 1px 3px 1px rgba(60, 64, 67, 0.15);\n",
              "      fill: #174EA6;\n",
              "    }\n",
              "\n",
              "    [theme=dark] .colab-df-convert {\n",
              "      background-color: #3B4455;\n",
              "      fill: #D2E3FC;\n",
              "    }\n",
              "\n",
              "    [theme=dark] .colab-df-convert:hover {\n",
              "      background-color: #434B5C;\n",
              "      box-shadow: 0px 1px 3px 1px rgba(0, 0, 0, 0.15);\n",
              "      filter: drop-shadow(0px 1px 2px rgba(0, 0, 0, 0.3));\n",
              "      fill: #FFFFFF;\n",
              "    }\n",
              "  </style>\n",
              "\n",
              "      <script>\n",
              "        const buttonEl =\n",
              "          document.querySelector('#df-ebcf1ea5-ef62-49fc-abe2-887b4e0b9004 button.colab-df-convert');\n",
              "        buttonEl.style.display =\n",
              "          google.colab.kernel.accessAllowed ? 'block' : 'none';\n",
              "\n",
              "        async function convertToInteractive(key) {\n",
              "          const element = document.querySelector('#df-ebcf1ea5-ef62-49fc-abe2-887b4e0b9004');\n",
              "          const dataTable =\n",
              "            await google.colab.kernel.invokeFunction('convertToInteractive',\n",
              "                                                     [key], {});\n",
              "          if (!dataTable) return;\n",
              "\n",
              "          const docLinkHtml = 'Like what you see? Visit the ' +\n",
              "            '<a target=\"_blank\" href=https://colab.research.google.com/notebooks/data_table.ipynb>data table notebook</a>'\n",
              "            + ' to learn more about interactive tables.';\n",
              "          element.innerHTML = '';\n",
              "          dataTable['output_type'] = 'display_data';\n",
              "          await google.colab.output.renderOutput(dataTable, element);\n",
              "          const docLink = document.createElement('div');\n",
              "          docLink.innerHTML = docLinkHtml;\n",
              "          element.appendChild(docLink);\n",
              "        }\n",
              "      </script>\n",
              "    </div>\n",
              "  </div>\n",
              "  "
            ]
          },
          "metadata": {},
          "execution_count": 129
        }
      ]
    },
    {
      "cell_type": "code",
      "source": [
        "from statsmodels.tsa.api import ARDL\n",
        "from statsmodels.datasets import danish_data\n",
        "\n",
        "def ardl(data, y):\n",
        "    exog = data[[\"log_GDP\", \"log_Energy Consumption\"]]\n",
        "    model = ARDL(data[y], 3, exog, 3)\n",
        "    ardl_model = model.fit()\n",
        "    return ardl_model.summary()"
      ],
      "metadata": {
        "id": "ecoG9lAJ86e5"
      },
      "id": "ecoG9lAJ86e5",
      "execution_count": null,
      "outputs": []
    },
    {
      "cell_type": "code",
      "source": [
        "ardl(df, 'log_GDP')"
      ],
      "metadata": {
        "colab": {
          "base_uri": "https://localhost:8080/",
          "height": 463
        },
        "id": "xQAYrUUCCV1f",
        "outputId": "2b7221be-993f-4a2e-8a9b-e9f00a1e2958"
      },
      "id": "xQAYrUUCCV1f",
      "execution_count": null,
      "outputs": [
        {
          "output_type": "execute_result",
          "data": {
            "text/plain": [
              "<class 'statsmodels.iolib.summary.Summary'>\n",
              "\"\"\"\n",
              "                              ARDL Model Results                              \n",
              "==============================================================================\n",
              "Dep. Variable:                log_GDP   No. Observations:                   43\n",
              "Model:                  ARDL(3, 3, 3)   Log Likelihood                1117.256\n",
              "Method:               Conditional MLE   S.D. of innovations              0.000\n",
              "Date:                Thu, 16 Mar 2023   AIC                          -2208.512\n",
              "Time:                        10:51:16   BIC                          -2186.557\n",
              "Sample:                             3   HQIC                         -2200.574\n",
              "                                   43                                         \n",
              "=============================================================================================\n",
              "                                coef    std err          z      P>|z|      [0.025      0.975]\n",
              "---------------------------------------------------------------------------------------------\n",
              "const                      3.553e-15   1.69e-12      0.002      0.998   -3.46e-12    3.46e-12\n",
              "log_GDP.L1                 1.332e-15    3.5e-13      0.004      0.997   -7.16e-13    7.19e-13\n",
              "log_GDP.L2                -8.438e-15    3.5e-13     -0.024      0.981   -7.25e-13    7.08e-13\n",
              "log_GDP.L3                 4.441e-15    3.2e-13      0.014      0.989   -6.52e-13    6.61e-13\n",
              "log_GDP.L0                    1.0000   5.62e-13   1.78e+12      0.000       1.000       1.000\n",
              "log_GDP.L1                -3.553e-15    3.5e-13     -0.010      0.992   -7.21e-13    7.14e-13\n",
              "log_GDP.L2                -8.882e-15    3.5e-13     -0.025      0.980   -7.25e-13    7.08e-13\n",
              "log_GDP.L3                 4.441e-16    3.2e-13      0.001      0.999   -6.56e-13    6.57e-13\n",
              "log_Energy Consumption.L0  3.553e-15   6.79e-13      0.005      0.996   -1.39e-12     1.4e-12\n",
              "log_Energy Consumption.L1          0   8.25e-13          0      1.000   -1.69e-12    1.69e-12\n",
              "log_Energy Consumption.L2 -3.553e-15   8.76e-13     -0.004      0.997    -1.8e-12    1.79e-12\n",
              "log_Energy Consumption.L3 -3.553e-15   8.36e-13     -0.004      0.997   -1.72e-12    1.71e-12\n",
              "=============================================================================================\n",
              "\"\"\""
            ],
            "text/html": [
              "<table class=\"simpletable\">\n",
              "<caption>ARDL Model Results</caption>\n",
              "<tr>\n",
              "  <th>Dep. Variable:</th>      <td>log_GDP</td>     <th>  No. Observations:  </th>    <td>43</td>    \n",
              "</tr>\n",
              "<tr>\n",
              "  <th>Model:</th>           <td>ARDL(3, 3, 3)</td>  <th>  Log Likelihood     </th> <td>1117.256</td> \n",
              "</tr>\n",
              "<tr>\n",
              "  <th>Method:</th>         <td>Conditional MLE</td> <th>  S.D. of innovations</th>   <td>0.000</td>  \n",
              "</tr>\n",
              "<tr>\n",
              "  <th>Date:</th>          <td>Thu, 16 Mar 2023</td> <th>  AIC                </th> <td>-2208.512</td>\n",
              "</tr>\n",
              "<tr>\n",
              "  <th>Time:</th>              <td>10:51:16</td>     <th>  BIC                </th> <td>-2186.557</td>\n",
              "</tr>\n",
              "<tr>\n",
              "  <th>Sample:</th>                <td>3</td>        <th>  HQIC               </th> <td>-2200.574</td>\n",
              "</tr>\n",
              "<tr>\n",
              "  <th></th>                      <td>43</td>        <th>                     </th>     <td> </td>    \n",
              "</tr>\n",
              "</table>\n",
              "<table class=\"simpletable\">\n",
              "<tr>\n",
              "              <td></td>                 <th>coef</th>     <th>std err</th>      <th>z</th>      <th>P>|z|</th>  <th>[0.025</th>    <th>0.975]</th>  \n",
              "</tr>\n",
              "<tr>\n",
              "  <th>const</th>                     <td> 3.553e-15</td> <td> 1.69e-12</td> <td>    0.002</td> <td> 0.998</td> <td>-3.46e-12</td> <td> 3.46e-12</td>\n",
              "</tr>\n",
              "<tr>\n",
              "  <th>log_GDP.L1</th>                <td> 1.332e-15</td> <td>  3.5e-13</td> <td>    0.004</td> <td> 0.997</td> <td>-7.16e-13</td> <td> 7.19e-13</td>\n",
              "</tr>\n",
              "<tr>\n",
              "  <th>log_GDP.L2</th>                <td>-8.438e-15</td> <td>  3.5e-13</td> <td>   -0.024</td> <td> 0.981</td> <td>-7.25e-13</td> <td> 7.08e-13</td>\n",
              "</tr>\n",
              "<tr>\n",
              "  <th>log_GDP.L3</th>                <td> 4.441e-15</td> <td>  3.2e-13</td> <td>    0.014</td> <td> 0.989</td> <td>-6.52e-13</td> <td> 6.61e-13</td>\n",
              "</tr>\n",
              "<tr>\n",
              "  <th>log_GDP.L0</th>                <td>    1.0000</td> <td> 5.62e-13</td> <td> 1.78e+12</td> <td> 0.000</td> <td>    1.000</td> <td>    1.000</td>\n",
              "</tr>\n",
              "<tr>\n",
              "  <th>log_GDP.L1</th>                <td>-3.553e-15</td> <td>  3.5e-13</td> <td>   -0.010</td> <td> 0.992</td> <td>-7.21e-13</td> <td> 7.14e-13</td>\n",
              "</tr>\n",
              "<tr>\n",
              "  <th>log_GDP.L2</th>                <td>-8.882e-15</td> <td>  3.5e-13</td> <td>   -0.025</td> <td> 0.980</td> <td>-7.25e-13</td> <td> 7.08e-13</td>\n",
              "</tr>\n",
              "<tr>\n",
              "  <th>log_GDP.L3</th>                <td> 4.441e-16</td> <td>  3.2e-13</td> <td>    0.001</td> <td> 0.999</td> <td>-6.56e-13</td> <td> 6.57e-13</td>\n",
              "</tr>\n",
              "<tr>\n",
              "  <th>log_Energy Consumption.L0</th> <td> 3.553e-15</td> <td> 6.79e-13</td> <td>    0.005</td> <td> 0.996</td> <td>-1.39e-12</td> <td>  1.4e-12</td>\n",
              "</tr>\n",
              "<tr>\n",
              "  <th>log_Energy Consumption.L1</th> <td>         0</td> <td> 8.25e-13</td> <td>        0</td> <td> 1.000</td> <td>-1.69e-12</td> <td> 1.69e-12</td>\n",
              "</tr>\n",
              "<tr>\n",
              "  <th>log_Energy Consumption.L2</th> <td>-3.553e-15</td> <td> 8.76e-13</td> <td>   -0.004</td> <td> 0.997</td> <td> -1.8e-12</td> <td> 1.79e-12</td>\n",
              "</tr>\n",
              "<tr>\n",
              "  <th>log_Energy Consumption.L3</th> <td>-3.553e-15</td> <td> 8.36e-13</td> <td>   -0.004</td> <td> 0.997</td> <td>-1.72e-12</td> <td> 1.71e-12</td>\n",
              "</tr>\n",
              "</table>"
            ]
          },
          "metadata": {},
          "execution_count": 174
        }
      ]
    },
    {
      "cell_type": "code",
      "source": [
        "ardl(df, 'log_Energy Consumption')"
      ],
      "metadata": {
        "colab": {
          "base_uri": "https://localhost:8080/",
          "height": 463
        },
        "id": "kU4i_NQlCQ4W",
        "outputId": "a6e36660-c25d-481e-c32c-7cf47d8199c7"
      },
      "id": "kU4i_NQlCQ4W",
      "execution_count": null,
      "outputs": [
        {
          "output_type": "execute_result",
          "data": {
            "text/plain": [
              "<class 'statsmodels.iolib.summary.Summary'>\n",
              "\"\"\"\n",
              "                                ARDL Model Results                                \n",
              "==================================================================================\n",
              "Dep. Variable:     log_Energy Consumption   No. Observations:                   43\n",
              "Model:                      ARDL(3, 3, 3)   Log Likelihood                1121.185\n",
              "Method:                   Conditional MLE   S.D. of innovations              0.000\n",
              "Date:                    Thu, 16 Mar 2023   AIC                          -2216.370\n",
              "Time:                            10:52:33   BIC                          -2194.415\n",
              "Sample:                                 3   HQIC                         -2208.432\n",
              "                                       43                                         \n",
              "=============================================================================================\n",
              "                                coef    std err          z      P>|z|      [0.025      0.975]\n",
              "---------------------------------------------------------------------------------------------\n",
              "const                      1.066e-14   1.53e-12      0.007      0.994   -3.13e-12    3.15e-12\n",
              "log_Energy Consumption.L1 -7.105e-15   3.74e-13     -0.019      0.985   -7.73e-13    7.58e-13\n",
              "log_Energy Consumption.L2 -3.553e-15   3.97e-13     -0.009      0.993   -8.16e-13    8.09e-13\n",
              "log_Energy Consumption.L3  5.329e-15   3.79e-13      0.014      0.989   -7.71e-13    7.81e-13\n",
              "log_GDP.L0                 3.553e-15   5.09e-13      0.007      0.994   -1.04e-12    1.05e-12\n",
              "log_GDP.L1                 1.776e-15   6.35e-13      0.003      0.998    -1.3e-12     1.3e-12\n",
              "log_GDP.L2                 5.329e-15   6.34e-13      0.008      0.993   -1.29e-12     1.3e-12\n",
              "log_GDP.L3                -1.332e-14   5.81e-13     -0.023      0.982    -1.2e-12    1.18e-12\n",
              "log_Energy Consumption.L0     1.0000   6.16e-13   1.62e+12      0.000       1.000       1.000\n",
              "log_Energy Consumption.L1          0   3.74e-13          0      1.000   -7.66e-13    7.66e-13\n",
              "log_Energy Consumption.L2 -1.066e-14   3.97e-13     -0.027      0.979   -8.24e-13    8.02e-13\n",
              "log_Energy Consumption.L3  7.105e-15   3.79e-13      0.019      0.985   -7.69e-13    7.83e-13\n",
              "=============================================================================================\n",
              "\"\"\""
            ],
            "text/html": [
              "<table class=\"simpletable\">\n",
              "<caption>ARDL Model Results</caption>\n",
              "<tr>\n",
              "  <th>Dep. Variable:</th> <td>log_Energy Consumption</td> <th>  No. Observations:  </th>    <td>43</td>    \n",
              "</tr>\n",
              "<tr>\n",
              "  <th>Model:</th>              <td>ARDL(3, 3, 3)</td>     <th>  Log Likelihood     </th> <td>1121.185</td> \n",
              "</tr>\n",
              "<tr>\n",
              "  <th>Method:</th>            <td>Conditional MLE</td>    <th>  S.D. of innovations</th>   <td>0.000</td>  \n",
              "</tr>\n",
              "<tr>\n",
              "  <th>Date:</th>             <td>Thu, 16 Mar 2023</td>    <th>  AIC                </th> <td>-2216.370</td>\n",
              "</tr>\n",
              "<tr>\n",
              "  <th>Time:</th>                 <td>10:52:33</td>        <th>  BIC                </th> <td>-2194.415</td>\n",
              "</tr>\n",
              "<tr>\n",
              "  <th>Sample:</th>                   <td>3</td>           <th>  HQIC               </th> <td>-2208.432</td>\n",
              "</tr>\n",
              "<tr>\n",
              "  <th></th>                         <td>43</td>           <th>                     </th>     <td> </td>    \n",
              "</tr>\n",
              "</table>\n",
              "<table class=\"simpletable\">\n",
              "<tr>\n",
              "              <td></td>                 <th>coef</th>     <th>std err</th>      <th>z</th>      <th>P>|z|</th>  <th>[0.025</th>    <th>0.975]</th>  \n",
              "</tr>\n",
              "<tr>\n",
              "  <th>const</th>                     <td> 1.066e-14</td> <td> 1.53e-12</td> <td>    0.007</td> <td> 0.994</td> <td>-3.13e-12</td> <td> 3.15e-12</td>\n",
              "</tr>\n",
              "<tr>\n",
              "  <th>log_Energy Consumption.L1</th> <td>-7.105e-15</td> <td> 3.74e-13</td> <td>   -0.019</td> <td> 0.985</td> <td>-7.73e-13</td> <td> 7.58e-13</td>\n",
              "</tr>\n",
              "<tr>\n",
              "  <th>log_Energy Consumption.L2</th> <td>-3.553e-15</td> <td> 3.97e-13</td> <td>   -0.009</td> <td> 0.993</td> <td>-8.16e-13</td> <td> 8.09e-13</td>\n",
              "</tr>\n",
              "<tr>\n",
              "  <th>log_Energy Consumption.L3</th> <td> 5.329e-15</td> <td> 3.79e-13</td> <td>    0.014</td> <td> 0.989</td> <td>-7.71e-13</td> <td> 7.81e-13</td>\n",
              "</tr>\n",
              "<tr>\n",
              "  <th>log_GDP.L0</th>                <td> 3.553e-15</td> <td> 5.09e-13</td> <td>    0.007</td> <td> 0.994</td> <td>-1.04e-12</td> <td> 1.05e-12</td>\n",
              "</tr>\n",
              "<tr>\n",
              "  <th>log_GDP.L1</th>                <td> 1.776e-15</td> <td> 6.35e-13</td> <td>    0.003</td> <td> 0.998</td> <td> -1.3e-12</td> <td>  1.3e-12</td>\n",
              "</tr>\n",
              "<tr>\n",
              "  <th>log_GDP.L2</th>                <td> 5.329e-15</td> <td> 6.34e-13</td> <td>    0.008</td> <td> 0.993</td> <td>-1.29e-12</td> <td>  1.3e-12</td>\n",
              "</tr>\n",
              "<tr>\n",
              "  <th>log_GDP.L3</th>                <td>-1.332e-14</td> <td> 5.81e-13</td> <td>   -0.023</td> <td> 0.982</td> <td> -1.2e-12</td> <td> 1.18e-12</td>\n",
              "</tr>\n",
              "<tr>\n",
              "  <th>log_Energy Consumption.L0</th> <td>    1.0000</td> <td> 6.16e-13</td> <td> 1.62e+12</td> <td> 0.000</td> <td>    1.000</td> <td>    1.000</td>\n",
              "</tr>\n",
              "<tr>\n",
              "  <th>log_Energy Consumption.L1</th> <td>         0</td> <td> 3.74e-13</td> <td>        0</td> <td> 1.000</td> <td>-7.66e-13</td> <td> 7.66e-13</td>\n",
              "</tr>\n",
              "<tr>\n",
              "  <th>log_Energy Consumption.L2</th> <td>-1.066e-14</td> <td> 3.97e-13</td> <td>   -0.027</td> <td> 0.979</td> <td>-8.24e-13</td> <td> 8.02e-13</td>\n",
              "</tr>\n",
              "<tr>\n",
              "  <th>log_Energy Consumption.L3</th> <td> 7.105e-15</td> <td> 3.79e-13</td> <td>    0.019</td> <td> 0.985</td> <td>-7.69e-13</td> <td> 7.83e-13</td>\n",
              "</tr>\n",
              "</table>"
            ]
          },
          "metadata": {},
          "execution_count": 187
        }
      ]
    },
    {
      "cell_type": "code",
      "execution_count": null,
      "id": "c7917a92",
      "metadata": {
        "id": "c7917a92"
      },
      "outputs": [],
      "source": [
        "#from statsmodels.tsa.stattools import adfuller\n",
        "\n",
        "#perform augmented Dickey-Fuller test\n",
        "#adfuller(df['Rev_Repo_Rate_1st_diff'].dropna())"
      ]
    },
    {
      "cell_type": "code",
      "execution_count": null,
      "id": "83e360a2",
      "metadata": {
        "id": "83e360a2"
      },
      "outputs": [],
      "source": [
        "#df.head()"
      ]
    },
    {
      "cell_type": "code",
      "execution_count": null,
      "id": "4933d69e",
      "metadata": {
        "id": "4933d69e"
      },
      "outputs": [],
      "source": [
        "# \n"
      ]
    },
    {
      "cell_type": "code",
      "execution_count": null,
      "id": "30d97826",
      "metadata": {
        "id": "30d97826"
      },
      "outputs": [],
      "source": [
        "# ARIMA Implementation"
      ]
    },
    {
      "cell_type": "code",
      "execution_count": null,
      "id": "42b3f5d3",
      "metadata": {
        "id": "42b3f5d3"
      },
      "outputs": [],
      "source": [
        "# from statsmodels.tsa.arima_model import ARIMA"
      ]
    },
    {
      "cell_type": "code",
      "source": [
        "# from statsmodels.tsa.arima.model import ARIMA\n",
        "# model = ARIMA(df['Inflation'], order=(2,1,1))\n",
        "# model_fit = model.fit()\n",
        "# model_fit.summary()"
      ],
      "metadata": {
        "id": "UYrzy60J6EIH"
      },
      "id": "UYrzy60J6EIH",
      "execution_count": null,
      "outputs": []
    },
    {
      "cell_type": "code",
      "source": [],
      "metadata": {
        "id": "doUxZsDy8X2A"
      },
      "id": "doUxZsDy8X2A",
      "execution_count": null,
      "outputs": []
    },
    {
      "cell_type": "code",
      "source": [],
      "metadata": {
        "id": "pehrOxo76WcL"
      },
      "id": "pehrOxo76WcL",
      "execution_count": null,
      "outputs": []
    },
    {
      "cell_type": "code",
      "source": [
        "# from statsmodels.tsa.arima.model import ARIMA\n",
        "# model = ARIMA(df['unemployment Rates'], order=(2,1,1))\n",
        "# model_fit = model.fit()\n",
        "# model_fit.summary()"
      ],
      "metadata": {
        "id": "cEpSWpje6kJw"
      },
      "id": "cEpSWpje6kJw",
      "execution_count": null,
      "outputs": []
    },
    {
      "cell_type": "code",
      "source": [
        "# from statsmodels.tsa.arima.model import ARIMA\n",
        "# model = ARIMA(df['Repo Rate'], order=(2,1,1))\n",
        "# model_fit = model.fit()\n",
        "# model_fit.summary()"
      ],
      "metadata": {
        "id": "wCGhhUj268uY"
      },
      "id": "wCGhhUj268uY",
      "execution_count": null,
      "outputs": []
    },
    {
      "cell_type": "code",
      "source": [],
      "metadata": {
        "id": "4tz0MzKV8Zh9"
      },
      "id": "4tz0MzKV8Zh9",
      "execution_count": null,
      "outputs": []
    },
    {
      "cell_type": "code",
      "source": [
        "# from statsmodels.tsa.arima.model import ARIMA\n",
        "# model = ARIMA(df['Inflation'], order=(3,1,1))\n",
        "# model_fit = model.fit()"
      ],
      "metadata": {
        "id": "OKT6BO-O8aE_"
      },
      "execution_count": null,
      "outputs": [],
      "id": "OKT6BO-O8aE_"
    },
    {
      "cell_type": "code",
      "source": [
        "# model_fit.summary()"
      ],
      "metadata": {
        "id": "g1JWI2kr8aFB"
      },
      "execution_count": null,
      "outputs": [],
      "id": "g1JWI2kr8aFB"
    },
    {
      "cell_type": "code",
      "source": [
        "# from statsmodels.tsa.arima.model import ARIMA\n",
        "# model = ARIMA(df['unemployment Rates'], order=(3,1,1))\n",
        "# model_fit = model.fit()\n",
        "# model_fit.summary()"
      ],
      "metadata": {
        "id": "NS9APSyo8aFC"
      },
      "execution_count": null,
      "outputs": [],
      "id": "NS9APSyo8aFC"
    },
    {
      "cell_type": "code",
      "source": [
        "# from statsmodels.tsa.arima.model import ARIMA\n",
        "# model = ARIMA(df['Repo Rate'], order=(3,1,1))\n",
        "# model_fit = model.fit()\n",
        "# model_fit.summary()"
      ],
      "metadata": {
        "id": "8osJkMpT8aFD"
      },
      "execution_count": null,
      "outputs": [],
      "id": "8osJkMpT8aFD"
    }
  ],
  "metadata": {
    "kernelspec": {
      "display_name": "Python 3 (ipykernel)",
      "language": "python",
      "name": "python3"
    },
    "language_info": {
      "codemirror_mode": {
        "name": "ipython",
        "version": 3
      },
      "file_extension": ".py",
      "mimetype": "text/x-python",
      "name": "python",
      "nbconvert_exporter": "python",
      "pygments_lexer": "ipython3",
      "version": "3.9.7"
    },
    "colab": {
      "provenance": []
    }
  },
  "nbformat": 4,
  "nbformat_minor": 5
}